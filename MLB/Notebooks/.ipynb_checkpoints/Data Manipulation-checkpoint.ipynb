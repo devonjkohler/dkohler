{
 "cells": [
  {
   "cell_type": "markdown",
   "metadata": {},
   "source": [
    "# Build Dataset"
   ]
  },
  {
   "cell_type": "markdown",
   "metadata": {},
   "source": [
    "## Ideas"
   ]
  },
  {
   "cell_type": "markdown",
   "metadata": {},
   "source": [
    "- Stadium\n",
    "- Weather\n",
    "- Historical\n",
    "    - Last x games\n",
    "    - Last x days\n",
    "    - Career\n",
    "    - Career vs pitcher (hitter)\n",
    "- Team stats\n",
    "    - Opp hitting\n",
    "    - Bullpen pitching\n",
    "    \n",
    "Game Directory\n",
    "\n",
    "- Home Team\n",
    "- Away Team\n",
    "- Starting Pitcher Stats\n",
    "    - general prefermance\n",
    "    - against hitter\n",
    "- Team Stats\n",
    "    - Defensive Stats??\n",
    "    - W/L??\n",
    "    - Team Batting Stats??\n",
    "- Month"
   ]
  },
  {
   "cell_type": "markdown",
   "metadata": {},
   "source": [
    "## Batter Exploration"
   ]
  },
  {
   "cell_type": "code",
   "execution_count": 1,
   "metadata": {},
   "outputs": [],
   "source": [
    "import pandas as pd\n",
    "import numpy as np\n",
    "import datetime as dt"
   ]
  },
  {
   "cell_type": "code",
   "execution_count": 2,
   "metadata": {},
   "outputs": [],
   "source": [
    "pd.set_option('display.max_columns', 500)"
   ]
  },
  {
   "cell_type": "code",
   "execution_count": 3,
   "metadata": {},
   "outputs": [],
   "source": [
    "batter_raw = pd.read_csv(r'..\\Data_Pull\\data_files\\reduced_data\\batter_raw_red.csv', index_col='Unnamed: 0', parse_dates = ['Date'])"
   ]
  },
  {
   "cell_type": "code",
   "execution_count": 4,
   "metadata": {},
   "outputs": [
    {
     "data": {
      "text/plain": [
       "166885"
      ]
     },
     "execution_count": 4,
     "metadata": {},
     "output_type": "execute_result"
    }
   ],
   "source": [
    "len(batter_raw)"
   ]
  },
  {
   "cell_type": "code",
   "execution_count": 50,
   "metadata": {},
   "outputs": [],
   "source": [
    "def gen_avg(df, stat, time_period, agg_type):\n",
    "    \n",
    "    \"\"\"\n",
    "    Function to average previous x amount of lines.\n",
    "    Requires dataframe to be sorted by time and player.\n",
    "    \n",
    "    Args\n",
    "    df - dataframe to loop over\n",
    "    stat - column to average\n",
    "    time_period - number of rows to average\n",
    "    agg_type - how to aggregate over time (sum/mean/count)\n",
    "    \"\"\"\n",
    "\n",
    "    ## Create new column\n",
    "    if time_period < 100000:\n",
    "        new_col_name = '{0}_{1}'.format(stat, str(time_period))\n",
    "    else:\n",
    "        new_col_name = '{0}_lifetime'.format(stat)\n",
    "    \n",
    "    ## Aggregate based on specified input\n",
    "    if agg_type in ['Sum', 'sum']:\n",
    "        df[new_col_name]=df.groupby('pid')[stat].apply(lambda x : x.shift().rolling(time_period, min_periods = 1).sum())\n",
    "    \n",
    "    elif agg_type in ['Mean', 'mean']:\n",
    "        df[new_col_name]=df.groupby('pid')[stat].apply(lambda x : x.shift().rolling(time_period, min_periods = 1).mean())\n",
    "        \n",
    "    elif agg_type in ['Sum', 'sum']:\n",
    "        df[new_col_name]=df.groupby('pid')[stat].apply(lambda x : x.shift().rolling(time_period, min_periods = 1).count())\n",
    "    \n",
    "    else:\n",
    "        print('Error: Enter Valid Aggregation Type')"
   ]
  },
  {
   "cell_type": "code",
   "execution_count": 28,
   "metadata": {},
   "outputs": [],
   "source": [
    "batter_raw.sort_values(['pid', 'Date'], inplace = True)\n",
    "batter_raw.reset_index(inplace = True, drop = True)"
   ]
  },
  {
   "cell_type": "code",
   "execution_count": 9,
   "metadata": {},
   "outputs": [
    {
     "data": {
      "text/html": [
       "<div>\n",
       "<style scoped>\n",
       "    .dataframe tbody tr th:only-of-type {\n",
       "        vertical-align: middle;\n",
       "    }\n",
       "\n",
       "    .dataframe tbody tr th {\n",
       "        vertical-align: top;\n",
       "    }\n",
       "\n",
       "    .dataframe thead th {\n",
       "        text-align: right;\n",
       "    }\n",
       "</style>\n",
       "<table border=\"1\" class=\"dataframe\">\n",
       "  <thead>\n",
       "    <tr style=\"text-align: right;\">\n",
       "      <th></th>\n",
       "      <th>Date</th>\n",
       "      <th>Team</th>\n",
       "      <th>Opp</th>\n",
       "      <th>BO</th>\n",
       "      <th>Pos</th>\n",
       "      <th>G</th>\n",
       "      <th>AB</th>\n",
       "      <th>PA</th>\n",
       "      <th>H</th>\n",
       "      <th>1B</th>\n",
       "      <th>2B</th>\n",
       "      <th>3B</th>\n",
       "      <th>HR</th>\n",
       "      <th>R</th>\n",
       "      <th>RBI</th>\n",
       "      <th>BB</th>\n",
       "      <th>IBB</th>\n",
       "      <th>SO</th>\n",
       "      <th>HBP</th>\n",
       "      <th>SF</th>\n",
       "      <th>SH</th>\n",
       "      <th>GDP</th>\n",
       "      <th>SB</th>\n",
       "      <th>CS</th>\n",
       "      <th>AVG</th>\n",
       "      <th>pid</th>\n",
       "      <th>AB_7</th>\n",
       "    </tr>\n",
       "  </thead>\n",
       "  <tbody>\n",
       "    <tr>\n",
       "      <th>0</th>\n",
       "      <td>2017-04-05</td>\n",
       "      <td>MIL</td>\n",
       "      <td>COL</td>\n",
       "      <td>9</td>\n",
       "      <td>P</td>\n",
       "      <td>1</td>\n",
       "      <td>0</td>\n",
       "      <td>0</td>\n",
       "      <td>0</td>\n",
       "      <td>0</td>\n",
       "      <td>0</td>\n",
       "      <td>0</td>\n",
       "      <td>0</td>\n",
       "      <td>0</td>\n",
       "      <td>0</td>\n",
       "      <td>0</td>\n",
       "      <td>0</td>\n",
       "      <td>0</td>\n",
       "      <td>0</td>\n",
       "      <td>0</td>\n",
       "      <td>0</td>\n",
       "      <td>0</td>\n",
       "      <td>0</td>\n",
       "      <td>0.0</td>\n",
       "      <td>0.0</td>\n",
       "      <td>18.0</td>\n",
       "      <td>NaN</td>\n",
       "    </tr>\n",
       "    <tr>\n",
       "      <th>1</th>\n",
       "      <td>2017-04-06</td>\n",
       "      <td>MIL</td>\n",
       "      <td>COL</td>\n",
       "      <td>9</td>\n",
       "      <td>P</td>\n",
       "      <td>1</td>\n",
       "      <td>0</td>\n",
       "      <td>0</td>\n",
       "      <td>0</td>\n",
       "      <td>0</td>\n",
       "      <td>0</td>\n",
       "      <td>0</td>\n",
       "      <td>0</td>\n",
       "      <td>0</td>\n",
       "      <td>0</td>\n",
       "      <td>0</td>\n",
       "      <td>0</td>\n",
       "      <td>0</td>\n",
       "      <td>0</td>\n",
       "      <td>0</td>\n",
       "      <td>0</td>\n",
       "      <td>0</td>\n",
       "      <td>0</td>\n",
       "      <td>0.0</td>\n",
       "      <td>0.0</td>\n",
       "      <td>18.0</td>\n",
       "      <td>0.0</td>\n",
       "    </tr>\n",
       "    <tr>\n",
       "      <th>2</th>\n",
       "      <td>2017-04-07</td>\n",
       "      <td>MIL</td>\n",
       "      <td>CHC</td>\n",
       "      <td>9</td>\n",
       "      <td>P</td>\n",
       "      <td>1</td>\n",
       "      <td>0</td>\n",
       "      <td>0</td>\n",
       "      <td>0</td>\n",
       "      <td>0</td>\n",
       "      <td>0</td>\n",
       "      <td>0</td>\n",
       "      <td>0</td>\n",
       "      <td>0</td>\n",
       "      <td>0</td>\n",
       "      <td>0</td>\n",
       "      <td>0</td>\n",
       "      <td>0</td>\n",
       "      <td>0</td>\n",
       "      <td>0</td>\n",
       "      <td>0</td>\n",
       "      <td>0</td>\n",
       "      <td>0</td>\n",
       "      <td>0.0</td>\n",
       "      <td>0.0</td>\n",
       "      <td>18.0</td>\n",
       "      <td>0.0</td>\n",
       "    </tr>\n",
       "    <tr>\n",
       "      <th>3</th>\n",
       "      <td>2017-04-11</td>\n",
       "      <td>MIL</td>\n",
       "      <td>@TOR</td>\n",
       "      <td>0</td>\n",
       "      <td>P</td>\n",
       "      <td>1</td>\n",
       "      <td>0</td>\n",
       "      <td>0</td>\n",
       "      <td>0</td>\n",
       "      <td>0</td>\n",
       "      <td>0</td>\n",
       "      <td>0</td>\n",
       "      <td>0</td>\n",
       "      <td>0</td>\n",
       "      <td>0</td>\n",
       "      <td>0</td>\n",
       "      <td>0</td>\n",
       "      <td>0</td>\n",
       "      <td>0</td>\n",
       "      <td>0</td>\n",
       "      <td>0</td>\n",
       "      <td>0</td>\n",
       "      <td>0</td>\n",
       "      <td>0.0</td>\n",
       "      <td>0.0</td>\n",
       "      <td>18.0</td>\n",
       "      <td>0.0</td>\n",
       "    </tr>\n",
       "    <tr>\n",
       "      <th>4</th>\n",
       "      <td>2017-04-12</td>\n",
       "      <td>MIL</td>\n",
       "      <td>@TOR</td>\n",
       "      <td>0</td>\n",
       "      <td>P</td>\n",
       "      <td>1</td>\n",
       "      <td>0</td>\n",
       "      <td>0</td>\n",
       "      <td>0</td>\n",
       "      <td>0</td>\n",
       "      <td>0</td>\n",
       "      <td>0</td>\n",
       "      <td>0</td>\n",
       "      <td>0</td>\n",
       "      <td>0</td>\n",
       "      <td>0</td>\n",
       "      <td>0</td>\n",
       "      <td>0</td>\n",
       "      <td>0</td>\n",
       "      <td>0</td>\n",
       "      <td>0</td>\n",
       "      <td>0</td>\n",
       "      <td>0</td>\n",
       "      <td>0.0</td>\n",
       "      <td>0.0</td>\n",
       "      <td>18.0</td>\n",
       "      <td>0.0</td>\n",
       "    </tr>\n",
       "  </tbody>\n",
       "</table>\n",
       "</div>"
      ],
      "text/plain": [
       "         Date Team   Opp  BO Pos  G  AB  PA  H  1B  2B  3B  HR  R  RBI  BB  \\\n",
       "0  2017-04-05  MIL   COL   9   P  1   0   0  0   0   0   0   0  0    0   0   \n",
       "1  2017-04-06  MIL   COL   9   P  1   0   0  0   0   0   0   0  0    0   0   \n",
       "2  2017-04-07  MIL   CHC   9   P  1   0   0  0   0   0   0   0  0    0   0   \n",
       "3  2017-04-11  MIL  @TOR   0   P  1   0   0  0   0   0   0   0  0    0   0   \n",
       "4  2017-04-12  MIL  @TOR   0   P  1   0   0  0   0   0   0   0  0    0   0   \n",
       "\n",
       "   IBB  SO  HBP  SF  SH  GDP  SB   CS  AVG   pid  AB_7  \n",
       "0    0   0    0   0   0    0   0  0.0  0.0  18.0   NaN  \n",
       "1    0   0    0   0   0    0   0  0.0  0.0  18.0   0.0  \n",
       "2    0   0    0   0   0    0   0  0.0  0.0  18.0   0.0  \n",
       "3    0   0    0   0   0    0   0  0.0  0.0  18.0   0.0  \n",
       "4    0   0    0   0   0    0   0  0.0  0.0  18.0   0.0  "
      ]
     },
     "execution_count": 9,
     "metadata": {},
     "output_type": "execute_result"
    }
   ],
   "source": [
    "batter_raw.head(5)"
   ]
  },
  {
   "cell_type": "code",
   "execution_count": 8,
   "metadata": {},
   "outputs": [],
   "source": [
    "gen_avg(batter_raw, 'AB', 7, 'sum')"
   ]
  },
  {
   "cell_type": "markdown",
   "metadata": {},
   "source": [
    "## General Info Parse"
   ]
  },
  {
   "cell_type": "code",
   "execution_count": 5,
   "metadata": {},
   "outputs": [],
   "source": [
    "gen_inf = pd.read_csv(r'../Data_Pull/data_files/general_info.csv', index_col='Unnamed: 0')"
   ]
  },
  {
   "cell_type": "code",
   "execution_count": 6,
   "metadata": {},
   "outputs": [
    {
     "data": {
      "text/html": [
       "<div>\n",
       "<style scoped>\n",
       "    .dataframe tbody tr th:only-of-type {\n",
       "        vertical-align: middle;\n",
       "    }\n",
       "\n",
       "    .dataframe tbody tr th {\n",
       "        vertical-align: top;\n",
       "    }\n",
       "\n",
       "    .dataframe thead th {\n",
       "        text-align: right;\n",
       "    }\n",
       "</style>\n",
       "<table border=\"1\" class=\"dataframe\">\n",
       "  <thead>\n",
       "    <tr style=\"text-align: right;\">\n",
       "      <th></th>\n",
       "      <th>Age</th>\n",
       "      <th>Bats/Throws</th>\n",
       "      <th>Birthdate</th>\n",
       "      <th>Height/Weight</th>\n",
       "      <th>Name</th>\n",
       "      <th>POS</th>\n",
       "      <th>pid</th>\n",
       "    </tr>\n",
       "  </thead>\n",
       "  <tbody>\n",
       "    <tr>\n",
       "      <td>0</td>\n",
       "      <td>Age: 41</td>\n",
       "      <td>Bats/Throws: B/R</td>\n",
       "      <td>1/16/1978 (41 y, 4 m, 20 d)</td>\n",
       "      <td>5' 11\" / 165</td>\n",
       "      <td>Alfredo Amezaga</td>\n",
       "      <td>OF</td>\n",
       "      <td>1.0</td>\n",
       "    </tr>\n",
       "    <tr>\n",
       "      <td>1</td>\n",
       "      <td>Age: 44</td>\n",
       "      <td>Bats/Throws: R/R</td>\n",
       "      <td>1/20/1975 (44 y, 4 m, 16 d)</td>\n",
       "      <td>5' 7\" / 177</td>\n",
       "      <td>David Eckstein</td>\n",
       "      <td>SS</td>\n",
       "      <td>10.0</td>\n",
       "    </tr>\n",
       "    <tr>\n",
       "      <td>2</td>\n",
       "      <td>Age: 48</td>\n",
       "      <td>Bats/Throws: R/R</td>\n",
       "      <td>5/11/1971 (48 y, 25 d)</td>\n",
       "      <td>6' 2\" / 220</td>\n",
       "      <td>Kerry Ligtenberg</td>\n",
       "      <td>P</td>\n",
       "      <td>100.0</td>\n",
       "    </tr>\n",
       "    <tr>\n",
       "      <td>3</td>\n",
       "      <td>Age: 50</td>\n",
       "      <td>Bats/Throws: R/R</td>\n",
       "      <td>10/22/1968 (50 y, 7 m, 14 d)</td>\n",
       "      <td>6' 0\" / 200</td>\n",
       "      <td>Keith Osik</td>\n",
       "      <td>C</td>\n",
       "      <td>1001.0</td>\n",
       "    </tr>\n",
       "    <tr>\n",
       "      <td>4</td>\n",
       "      <td>Age: 31</td>\n",
       "      <td>Bats/Throws: R/R</td>\n",
       "      <td>6/18/1987 (31 y, 11 m, 18 d)</td>\n",
       "      <td>6' 5\" / 225</td>\n",
       "      <td>Taylor Thompson</td>\n",
       "      <td>P</td>\n",
       "      <td>10019.0</td>\n",
       "    </tr>\n",
       "  </tbody>\n",
       "</table>\n",
       "</div>"
      ],
      "text/plain": [
       "       Age       Bats/Throws                     Birthdate Height/Weight  \\\n",
       "0  Age: 41  Bats/Throws: B/R   1/16/1978 (41 y, 4 m, 20 d)  5' 11\" / 165   \n",
       "1  Age: 44  Bats/Throws: R/R   1/20/1975 (44 y, 4 m, 16 d)   5' 7\" / 177   \n",
       "2  Age: 48  Bats/Throws: R/R        5/11/1971 (48 y, 25 d)   6' 2\" / 220   \n",
       "3  Age: 50  Bats/Throws: R/R  10/22/1968 (50 y, 7 m, 14 d)   6' 0\" / 200   \n",
       "4  Age: 31  Bats/Throws: R/R  6/18/1987 (31 y, 11 m, 18 d)   6' 5\" / 225   \n",
       "\n",
       "               Name POS      pid  \n",
       "0   Alfredo Amezaga  OF      1.0  \n",
       "1    David Eckstein  SS     10.0  \n",
       "2  Kerry Ligtenberg   P    100.0  \n",
       "3        Keith Osik   C   1001.0  \n",
       "4   Taylor Thompson   P  10019.0  "
      ]
     },
     "execution_count": 6,
     "metadata": {},
     "output_type": "execute_result"
    }
   ],
   "source": [
    "gen_inf.head()"
   ]
  },
  {
   "cell_type": "code",
   "execution_count": 12,
   "metadata": {},
   "outputs": [
    {
     "data": {
      "text/plain": [
       "5070"
      ]
     },
     "execution_count": 12,
     "metadata": {},
     "output_type": "execute_result"
    }
   ],
   "source": [
    "len(gen_inf)"
   ]
  },
  {
   "cell_type": "code",
   "execution_count": 7,
   "metadata": {},
   "outputs": [],
   "source": [
    "## Parse columns\n",
    "gen_inf.loc[:, 'Age'] = gen_inf.loc[:, 'Age'].apply(lambda x: int(x.split(':')[1].strip()))\n",
    "gen_inf.loc[:, 'Bats'] = gen_inf.loc[:, 'Bats/Throws'].apply(lambda x: x.split('/')[1].split(':')[1].strip())\n",
    "gen_inf.loc[:, 'Throws'] = gen_inf.loc[:, 'Bats/Throws'].apply(lambda x: x.split('/')[2].strip())\n",
    "gen_inf.loc[:, 'Birthdate'] = gen_inf.loc[:, 'Birthdate'].apply(lambda x: pd.to_datetime(x.split('(')[0].strip()))\n",
    "gen_inf.loc[:, 'Height'] = gen_inf.loc[:, 'Height/Weight'].apply(lambda x: (int(x.split(\"'\")[0].strip()) * 12) + int(x.split('\"')[0].split(\"'\")[1].strip()))\n",
    "gen_inf.loc[:, 'Weight'] = gen_inf.loc[:, 'Height/Weight'].apply(lambda x: int(x.split('/')[1].strip()))\n",
    "\n",
    "## Drop not needed cols\n",
    "gen_inf.drop(columns = {'Bats/Throws', 'Height/Weight'}, inplace = True)"
   ]
  },
  {
   "cell_type": "code",
   "execution_count": 34,
   "metadata": {},
   "outputs": [],
   "source": [
    "gen_inf.to_csv(r'../Data_Pull/data_files/general_info_clean.csv')"
   ]
  },
  {
   "cell_type": "code",
   "execution_count": 14,
   "metadata": {},
   "outputs": [
    {
     "data": {
      "text/html": [
       "<div>\n",
       "<style scoped>\n",
       "    .dataframe tbody tr th:only-of-type {\n",
       "        vertical-align: middle;\n",
       "    }\n",
       "\n",
       "    .dataframe tbody tr th {\n",
       "        vertical-align: top;\n",
       "    }\n",
       "\n",
       "    .dataframe thead th {\n",
       "        text-align: right;\n",
       "    }\n",
       "</style>\n",
       "<table border=\"1\" class=\"dataframe\">\n",
       "  <thead>\n",
       "    <tr style=\"text-align: right;\">\n",
       "      <th></th>\n",
       "      <th>Age</th>\n",
       "      <th>Birthdate</th>\n",
       "      <th>Name</th>\n",
       "      <th>POS</th>\n",
       "      <th>pid</th>\n",
       "      <th>Bats</th>\n",
       "      <th>Throws</th>\n",
       "      <th>Height</th>\n",
       "      <th>Weight</th>\n",
       "    </tr>\n",
       "  </thead>\n",
       "  <tbody>\n",
       "    <tr>\n",
       "      <th>0</th>\n",
       "      <td>41</td>\n",
       "      <td>1978-01-16</td>\n",
       "      <td>Alfredo Amezaga</td>\n",
       "      <td>OF</td>\n",
       "      <td>1.0</td>\n",
       "      <td>B</td>\n",
       "      <td>R</td>\n",
       "      <td>71</td>\n",
       "      <td>165</td>\n",
       "    </tr>\n",
       "    <tr>\n",
       "      <th>1</th>\n",
       "      <td>44</td>\n",
       "      <td>1975-01-20</td>\n",
       "      <td>David Eckstein</td>\n",
       "      <td>SS</td>\n",
       "      <td>10.0</td>\n",
       "      <td>R</td>\n",
       "      <td>R</td>\n",
       "      <td>67</td>\n",
       "      <td>177</td>\n",
       "    </tr>\n",
       "    <tr>\n",
       "      <th>2</th>\n",
       "      <td>48</td>\n",
       "      <td>1971-05-11</td>\n",
       "      <td>Kerry Ligtenberg</td>\n",
       "      <td>P</td>\n",
       "      <td>100.0</td>\n",
       "      <td>R</td>\n",
       "      <td>R</td>\n",
       "      <td>74</td>\n",
       "      <td>220</td>\n",
       "    </tr>\n",
       "    <tr>\n",
       "      <th>3</th>\n",
       "      <td>50</td>\n",
       "      <td>1968-10-22</td>\n",
       "      <td>Keith Osik</td>\n",
       "      <td>C</td>\n",
       "      <td>1001.0</td>\n",
       "      <td>R</td>\n",
       "      <td>R</td>\n",
       "      <td>72</td>\n",
       "      <td>200</td>\n",
       "    </tr>\n",
       "    <tr>\n",
       "      <th>4</th>\n",
       "      <td>31</td>\n",
       "      <td>1987-06-18</td>\n",
       "      <td>Taylor Thompson</td>\n",
       "      <td>P</td>\n",
       "      <td>10019.0</td>\n",
       "      <td>R</td>\n",
       "      <td>R</td>\n",
       "      <td>77</td>\n",
       "      <td>225</td>\n",
       "    </tr>\n",
       "  </tbody>\n",
       "</table>\n",
       "</div>"
      ],
      "text/plain": [
       "   Age  Birthdate              Name POS      pid Bats Throws  Height  Weight\n",
       "0   41 1978-01-16   Alfredo Amezaga  OF      1.0    B      R      71     165\n",
       "1   44 1975-01-20    David Eckstein  SS     10.0    R      R      67     177\n",
       "2   48 1971-05-11  Kerry Ligtenberg   P    100.0    R      R      74     220\n",
       "3   50 1968-10-22        Keith Osik   C   1001.0    R      R      72     200\n",
       "4   31 1987-06-18   Taylor Thompson   P  10019.0    R      R      77     225"
      ]
     },
     "execution_count": 14,
     "metadata": {},
     "output_type": "execute_result"
    }
   ],
   "source": [
    "gen_inf.head()"
   ]
  },
  {
   "cell_type": "markdown",
   "metadata": {},
   "source": [
    "## 2 Game Days Issue"
   ]
  },
  {
   "cell_type": "code",
   "execution_count": 140,
   "metadata": {},
   "outputs": [],
   "source": [
    "batter_raw = pd.read_csv(r'..\\Data_Pull\\data_files\\reduced_data\\batter_raw_red.csv', index_col='Unnamed: 0', parse_dates = ['Date'])\n",
    "pitching_raw = pd.read_csv(r'..\\Data_Pull\\data_files\\reduced_data\\pitching_raw_red.csv', index_col='Unnamed: 0', parse_dates = ['Date'])"
   ]
  },
  {
   "cell_type": "code",
   "execution_count": 141,
   "metadata": {},
   "outputs": [],
   "source": [
    "pitching_raw.sort_values(['pid', 'Date'], inplace = True)\n",
    "pitching_raw.reset_index(inplace = True, drop = True)"
   ]
  },
  {
   "cell_type": "code",
   "execution_count": 142,
   "metadata": {},
   "outputs": [],
   "source": [
    "batter_raw = batter_raw.loc[batter_raw['Date'] >= pd.to_datetime('2000-1-1')]\n",
    "pitching_raw = pitching_raw.loc[pitching_raw['Date'] >= pd.to_datetime('2000-1-1')]"
   ]
  },
  {
   "cell_type": "code",
   "execution_count": 143,
   "metadata": {},
   "outputs": [
    {
     "data": {
      "text/html": [
       "<div>\n",
       "<style scoped>\n",
       "    .dataframe tbody tr th:only-of-type {\n",
       "        vertical-align: middle;\n",
       "    }\n",
       "\n",
       "    .dataframe tbody tr th {\n",
       "        vertical-align: top;\n",
       "    }\n",
       "\n",
       "    .dataframe thead th {\n",
       "        text-align: right;\n",
       "    }\n",
       "</style>\n",
       "<table border=\"1\" class=\"dataframe\">\n",
       "  <thead>\n",
       "    <tr style=\"text-align: right;\">\n",
       "      <th></th>\n",
       "      <th>Date</th>\n",
       "      <th>Team</th>\n",
       "      <th>Opp</th>\n",
       "      <th>BO</th>\n",
       "      <th>Pos</th>\n",
       "      <th>G</th>\n",
       "      <th>AB</th>\n",
       "      <th>PA</th>\n",
       "      <th>H</th>\n",
       "      <th>1B</th>\n",
       "      <th>2B</th>\n",
       "      <th>3B</th>\n",
       "      <th>HR</th>\n",
       "      <th>R</th>\n",
       "      <th>RBI</th>\n",
       "      <th>BB</th>\n",
       "      <th>IBB</th>\n",
       "      <th>SO</th>\n",
       "      <th>HBP</th>\n",
       "      <th>SF</th>\n",
       "      <th>SH</th>\n",
       "      <th>GDP</th>\n",
       "      <th>SB</th>\n",
       "      <th>CS</th>\n",
       "      <th>AVG</th>\n",
       "      <th>pid</th>\n",
       "    </tr>\n",
       "  </thead>\n",
       "  <tbody>\n",
       "    <tr>\n",
       "      <td>0</td>\n",
       "      <td>2017-08-13</td>\n",
       "      <td>KCR</td>\n",
       "      <td>@CHW</td>\n",
       "      <td>0</td>\n",
       "      <td>P</td>\n",
       "      <td>1</td>\n",
       "      <td>0</td>\n",
       "      <td>0</td>\n",
       "      <td>0</td>\n",
       "      <td>0</td>\n",
       "      <td>0</td>\n",
       "      <td>0</td>\n",
       "      <td>0</td>\n",
       "      <td>0</td>\n",
       "      <td>0</td>\n",
       "      <td>0</td>\n",
       "      <td>0</td>\n",
       "      <td>0</td>\n",
       "      <td>0</td>\n",
       "      <td>0</td>\n",
       "      <td>0</td>\n",
       "      <td>0</td>\n",
       "      <td>0</td>\n",
       "      <td>0.0</td>\n",
       "      <td>0.0</td>\n",
       "      <td>18.0</td>\n",
       "    </tr>\n",
       "    <tr>\n",
       "      <td>1</td>\n",
       "      <td>2017-08-10</td>\n",
       "      <td>KCR</td>\n",
       "      <td>@STL</td>\n",
       "      <td>9</td>\n",
       "      <td>P</td>\n",
       "      <td>1</td>\n",
       "      <td>0</td>\n",
       "      <td>0</td>\n",
       "      <td>0</td>\n",
       "      <td>0</td>\n",
       "      <td>0</td>\n",
       "      <td>0</td>\n",
       "      <td>0</td>\n",
       "      <td>0</td>\n",
       "      <td>0</td>\n",
       "      <td>0</td>\n",
       "      <td>0</td>\n",
       "      <td>0</td>\n",
       "      <td>0</td>\n",
       "      <td>0</td>\n",
       "      <td>0</td>\n",
       "      <td>0</td>\n",
       "      <td>0</td>\n",
       "      <td>0.0</td>\n",
       "      <td>0.0</td>\n",
       "      <td>18.0</td>\n",
       "    </tr>\n",
       "    <tr>\n",
       "      <td>2</td>\n",
       "      <td>2017-08-08</td>\n",
       "      <td>KCR</td>\n",
       "      <td>STL</td>\n",
       "      <td>0</td>\n",
       "      <td>P</td>\n",
       "      <td>1</td>\n",
       "      <td>0</td>\n",
       "      <td>0</td>\n",
       "      <td>0</td>\n",
       "      <td>0</td>\n",
       "      <td>0</td>\n",
       "      <td>0</td>\n",
       "      <td>0</td>\n",
       "      <td>0</td>\n",
       "      <td>0</td>\n",
       "      <td>0</td>\n",
       "      <td>0</td>\n",
       "      <td>0</td>\n",
       "      <td>0</td>\n",
       "      <td>0</td>\n",
       "      <td>0</td>\n",
       "      <td>0</td>\n",
       "      <td>0</td>\n",
       "      <td>0.0</td>\n",
       "      <td>0.0</td>\n",
       "      <td>18.0</td>\n",
       "    </tr>\n",
       "  </tbody>\n",
       "</table>\n",
       "</div>"
      ],
      "text/plain": [
       "        Date Team   Opp  BO Pos  G  AB  PA  H  1B  2B  3B  HR  R  RBI  BB  \\\n",
       "0 2017-08-13  KCR  @CHW   0   P  1   0   0  0   0   0   0   0  0    0   0   \n",
       "1 2017-08-10  KCR  @STL   9   P  1   0   0  0   0   0   0   0  0    0   0   \n",
       "2 2017-08-08  KCR   STL   0   P  1   0   0  0   0   0   0   0  0    0   0   \n",
       "\n",
       "   IBB  SO  HBP  SF  SH  GDP  SB   CS  AVG   pid  \n",
       "0    0   0    0   0   0    0   0  0.0  0.0  18.0  \n",
       "1    0   0    0   0   0    0   0  0.0  0.0  18.0  \n",
       "2    0   0    0   0   0    0   0  0.0  0.0  18.0  "
      ]
     },
     "execution_count": 143,
     "metadata": {},
     "output_type": "execute_result"
    }
   ],
   "source": [
    "batter_raw.head(3)"
   ]
  },
  {
   "cell_type": "code",
   "execution_count": 144,
   "metadata": {},
   "outputs": [
    {
     "data": {
      "text/html": [
       "<div>\n",
       "<style scoped>\n",
       "    .dataframe tbody tr th:only-of-type {\n",
       "        vertical-align: middle;\n",
       "    }\n",
       "\n",
       "    .dataframe tbody tr th {\n",
       "        vertical-align: top;\n",
       "    }\n",
       "\n",
       "    .dataframe thead th {\n",
       "        text-align: right;\n",
       "    }\n",
       "</style>\n",
       "<table border=\"1\" class=\"dataframe\">\n",
       "  <thead>\n",
       "    <tr style=\"text-align: right;\">\n",
       "      <th></th>\n",
       "      <th>Date</th>\n",
       "      <th>Team</th>\n",
       "      <th>Opp</th>\n",
       "      <th>GS</th>\n",
       "      <th>W</th>\n",
       "      <th>L</th>\n",
       "      <th>SV</th>\n",
       "      <th>HLD</th>\n",
       "      <th>IP</th>\n",
       "      <th>TBF</th>\n",
       "      <th>H</th>\n",
       "      <th>R</th>\n",
       "      <th>ER</th>\n",
       "      <th>HR</th>\n",
       "      <th>BB</th>\n",
       "      <th>SO</th>\n",
       "      <th>K/9</th>\n",
       "      <th>BB/9</th>\n",
       "      <th>HR/9</th>\n",
       "      <th>BABIP</th>\n",
       "      <th>LOB%</th>\n",
       "      <th>GB%</th>\n",
       "      <th>HR/FB</th>\n",
       "      <th>ERA</th>\n",
       "      <th>FIP</th>\n",
       "      <th>xFIP</th>\n",
       "      <th>GSv2</th>\n",
       "      <th>pid</th>\n",
       "    </tr>\n",
       "  </thead>\n",
       "  <tbody>\n",
       "    <tr>\n",
       "      <td>0</td>\n",
       "      <td>2017-04-05</td>\n",
       "      <td>MIL</td>\n",
       "      <td>COL</td>\n",
       "      <td>0</td>\n",
       "      <td>0</td>\n",
       "      <td>0</td>\n",
       "      <td>1</td>\n",
       "      <td>0.0</td>\n",
       "      <td>0.1</td>\n",
       "      <td>1</td>\n",
       "      <td>0</td>\n",
       "      <td>0</td>\n",
       "      <td>0</td>\n",
       "      <td>0</td>\n",
       "      <td>0</td>\n",
       "      <td>1</td>\n",
       "      <td>27.0</td>\n",
       "      <td>0.0</td>\n",
       "      <td>0.0</td>\n",
       "      <td>0.0</td>\n",
       "      <td>1.0</td>\n",
       "      <td>0.000</td>\n",
       "      <td>0.0</td>\n",
       "      <td>0.0</td>\n",
       "      <td>-2.84</td>\n",
       "      <td>-2.84</td>\n",
       "      <td>NaN</td>\n",
       "      <td>18.0</td>\n",
       "    </tr>\n",
       "    <tr>\n",
       "      <td>1</td>\n",
       "      <td>2017-04-06</td>\n",
       "      <td>MIL</td>\n",
       "      <td>COL</td>\n",
       "      <td>0</td>\n",
       "      <td>0</td>\n",
       "      <td>1</td>\n",
       "      <td>0</td>\n",
       "      <td>0.0</td>\n",
       "      <td>1.0</td>\n",
       "      <td>4</td>\n",
       "      <td>1</td>\n",
       "      <td>1</td>\n",
       "      <td>1</td>\n",
       "      <td>1</td>\n",
       "      <td>0</td>\n",
       "      <td>1</td>\n",
       "      <td>9.0</td>\n",
       "      <td>0.0</td>\n",
       "      <td>9.0</td>\n",
       "      <td>0.0</td>\n",
       "      <td>1.0</td>\n",
       "      <td>0.667</td>\n",
       "      <td>1.0</td>\n",
       "      <td>9.0</td>\n",
       "      <td>14.16</td>\n",
       "      <td>2.94</td>\n",
       "      <td>NaN</td>\n",
       "      <td>18.0</td>\n",
       "    </tr>\n",
       "    <tr>\n",
       "      <td>2</td>\n",
       "      <td>2017-04-07</td>\n",
       "      <td>MIL</td>\n",
       "      <td>CHC</td>\n",
       "      <td>0</td>\n",
       "      <td>0</td>\n",
       "      <td>0</td>\n",
       "      <td>0</td>\n",
       "      <td>0.0</td>\n",
       "      <td>0.1</td>\n",
       "      <td>1</td>\n",
       "      <td>0</td>\n",
       "      <td>0</td>\n",
       "      <td>0</td>\n",
       "      <td>0</td>\n",
       "      <td>0</td>\n",
       "      <td>1</td>\n",
       "      <td>27.0</td>\n",
       "      <td>0.0</td>\n",
       "      <td>0.0</td>\n",
       "      <td>0.0</td>\n",
       "      <td>1.0</td>\n",
       "      <td>0.000</td>\n",
       "      <td>0.0</td>\n",
       "      <td>0.0</td>\n",
       "      <td>-2.84</td>\n",
       "      <td>-2.84</td>\n",
       "      <td>NaN</td>\n",
       "      <td>18.0</td>\n",
       "    </tr>\n",
       "  </tbody>\n",
       "</table>\n",
       "</div>"
      ],
      "text/plain": [
       "        Date Team  Opp  GS  W  L  SV  HLD   IP  TBF  H  R  ER  HR  BB  SO  \\\n",
       "0 2017-04-05  MIL  COL   0  0  0   1  0.0  0.1    1  0  0   0   0   0   1   \n",
       "1 2017-04-06  MIL  COL   0  0  1   0  0.0  1.0    4  1  1   1   1   0   1   \n",
       "2 2017-04-07  MIL  CHC   0  0  0   0  0.0  0.1    1  0  0   0   0   0   1   \n",
       "\n",
       "    K/9  BB/9  HR/9  BABIP  LOB%    GB%  HR/FB  ERA    FIP  xFIP  GSv2   pid  \n",
       "0  27.0   0.0   0.0    0.0   1.0  0.000    0.0  0.0  -2.84 -2.84   NaN  18.0  \n",
       "1   9.0   0.0   9.0    0.0   1.0  0.667    1.0  9.0  14.16  2.94   NaN  18.0  \n",
       "2  27.0   0.0   0.0    0.0   1.0  0.000    0.0  0.0  -2.84 -2.84   NaN  18.0  "
      ]
     },
     "execution_count": 144,
     "metadata": {},
     "output_type": "execute_result"
    }
   ],
   "source": [
    "pitching_raw.head(3)"
   ]
  },
  {
   "cell_type": "code",
   "execution_count": 145,
   "metadata": {},
   "outputs": [],
   "source": [
    "batter_raw.loc[:, 'Home/Away'] = batter_raw.loc[:, 'Opp'].apply(lambda x: 'Away' if '@' in x else 'Home')\n",
    "pitching_raw.loc[:, 'Home/Away'] = pitching_raw.loc[:, 'Opp'].apply(lambda x: 'Away' if '@' in x else 'Home')\n",
    "\n",
    "batter_raw.loc[:, 'Opp'] = batter_raw.loc[:, 'Opp'].apply(lambda x: x.split('@')[1] if '@' in x else x)\n",
    "pitching_raw.loc[:, 'Opp'] = pitching_raw.loc[:, 'Opp'].apply(lambda x: x.split('@')[1] if '@' in x else x)"
   ]
  },
  {
   "cell_type": "code",
   "execution_count": 146,
   "metadata": {},
   "outputs": [],
   "source": [
    "## Function to make sure matchup can be join key (sort alphabetically)\n",
    "def sort_teams(a, b):\n",
    "    \n",
    "    sort_list = [a, b]\n",
    "    \n",
    "    sort_list = sorted(sort_list)\n",
    "    \n",
    "    name = '_'.join(sort_list)\n",
    "    \n",
    "    return name\n",
    "\n",
    "batter_raw.loc[:, 'Teams'] = batter_raw.loc[:, ['Team', 'Opp']].apply(lambda x: sort_teams(*x), axis = 1)\n",
    "pitching_raw.loc[:, 'Teams'] = pitching_raw.loc[:, ['Team', 'Opp']].apply(lambda x: sort_teams(*x), axis = 1)"
   ]
  },
  {
   "cell_type": "code",
   "execution_count": 215,
   "metadata": {},
   "outputs": [],
   "source": [
    "two_game_issue = pitching_raw.loc[pitching_raw['GS'] >= 1].groupby(['Date', 'Teams'])['GS'].count()[pitching_raw[pitching_raw['GS'] >= 1].groupby(['Date', 'Teams'])['GS'].count() > 1].reset_index()\n",
    "two_game_issue = two_game_issue.loc[two_game_issue['GS'] > 2]"
   ]
  },
  {
   "cell_type": "markdown",
   "metadata": {},
   "source": [
    "## Generate Historical Stats"
   ]
  },
  {
   "cell_type": "code",
   "execution_count": 174,
   "metadata": {},
   "outputs": [],
   "source": [
    "adv_df = pd.read_csv(r'..\\Data_Pull\\data_files\\reduced_data\\batter_advanced_raw_red.csv', index_col='Unnamed: 0', parse_dates = ['Date'])"
   ]
  },
  {
   "cell_type": "code",
   "execution_count": 175,
   "metadata": {},
   "outputs": [],
   "source": [
    "adv_df.sort_values(['pid', 'Date'], inplace = True)\n",
    "adv_df.reset_index(inplace = True, drop = True)"
   ]
  },
  {
   "cell_type": "code",
   "execution_count": 176,
   "metadata": {},
   "outputs": [],
   "source": [
    "bat_all = pd.merge(batter_raw, adv_df, how = 'outer', on = ['pid', 'Date'])"
   ]
  },
  {
   "cell_type": "code",
   "execution_count": 177,
   "metadata": {},
   "outputs": [],
   "source": [
    "bat_all = bat_all[~pd.isnull(bat_all['Team_x'])]"
   ]
  },
  {
   "cell_type": "code",
   "execution_count": 178,
   "metadata": {
    "collapsed": true,
    "jupyter": {
     "outputs_hidden": true
    }
   },
   "outputs": [
    {
     "name": "stdout",
     "output_type": "stream",
     "text": [
      "BO 1 Complete\n",
      "BO 7 Complete\n",
      "BO 30 Complete\n",
      "BO 1000000 Complete\n",
      "G 1 Complete\n",
      "G 7 Complete\n",
      "G 30 Complete\n",
      "G 1000000 Complete\n",
      "AB 1 Complete\n",
      "AB 7 Complete\n",
      "AB 30 Complete\n",
      "AB 1000000 Complete\n",
      "PA 1 Complete\n",
      "PA 7 Complete\n",
      "PA 30 Complete\n",
      "PA 1000000 Complete\n",
      "H 1 Complete\n",
      "H 7 Complete\n",
      "H 30 Complete\n",
      "H 1000000 Complete\n",
      "1B 1 Complete\n",
      "1B 7 Complete\n",
      "1B 30 Complete\n",
      "1B 1000000 Complete\n",
      "2B 1 Complete\n",
      "2B 7 Complete\n",
      "2B 30 Complete\n",
      "2B 1000000 Complete\n",
      "3B 1 Complete\n",
      "3B 7 Complete\n",
      "3B 30 Complete\n",
      "3B 1000000 Complete\n",
      "HR 1 Complete\n",
      "HR 7 Complete\n",
      "HR 30 Complete\n",
      "HR 1000000 Complete\n",
      "R 1 Complete\n",
      "R 7 Complete\n",
      "R 30 Complete\n",
      "R 1000000 Complete\n",
      "RBI 1 Complete\n",
      "RBI 7 Complete\n",
      "RBI 30 Complete\n",
      "RBI 1000000 Complete\n",
      "BB 1 Complete\n",
      "BB 7 Complete\n",
      "BB 30 Complete\n",
      "BB 1000000 Complete\n",
      "IBB 1 Complete\n",
      "IBB 7 Complete\n",
      "IBB 30 Complete\n",
      "IBB 1000000 Complete\n",
      "SO 1 Complete\n",
      "SO 7 Complete\n",
      "SO 30 Complete\n",
      "SO 1000000 Complete\n",
      "HBP 1 Complete\n",
      "HBP 7 Complete\n",
      "HBP 30 Complete\n",
      "HBP 1000000 Complete\n",
      "SF 1 Complete\n",
      "SF 7 Complete\n",
      "SF 30 Complete\n",
      "SF 1000000 Complete\n",
      "SH 1 Complete\n",
      "SH 7 Complete\n",
      "SH 30 Complete\n",
      "SH 1000000 Complete\n",
      "GDP 1 Complete\n",
      "GDP 7 Complete\n",
      "GDP 30 Complete\n",
      "GDP 1000000 Complete\n",
      "SB 1 Complete\n",
      "SB 7 Complete\n",
      "SB 30 Complete\n",
      "SB 1000000 Complete\n"
     ]
    }
   ],
   "source": [
    "for col in [x for x in batter_raw.columns if batter_raw[x].dtype == np.int64]:\n",
    "    for days in [1, 7, 30, 1000000]: #1, 3, 7, 15, 30, 1000000\n",
    "        if col == 'BO':\n",
    "            gen_avg(batter_raw, col, days, 'mean')\n",
    "        else:\n",
    "            gen_avg(batter_raw, col, days, 'sum')\n",
    "        print('{0} {1} Complete'.format(col, str(days)))"
   ]
  },
  {
   "cell_type": "code",
   "execution_count": 148,
   "metadata": {},
   "outputs": [],
   "source": [
    "starting_pitcher_df = pitching_raw.loc[pitching_raw['GS'] == 1]"
   ]
  },
  {
   "cell_type": "code",
   "execution_count": 149,
   "metadata": {
    "collapsed": true,
    "jupyter": {
     "outputs_hidden": true
    }
   },
   "outputs": [
    {
     "name": "stderr",
     "output_type": "stream",
     "text": [
      "C:\\ProgramData\\Anaconda3\\lib\\site-packages\\ipykernel_launcher.py:22: SettingWithCopyWarning: \n",
      "A value is trying to be set on a copy of a slice from a DataFrame.\n",
      "Try using .loc[row_indexer,col_indexer] = value instead\n",
      "\n",
      "See the caveats in the documentation: http://pandas.pydata.org/pandas-docs/stable/user_guide/indexing.html#returning-a-view-versus-a-copy\n"
     ]
    },
    {
     "name": "stdout",
     "output_type": "stream",
     "text": [
      "GS 1 Complete\n",
      "GS 7 Complete\n",
      "GS 30 Complete\n",
      "GS 1000000 Complete\n",
      "W 1 Complete\n",
      "W 7 Complete\n",
      "W 30 Complete\n",
      "W 1000000 Complete\n",
      "L 1 Complete\n",
      "L 7 Complete\n",
      "L 30 Complete\n",
      "L 1000000 Complete\n",
      "SV 1 Complete\n",
      "SV 7 Complete\n",
      "SV 30 Complete\n",
      "SV 1000000 Complete\n",
      "HLD 1 Complete\n",
      "HLD 7 Complete\n",
      "HLD 30 Complete\n",
      "HLD 1000000 Complete\n",
      "IP 1 Complete\n",
      "IP 7 Complete\n",
      "IP 30 Complete\n",
      "IP 1000000 Complete\n",
      "TBF 1 Complete\n",
      "TBF 7 Complete\n",
      "TBF 30 Complete\n",
      "TBF 1000000 Complete\n",
      "H 1 Complete\n",
      "H 7 Complete\n",
      "H 30 Complete\n",
      "H 1000000 Complete\n",
      "R 1 Complete\n",
      "R 7 Complete\n",
      "R 30 Complete\n",
      "R 1000000 Complete\n",
      "ER 1 Complete\n",
      "ER 7 Complete\n",
      "ER 30 Complete\n",
      "ER 1000000 Complete\n",
      "HR 1 Complete\n",
      "HR 7 Complete\n",
      "HR 30 Complete\n",
      "HR 1000000 Complete\n",
      "BB 1 Complete\n",
      "BB 7 Complete\n",
      "BB 30 Complete\n",
      "BB 1000000 Complete\n",
      "SO 1 Complete\n",
      "SO 7 Complete\n",
      "SO 30 Complete\n",
      "SO 1000000 Complete\n"
     ]
    }
   ],
   "source": [
    "for col in starting_pitcher_df.columns[3:16]:\n",
    "    for days in [1, 7, 30, 1000000]: #1, 3, 7, 15, 30, 1000000\n",
    "        gen_avg(starting_pitcher_df, col, days, 'sum')\n",
    "        print('{0} {1} Complete'.format(col, str(days)))"
   ]
  },
  {
   "cell_type": "markdown",
   "metadata": {},
   "source": [
    "## Current ML Progress"
   ]
  },
  {
   "cell_type": "code",
   "execution_count": 150,
   "metadata": {},
   "outputs": [],
   "source": [
    "def qs_gen(IP, ER):\n",
    "    \n",
    "    if IP >= 6 and ER <= 3:\n",
    "        return 1\n",
    "    else:\n",
    "        return 0"
   ]
  },
  {
   "cell_type": "code",
   "execution_count": 151,
   "metadata": {},
   "outputs": [],
   "source": [
    "## Add QS\n",
    "starting_pitcher_df.loc[:, 'QS'] = starting_pitcher_df.loc[:, ['IP', 'ER']].apply(lambda x: qs_gen(*x), axis = 1)"
   ]
  },
  {
   "cell_type": "code",
   "execution_count": 152,
   "metadata": {},
   "outputs": [
    {
     "name": "stderr",
     "output_type": "stream",
     "text": [
      "C:\\ProgramData\\Anaconda3\\lib\\site-packages\\ipykernel_launcher.py:22: SettingWithCopyWarning: \n",
      "A value is trying to be set on a copy of a slice from a DataFrame.\n",
      "Try using .loc[row_indexer,col_indexer] = value instead\n",
      "\n",
      "See the caveats in the documentation: http://pandas.pydata.org/pandas-docs/stable/user_guide/indexing.html#returning-a-view-versus-a-copy\n"
     ]
    }
   ],
   "source": [
    "for days in [1, 7, 30, 1000000]: #1, 3, 7, 15, 30, 1000000\n",
    "    gen_avg(starting_pitcher_df, 'QS', days, 'sum')"
   ]
  },
  {
   "cell_type": "code",
   "execution_count": 43,
   "metadata": {},
   "outputs": [],
   "source": [
    "batter_raw.to_csv(r'..\\Data_Pull\\data_files\\Simple_ML_files\\bat_ml_one.csv')\n",
    "starting_pitcher_df.to_csv(r'..\\Data_Pull\\data_files\\Simple_ML_files\\pitch_ml_one.csv')"
   ]
  },
  {
   "cell_type": "markdown",
   "metadata": {},
   "source": [
    "## Combine"
   ]
  },
  {
   "cell_type": "code",
   "execution_count": 153,
   "metadata": {},
   "outputs": [],
   "source": [
    "starting_pitcher_df.columns = [str(col) + '_pitch' for col in starting_pitcher_df.columns]"
   ]
  },
  {
   "cell_type": "code",
   "execution_count": 193,
   "metadata": {
    "collapsed": true,
    "jupyter": {
     "outputs_hidden": true
    }
   },
   "outputs": [
    {
     "name": "stderr",
     "output_type": "stream",
     "text": [
      "C:\\ProgramData\\Anaconda3\\lib\\site-packages\\ipykernel_launcher.py:2: SettingWithCopyWarning: \n",
      "A value is trying to be set on a copy of a slice from a DataFrame\n",
      "\n",
      "See the caveats in the documentation: http://pandas.pydata.org/pandas-docs/stable/user_guide/indexing.html#returning-a-view-versus-a-copy\n",
      "  \n"
     ]
    }
   ],
   "source": [
    "batter_raw.drop_duplicates(inplace = True)\n",
    "starting_pitcher_df.drop_duplicates(inplace = True)"
   ]
  },
  {
   "cell_type": "code",
   "execution_count": 225,
   "metadata": {},
   "outputs": [],
   "source": [
    "batter_raw = batter_raw.loc[~((batter_raw['Teams'].isin(two_game_issue['Teams'].values)) & (batter_raw['Date'].isin(two_game_issue['Date'].values)))]"
   ]
  },
  {
   "cell_type": "code",
   "execution_count": 226,
   "metadata": {},
   "outputs": [],
   "source": [
    "combine_df = pd.merge(batter_raw, starting_pitcher_df, how = 'left', left_on = ['Date', 'Teams', 'Opp'], right_on = ['Date_pitch', 'Teams_pitch', 'Team_pitch'])"
   ]
  },
  {
   "cell_type": "code",
   "execution_count": 186,
   "metadata": {},
   "outputs": [],
   "source": [
    "bat_cols = [col for col in combine_df.columns if 'pitch' not in col]\n",
    "pitch_cols = [col for col in combine_df.columns if 'pitch' in col]"
   ]
  },
  {
   "cell_type": "code",
   "execution_count": 230,
   "metadata": {},
   "outputs": [],
   "source": [
    "combine_df.to_csv(r'..\\Data_Pull\\data_files\\Simple_ML_files\\combined_ml.csv')"
   ]
  },
  {
   "cell_type": "code",
   "execution_count": null,
   "metadata": {},
   "outputs": [],
   "source": []
  }
 ],
 "metadata": {
  "kernelspec": {
   "display_name": "Python 3",
   "language": "python",
   "name": "python3"
  },
  "language_info": {
   "codemirror_mode": {
    "name": "ipython",
    "version": 3
   },
   "file_extension": ".py",
   "mimetype": "text/x-python",
   "name": "python",
   "nbconvert_exporter": "python",
   "pygments_lexer": "ipython3",
   "version": "3.7.4"
  }
 },
 "nbformat": 4,
 "nbformat_minor": 4
}
