{
 "cells": [
  {
   "cell_type": "code",
   "execution_count": 342,
   "metadata": {},
   "outputs": [],
   "source": [
    "import pandas as pd\n",
    "import numpy as np\n",
    "\n",
    "pd.set_option('display.max_columns', 500)"
   ]
  },
  {
   "cell_type": "markdown",
   "metadata": {},
   "source": [
    "# Load data"
   ]
  },
  {
   "cell_type": "code",
   "execution_count": 343,
   "metadata": {},
   "outputs": [
    {
     "data": {
      "text/html": [
       "<div>\n",
       "<style scoped>\n",
       "    .dataframe tbody tr th:only-of-type {\n",
       "        vertical-align: middle;\n",
       "    }\n",
       "\n",
       "    .dataframe tbody tr th {\n",
       "        vertical-align: top;\n",
       "    }\n",
       "\n",
       "    .dataframe thead th {\n",
       "        text-align: right;\n",
       "    }\n",
       "</style>\n",
       "<table border=\"1\" class=\"dataframe\">\n",
       "  <thead>\n",
       "    <tr style=\"text-align: right;\">\n",
       "      <th></th>\n",
       "      <th>PATIENT_ID</th>\n",
       "      <th>Age</th>\n",
       "      <th>Gender</th>\n",
       "      <th>Height</th>\n",
       "      <th>ICUType</th>\n",
       "      <th>BUN_Min</th>\n",
       "      <th>Creatinine_Min</th>\n",
       "      <th>GCS_Min</th>\n",
       "      <th>Glucose_Min</th>\n",
       "      <th>HCO3_Min</th>\n",
       "      <th>HCT_Min</th>\n",
       "      <th>HR_Min</th>\n",
       "      <th>K_Min</th>\n",
       "      <th>Mg_Min</th>\n",
       "      <th>NIDiasABP_Min</th>\n",
       "      <th>NIMAP_Min</th>\n",
       "      <th>NISysABP_Min</th>\n",
       "      <th>Na_Min</th>\n",
       "      <th>PaCO2_Min</th>\n",
       "      <th>PaO2_Min</th>\n",
       "      <th>Platelets_Min</th>\n",
       "      <th>Temp_Min</th>\n",
       "      <th>Urine_Min</th>\n",
       "      <th>WBC_Min</th>\n",
       "      <th>Weight_Min</th>\n",
       "      <th>pH_Min</th>\n",
       "      <th>BUN_Max</th>\n",
       "      <th>Creatinine_Max</th>\n",
       "      <th>GCS_Max</th>\n",
       "      <th>Glucose_Max</th>\n",
       "      <th>HCO3_Max</th>\n",
       "      <th>HCT_Max</th>\n",
       "      <th>HR_Max</th>\n",
       "      <th>K_Max</th>\n",
       "      <th>Mg_Max</th>\n",
       "      <th>NIDiasABP_Max</th>\n",
       "      <th>NIMAP_Max</th>\n",
       "      <th>NISysABP_Max</th>\n",
       "      <th>Na_Max</th>\n",
       "      <th>PaCO2_Max</th>\n",
       "      <th>PaO2_Max</th>\n",
       "      <th>Platelets_Max</th>\n",
       "      <th>Temp_Max</th>\n",
       "      <th>Urine_Max</th>\n",
       "      <th>WBC_Max</th>\n",
       "      <th>Weight_Max</th>\n",
       "      <th>pH_Max</th>\n",
       "      <th>BUN_Mean</th>\n",
       "      <th>Creatinine_Mean</th>\n",
       "      <th>GCS_Mean</th>\n",
       "      <th>Glucose_Mean</th>\n",
       "      <th>HCO3_Mean</th>\n",
       "      <th>HCT_Mean</th>\n",
       "      <th>HR_Mean</th>\n",
       "      <th>K_Mean</th>\n",
       "      <th>Mg_Mean</th>\n",
       "      <th>NIDiasABP_Mean</th>\n",
       "      <th>NIMAP_Mean</th>\n",
       "      <th>NISysABP_Mean</th>\n",
       "      <th>Na_Mean</th>\n",
       "      <th>PaCO2_Mean</th>\n",
       "      <th>PaO2_Mean</th>\n",
       "      <th>Platelets_Mean</th>\n",
       "      <th>Temp_Mean</th>\n",
       "      <th>Urine_Mean</th>\n",
       "      <th>WBC_Mean</th>\n",
       "      <th>Weight_Mean</th>\n",
       "      <th>pH_Mean</th>\n",
       "      <th>BUN_Median</th>\n",
       "      <th>Creatinine_Median</th>\n",
       "      <th>GCS_Median</th>\n",
       "      <th>Glucose_Median</th>\n",
       "      <th>HCO3_Median</th>\n",
       "      <th>HCT_Median</th>\n",
       "      <th>HR_Median</th>\n",
       "      <th>K_Median</th>\n",
       "      <th>Mg_Median</th>\n",
       "      <th>NIDiasABP_Median</th>\n",
       "      <th>NIMAP_Median</th>\n",
       "      <th>NISysABP_Median</th>\n",
       "      <th>Na_Median</th>\n",
       "      <th>PaCO2_Median</th>\n",
       "      <th>PaO2_Median</th>\n",
       "      <th>Platelets_Median</th>\n",
       "      <th>Temp_Median</th>\n",
       "      <th>Urine_Median</th>\n",
       "      <th>WBC_Median</th>\n",
       "      <th>Weight_Median</th>\n",
       "      <th>pH_Median</th>\n",
       "      <th>BUN_Range</th>\n",
       "      <th>Creatinine_Range</th>\n",
       "      <th>GCS_Range</th>\n",
       "      <th>Glucose_Range</th>\n",
       "      <th>HCO3_Range</th>\n",
       "      <th>HCT_Range</th>\n",
       "      <th>HR_Range</th>\n",
       "      <th>K_Range</th>\n",
       "      <th>Mg_Range</th>\n",
       "      <th>NIDiasABP_Range</th>\n",
       "      <th>NIMAP_Range</th>\n",
       "      <th>NISysABP_Range</th>\n",
       "      <th>Na_Range</th>\n",
       "      <th>PaCO2_Range</th>\n",
       "      <th>PaO2_Range</th>\n",
       "      <th>Platelets_Range</th>\n",
       "      <th>Temp_Range</th>\n",
       "      <th>Urine_Range</th>\n",
       "      <th>WBC_Range</th>\n",
       "      <th>Weight_Range</th>\n",
       "      <th>pH_Range</th>\n",
       "      <th>In-hospital_death</th>\n",
       "    </tr>\n",
       "  </thead>\n",
       "  <tbody>\n",
       "    <tr>\n",
       "      <th>0</th>\n",
       "      <td>132539.0</td>\n",
       "      <td>54.0</td>\n",
       "      <td>0.0</td>\n",
       "      <td>-1.0</td>\n",
       "      <td>4.0</td>\n",
       "      <td>8.0</td>\n",
       "      <td>0.7</td>\n",
       "      <td>14.0</td>\n",
       "      <td>115.0</td>\n",
       "      <td>26.0</td>\n",
       "      <td>30.3</td>\n",
       "      <td>58.0</td>\n",
       "      <td>4.0</td>\n",
       "      <td>1.5</td>\n",
       "      <td>39.0</td>\n",
       "      <td>58.67</td>\n",
       "      <td>96.0</td>\n",
       "      <td>136.0</td>\n",
       "      <td>NaN</td>\n",
       "      <td>NaN</td>\n",
       "      <td>185.0</td>\n",
       "      <td>35.1</td>\n",
       "      <td>0.0</td>\n",
       "      <td>9.4</td>\n",
       "      <td>-1.0</td>\n",
       "      <td>NaN</td>\n",
       "      <td>13.0</td>\n",
       "      <td>0.8</td>\n",
       "      <td>15.0</td>\n",
       "      <td>205.0</td>\n",
       "      <td>28.0</td>\n",
       "      <td>33.7</td>\n",
       "      <td>86.0</td>\n",
       "      <td>4.4</td>\n",
       "      <td>1.9</td>\n",
       "      <td>67.0</td>\n",
       "      <td>92.33</td>\n",
       "      <td>157.0</td>\n",
       "      <td>137.0</td>\n",
       "      <td>NaN</td>\n",
       "      <td>NaN</td>\n",
       "      <td>221.0</td>\n",
       "      <td>38.2</td>\n",
       "      <td>900.0</td>\n",
       "      <td>11.2</td>\n",
       "      <td>-1.0</td>\n",
       "      <td>NaN</td>\n",
       "      <td>10.500000</td>\n",
       "      <td>0.750000</td>\n",
       "      <td>14.923077</td>\n",
       "      <td>160.000000</td>\n",
       "      <td>27.000000</td>\n",
       "      <td>32.500000</td>\n",
       "      <td>70.810811</td>\n",
       "      <td>4.20</td>\n",
       "      <td>1.700000</td>\n",
       "      <td>50.147059</td>\n",
       "      <td>71.559118</td>\n",
       "      <td>114.382353</td>\n",
       "      <td>136.500000</td>\n",
       "      <td>NaN</td>\n",
       "      <td>NaN</td>\n",
       "      <td>203.000000</td>\n",
       "      <td>37.357143</td>\n",
       "      <td>171.052632</td>\n",
       "      <td>10.300000</td>\n",
       "      <td>-1.000000</td>\n",
       "      <td>NaN</td>\n",
       "      <td>10.5</td>\n",
       "      <td>0.75</td>\n",
       "      <td>15.0</td>\n",
       "      <td>160.0</td>\n",
       "      <td>27.0</td>\n",
       "      <td>33.5</td>\n",
       "      <td>73.0</td>\n",
       "      <td>4.2</td>\n",
       "      <td>1.70</td>\n",
       "      <td>49.0</td>\n",
       "      <td>70.000</td>\n",
       "      <td>110.0</td>\n",
       "      <td>136.5</td>\n",
       "      <td>NaN</td>\n",
       "      <td>NaN</td>\n",
       "      <td>203.0</td>\n",
       "      <td>37.70</td>\n",
       "      <td>100.0</td>\n",
       "      <td>10.3</td>\n",
       "      <td>-1.0</td>\n",
       "      <td>NaN</td>\n",
       "      <td>5.0</td>\n",
       "      <td>0.1</td>\n",
       "      <td>1.0</td>\n",
       "      <td>90.0</td>\n",
       "      <td>2.0</td>\n",
       "      <td>3.4</td>\n",
       "      <td>28.0</td>\n",
       "      <td>0.4</td>\n",
       "      <td>0.4</td>\n",
       "      <td>28.0</td>\n",
       "      <td>33.66</td>\n",
       "      <td>61.0</td>\n",
       "      <td>1.0</td>\n",
       "      <td>NaN</td>\n",
       "      <td>NaN</td>\n",
       "      <td>36.0</td>\n",
       "      <td>3.1</td>\n",
       "      <td>900.0</td>\n",
       "      <td>1.8</td>\n",
       "      <td>0.0</td>\n",
       "      <td>NaN</td>\n",
       "      <td>0</td>\n",
       "    </tr>\n",
       "    <tr>\n",
       "      <th>1</th>\n",
       "      <td>132540.0</td>\n",
       "      <td>76.0</td>\n",
       "      <td>1.0</td>\n",
       "      <td>175.3</td>\n",
       "      <td>2.0</td>\n",
       "      <td>16.0</td>\n",
       "      <td>0.8</td>\n",
       "      <td>3.0</td>\n",
       "      <td>105.0</td>\n",
       "      <td>21.0</td>\n",
       "      <td>24.7</td>\n",
       "      <td>65.0</td>\n",
       "      <td>3.5</td>\n",
       "      <td>1.9</td>\n",
       "      <td>38.0</td>\n",
       "      <td>49.33</td>\n",
       "      <td>72.0</td>\n",
       "      <td>135.0</td>\n",
       "      <td>33.0</td>\n",
       "      <td>82.0</td>\n",
       "      <td>135.0</td>\n",
       "      <td>34.5</td>\n",
       "      <td>0.0</td>\n",
       "      <td>7.4</td>\n",
       "      <td>76.0</td>\n",
       "      <td>7.34</td>\n",
       "      <td>21.0</td>\n",
       "      <td>1.3</td>\n",
       "      <td>15.0</td>\n",
       "      <td>146.0</td>\n",
       "      <td>24.0</td>\n",
       "      <td>30.7</td>\n",
       "      <td>90.0</td>\n",
       "      <td>4.3</td>\n",
       "      <td>3.1</td>\n",
       "      <td>67.0</td>\n",
       "      <td>88.33</td>\n",
       "      <td>131.0</td>\n",
       "      <td>139.0</td>\n",
       "      <td>46.0</td>\n",
       "      <td>445.0</td>\n",
       "      <td>226.0</td>\n",
       "      <td>37.9</td>\n",
       "      <td>770.0</td>\n",
       "      <td>13.3</td>\n",
       "      <td>81.6</td>\n",
       "      <td>7.45</td>\n",
       "      <td>18.333333</td>\n",
       "      <td>1.100000</td>\n",
       "      <td>13.333333</td>\n",
       "      <td>125.500000</td>\n",
       "      <td>22.333333</td>\n",
       "      <td>28.655556</td>\n",
       "      <td>80.794118</td>\n",
       "      <td>3.90</td>\n",
       "      <td>2.300000</td>\n",
       "      <td>56.714286</td>\n",
       "      <td>75.308571</td>\n",
       "      <td>112.500000</td>\n",
       "      <td>137.000000</td>\n",
       "      <td>38.857143</td>\n",
       "      <td>210.142857</td>\n",
       "      <td>178.600000</td>\n",
       "      <td>36.939130</td>\n",
       "      <td>151.560976</td>\n",
       "      <td>11.266667</td>\n",
       "      <td>80.670588</td>\n",
       "      <td>7.395</td>\n",
       "      <td>18.0</td>\n",
       "      <td>1.20</td>\n",
       "      <td>15.0</td>\n",
       "      <td>125.5</td>\n",
       "      <td>22.0</td>\n",
       "      <td>28.8</td>\n",
       "      <td>80.0</td>\n",
       "      <td>3.9</td>\n",
       "      <td>2.10</td>\n",
       "      <td>59.0</td>\n",
       "      <td>78.165</td>\n",
       "      <td>115.0</td>\n",
       "      <td>137.0</td>\n",
       "      <td>40.0</td>\n",
       "      <td>153.0</td>\n",
       "      <td>181.0</td>\n",
       "      <td>37.45</td>\n",
       "      <td>90.0</td>\n",
       "      <td>13.1</td>\n",
       "      <td>80.6</td>\n",
       "      <td>7.4</td>\n",
       "      <td>5.0</td>\n",
       "      <td>0.5</td>\n",
       "      <td>12.0</td>\n",
       "      <td>41.0</td>\n",
       "      <td>3.0</td>\n",
       "      <td>6.0</td>\n",
       "      <td>25.0</td>\n",
       "      <td>0.8</td>\n",
       "      <td>1.2</td>\n",
       "      <td>29.0</td>\n",
       "      <td>39.00</td>\n",
       "      <td>59.0</td>\n",
       "      <td>4.0</td>\n",
       "      <td>13.0</td>\n",
       "      <td>363.0</td>\n",
       "      <td>91.0</td>\n",
       "      <td>3.4</td>\n",
       "      <td>770.0</td>\n",
       "      <td>5.9</td>\n",
       "      <td>5.6</td>\n",
       "      <td>0.11</td>\n",
       "      <td>0</td>\n",
       "    </tr>\n",
       "    <tr>\n",
       "      <th>2</th>\n",
       "      <td>132541.0</td>\n",
       "      <td>44.0</td>\n",
       "      <td>0.0</td>\n",
       "      <td>-1.0</td>\n",
       "      <td>3.0</td>\n",
       "      <td>3.0</td>\n",
       "      <td>0.3</td>\n",
       "      <td>5.0</td>\n",
       "      <td>119.0</td>\n",
       "      <td>24.0</td>\n",
       "      <td>26.7</td>\n",
       "      <td>57.0</td>\n",
       "      <td>2.3</td>\n",
       "      <td>1.3</td>\n",
       "      <td>66.0</td>\n",
       "      <td>83.33</td>\n",
       "      <td>111.0</td>\n",
       "      <td>137.0</td>\n",
       "      <td>33.0</td>\n",
       "      <td>65.0</td>\n",
       "      <td>72.0</td>\n",
       "      <td>36.7</td>\n",
       "      <td>18.0</td>\n",
       "      <td>3.7</td>\n",
       "      <td>56.7</td>\n",
       "      <td>7.47</td>\n",
       "      <td>8.0</td>\n",
       "      <td>0.4</td>\n",
       "      <td>8.0</td>\n",
       "      <td>143.0</td>\n",
       "      <td>26.0</td>\n",
       "      <td>29.4</td>\n",
       "      <td>113.0</td>\n",
       "      <td>8.6</td>\n",
       "      <td>1.9</td>\n",
       "      <td>95.0</td>\n",
       "      <td>110.00</td>\n",
       "      <td>150.0</td>\n",
       "      <td>140.0</td>\n",
       "      <td>37.0</td>\n",
       "      <td>232.0</td>\n",
       "      <td>113.0</td>\n",
       "      <td>39.0</td>\n",
       "      <td>425.0</td>\n",
       "      <td>6.2</td>\n",
       "      <td>56.7</td>\n",
       "      <td>7.51</td>\n",
       "      <td>4.666667</td>\n",
       "      <td>0.333333</td>\n",
       "      <td>5.923077</td>\n",
       "      <td>134.333333</td>\n",
       "      <td>25.000000</td>\n",
       "      <td>28.460000</td>\n",
       "      <td>83.759259</td>\n",
       "      <td>4.26</td>\n",
       "      <td>1.720000</td>\n",
       "      <td>79.000000</td>\n",
       "      <td>96.751316</td>\n",
       "      <td>132.263158</td>\n",
       "      <td>138.333333</td>\n",
       "      <td>35.500000</td>\n",
       "      <td>134.500000</td>\n",
       "      <td>89.666667</td>\n",
       "      <td>37.800000</td>\n",
       "      <td>124.951220</td>\n",
       "      <td>4.700000</td>\n",
       "      <td>56.700000</td>\n",
       "      <td>7.495</td>\n",
       "      <td>3.0</td>\n",
       "      <td>0.30</td>\n",
       "      <td>5.0</td>\n",
       "      <td>141.0</td>\n",
       "      <td>25.0</td>\n",
       "      <td>28.7</td>\n",
       "      <td>85.5</td>\n",
       "      <td>3.4</td>\n",
       "      <td>1.80</td>\n",
       "      <td>79.0</td>\n",
       "      <td>97.670</td>\n",
       "      <td>134.0</td>\n",
       "      <td>138.0</td>\n",
       "      <td>36.0</td>\n",
       "      <td>120.5</td>\n",
       "      <td>84.0</td>\n",
       "      <td>37.85</td>\n",
       "      <td>100.0</td>\n",
       "      <td>4.2</td>\n",
       "      <td>56.7</td>\n",
       "      <td>7.5</td>\n",
       "      <td>5.0</td>\n",
       "      <td>0.1</td>\n",
       "      <td>3.0</td>\n",
       "      <td>24.0</td>\n",
       "      <td>2.0</td>\n",
       "      <td>2.7</td>\n",
       "      <td>56.0</td>\n",
       "      <td>6.3</td>\n",
       "      <td>0.6</td>\n",
       "      <td>29.0</td>\n",
       "      <td>26.67</td>\n",
       "      <td>39.0</td>\n",
       "      <td>3.0</td>\n",
       "      <td>4.0</td>\n",
       "      <td>167.0</td>\n",
       "      <td>41.0</td>\n",
       "      <td>2.3</td>\n",
       "      <td>407.0</td>\n",
       "      <td>2.5</td>\n",
       "      <td>0.0</td>\n",
       "      <td>0.04</td>\n",
       "      <td>0</td>\n",
       "    </tr>\n",
       "    <tr>\n",
       "      <th>3</th>\n",
       "      <td>132543.0</td>\n",
       "      <td>68.0</td>\n",
       "      <td>1.0</td>\n",
       "      <td>180.3</td>\n",
       "      <td>3.0</td>\n",
       "      <td>10.0</td>\n",
       "      <td>0.7</td>\n",
       "      <td>14.0</td>\n",
       "      <td>106.0</td>\n",
       "      <td>27.0</td>\n",
       "      <td>36.1</td>\n",
       "      <td>57.0</td>\n",
       "      <td>3.8</td>\n",
       "      <td>1.9</td>\n",
       "      <td>45.0</td>\n",
       "      <td>68.33</td>\n",
       "      <td>102.0</td>\n",
       "      <td>137.0</td>\n",
       "      <td>NaN</td>\n",
       "      <td>NaN</td>\n",
       "      <td>284.0</td>\n",
       "      <td>35.1</td>\n",
       "      <td>100.0</td>\n",
       "      <td>7.9</td>\n",
       "      <td>84.6</td>\n",
       "      <td>NaN</td>\n",
       "      <td>23.0</td>\n",
       "      <td>0.9</td>\n",
       "      <td>15.0</td>\n",
       "      <td>129.0</td>\n",
       "      <td>28.0</td>\n",
       "      <td>41.3</td>\n",
       "      <td>88.0</td>\n",
       "      <td>4.2</td>\n",
       "      <td>2.1</td>\n",
       "      <td>81.0</td>\n",
       "      <td>100.70</td>\n",
       "      <td>140.0</td>\n",
       "      <td>141.0</td>\n",
       "      <td>NaN</td>\n",
       "      <td>NaN</td>\n",
       "      <td>391.0</td>\n",
       "      <td>37.0</td>\n",
       "      <td>700.0</td>\n",
       "      <td>11.5</td>\n",
       "      <td>84.6</td>\n",
       "      <td>NaN</td>\n",
       "      <td>17.666667</td>\n",
       "      <td>0.766667</td>\n",
       "      <td>14.944444</td>\n",
       "      <td>117.333333</td>\n",
       "      <td>27.666667</td>\n",
       "      <td>37.442857</td>\n",
       "      <td>70.983333</td>\n",
       "      <td>4.00</td>\n",
       "      <td>2.033333</td>\n",
       "      <td>65.051724</td>\n",
       "      <td>83.885517</td>\n",
       "      <td>121.551724</td>\n",
       "      <td>139.333333</td>\n",
       "      <td>NaN</td>\n",
       "      <td>NaN</td>\n",
       "      <td>330.000000</td>\n",
       "      <td>36.223077</td>\n",
       "      <td>545.833333</td>\n",
       "      <td>9.400000</td>\n",
       "      <td>84.600000</td>\n",
       "      <td>NaN</td>\n",
       "      <td>20.0</td>\n",
       "      <td>0.70</td>\n",
       "      <td>15.0</td>\n",
       "      <td>117.0</td>\n",
       "      <td>28.0</td>\n",
       "      <td>36.8</td>\n",
       "      <td>74.0</td>\n",
       "      <td>4.0</td>\n",
       "      <td>2.10</td>\n",
       "      <td>64.0</td>\n",
       "      <td>83.670</td>\n",
       "      <td>120.0</td>\n",
       "      <td>140.0</td>\n",
       "      <td>NaN</td>\n",
       "      <td>NaN</td>\n",
       "      <td>315.0</td>\n",
       "      <td>36.40</td>\n",
       "      <td>625.0</td>\n",
       "      <td>8.8</td>\n",
       "      <td>84.6</td>\n",
       "      <td>NaN</td>\n",
       "      <td>13.0</td>\n",
       "      <td>0.2</td>\n",
       "      <td>1.0</td>\n",
       "      <td>23.0</td>\n",
       "      <td>1.0</td>\n",
       "      <td>5.2</td>\n",
       "      <td>31.0</td>\n",
       "      <td>0.4</td>\n",
       "      <td>0.2</td>\n",
       "      <td>36.0</td>\n",
       "      <td>32.37</td>\n",
       "      <td>38.0</td>\n",
       "      <td>4.0</td>\n",
       "      <td>NaN</td>\n",
       "      <td>NaN</td>\n",
       "      <td>107.0</td>\n",
       "      <td>1.9</td>\n",
       "      <td>600.0</td>\n",
       "      <td>3.6</td>\n",
       "      <td>0.0</td>\n",
       "      <td>NaN</td>\n",
       "      <td>0</td>\n",
       "    </tr>\n",
       "    <tr>\n",
       "      <th>4</th>\n",
       "      <td>132545.0</td>\n",
       "      <td>88.0</td>\n",
       "      <td>0.0</td>\n",
       "      <td>-1.0</td>\n",
       "      <td>3.0</td>\n",
       "      <td>25.0</td>\n",
       "      <td>1.0</td>\n",
       "      <td>15.0</td>\n",
       "      <td>92.0</td>\n",
       "      <td>18.0</td>\n",
       "      <td>22.6</td>\n",
       "      <td>65.0</td>\n",
       "      <td>3.8</td>\n",
       "      <td>1.5</td>\n",
       "      <td>26.0</td>\n",
       "      <td>52.33</td>\n",
       "      <td>105.0</td>\n",
       "      <td>139.0</td>\n",
       "      <td>NaN</td>\n",
       "      <td>NaN</td>\n",
       "      <td>97.0</td>\n",
       "      <td>35.8</td>\n",
       "      <td>16.0</td>\n",
       "      <td>3.8</td>\n",
       "      <td>-1.0</td>\n",
       "      <td>NaN</td>\n",
       "      <td>45.0</td>\n",
       "      <td>1.0</td>\n",
       "      <td>15.0</td>\n",
       "      <td>113.0</td>\n",
       "      <td>20.0</td>\n",
       "      <td>32.4</td>\n",
       "      <td>94.0</td>\n",
       "      <td>6.0</td>\n",
       "      <td>1.6</td>\n",
       "      <td>96.0</td>\n",
       "      <td>105.70</td>\n",
       "      <td>157.0</td>\n",
       "      <td>140.0</td>\n",
       "      <td>NaN</td>\n",
       "      <td>NaN</td>\n",
       "      <td>109.0</td>\n",
       "      <td>37.8</td>\n",
       "      <td>220.0</td>\n",
       "      <td>4.8</td>\n",
       "      <td>-1.0</td>\n",
       "      <td>NaN</td>\n",
       "      <td>35.000000</td>\n",
       "      <td>1.000000</td>\n",
       "      <td>15.000000</td>\n",
       "      <td>102.500000</td>\n",
       "      <td>19.000000</td>\n",
       "      <td>29.550000</td>\n",
       "      <td>74.958333</td>\n",
       "      <td>4.32</td>\n",
       "      <td>1.550000</td>\n",
       "      <td>45.720930</td>\n",
       "      <td>74.946512</td>\n",
       "      <td>133.395349</td>\n",
       "      <td>139.500000</td>\n",
       "      <td>NaN</td>\n",
       "      <td>NaN</td>\n",
       "      <td>103.000000</td>\n",
       "      <td>36.880000</td>\n",
       "      <td>62.131579</td>\n",
       "      <td>4.300000</td>\n",
       "      <td>-1.000000</td>\n",
       "      <td>NaN</td>\n",
       "      <td>35.0</td>\n",
       "      <td>1.00</td>\n",
       "      <td>15.0</td>\n",
       "      <td>102.5</td>\n",
       "      <td>19.0</td>\n",
       "      <td>30.6</td>\n",
       "      <td>73.0</td>\n",
       "      <td>3.9</td>\n",
       "      <td>1.55</td>\n",
       "      <td>42.0</td>\n",
       "      <td>75.330</td>\n",
       "      <td>131.0</td>\n",
       "      <td>139.5</td>\n",
       "      <td>NaN</td>\n",
       "      <td>NaN</td>\n",
       "      <td>103.0</td>\n",
       "      <td>37.00</td>\n",
       "      <td>50.0</td>\n",
       "      <td>4.3</td>\n",
       "      <td>-1.0</td>\n",
       "      <td>NaN</td>\n",
       "      <td>20.0</td>\n",
       "      <td>0.0</td>\n",
       "      <td>0.0</td>\n",
       "      <td>21.0</td>\n",
       "      <td>2.0</td>\n",
       "      <td>9.8</td>\n",
       "      <td>29.0</td>\n",
       "      <td>2.2</td>\n",
       "      <td>0.1</td>\n",
       "      <td>70.0</td>\n",
       "      <td>53.37</td>\n",
       "      <td>52.0</td>\n",
       "      <td>1.0</td>\n",
       "      <td>NaN</td>\n",
       "      <td>NaN</td>\n",
       "      <td>12.0</td>\n",
       "      <td>2.0</td>\n",
       "      <td>204.0</td>\n",
       "      <td>1.0</td>\n",
       "      <td>0.0</td>\n",
       "      <td>NaN</td>\n",
       "      <td>0</td>\n",
       "    </tr>\n",
       "  </tbody>\n",
       "</table>\n",
       "</div>"
      ],
      "text/plain": [
       "   PATIENT_ID   Age  Gender  Height  ICUType  BUN_Min  Creatinine_Min  \\\n",
       "0    132539.0  54.0     0.0    -1.0      4.0      8.0             0.7   \n",
       "1    132540.0  76.0     1.0   175.3      2.0     16.0             0.8   \n",
       "2    132541.0  44.0     0.0    -1.0      3.0      3.0             0.3   \n",
       "3    132543.0  68.0     1.0   180.3      3.0     10.0             0.7   \n",
       "4    132545.0  88.0     0.0    -1.0      3.0     25.0             1.0   \n",
       "\n",
       "   GCS_Min  Glucose_Min  HCO3_Min  HCT_Min  HR_Min  K_Min  Mg_Min  \\\n",
       "0     14.0        115.0      26.0     30.3    58.0    4.0     1.5   \n",
       "1      3.0        105.0      21.0     24.7    65.0    3.5     1.9   \n",
       "2      5.0        119.0      24.0     26.7    57.0    2.3     1.3   \n",
       "3     14.0        106.0      27.0     36.1    57.0    3.8     1.9   \n",
       "4     15.0         92.0      18.0     22.6    65.0    3.8     1.5   \n",
       "\n",
       "   NIDiasABP_Min  NIMAP_Min  NISysABP_Min  Na_Min  PaCO2_Min  PaO2_Min  \\\n",
       "0           39.0      58.67          96.0   136.0        NaN       NaN   \n",
       "1           38.0      49.33          72.0   135.0       33.0      82.0   \n",
       "2           66.0      83.33         111.0   137.0       33.0      65.0   \n",
       "3           45.0      68.33         102.0   137.0        NaN       NaN   \n",
       "4           26.0      52.33         105.0   139.0        NaN       NaN   \n",
       "\n",
       "   Platelets_Min  Temp_Min  Urine_Min  WBC_Min  Weight_Min  pH_Min  BUN_Max  \\\n",
       "0          185.0      35.1        0.0      9.4        -1.0     NaN     13.0   \n",
       "1          135.0      34.5        0.0      7.4        76.0    7.34     21.0   \n",
       "2           72.0      36.7       18.0      3.7        56.7    7.47      8.0   \n",
       "3          284.0      35.1      100.0      7.9        84.6     NaN     23.0   \n",
       "4           97.0      35.8       16.0      3.8        -1.0     NaN     45.0   \n",
       "\n",
       "   Creatinine_Max  GCS_Max  Glucose_Max  HCO3_Max  HCT_Max  HR_Max  K_Max  \\\n",
       "0             0.8     15.0        205.0      28.0     33.7    86.0    4.4   \n",
       "1             1.3     15.0        146.0      24.0     30.7    90.0    4.3   \n",
       "2             0.4      8.0        143.0      26.0     29.4   113.0    8.6   \n",
       "3             0.9     15.0        129.0      28.0     41.3    88.0    4.2   \n",
       "4             1.0     15.0        113.0      20.0     32.4    94.0    6.0   \n",
       "\n",
       "   Mg_Max  NIDiasABP_Max  NIMAP_Max  NISysABP_Max  Na_Max  PaCO2_Max  \\\n",
       "0     1.9           67.0      92.33         157.0   137.0        NaN   \n",
       "1     3.1           67.0      88.33         131.0   139.0       46.0   \n",
       "2     1.9           95.0     110.00         150.0   140.0       37.0   \n",
       "3     2.1           81.0     100.70         140.0   141.0        NaN   \n",
       "4     1.6           96.0     105.70         157.0   140.0        NaN   \n",
       "\n",
       "   PaO2_Max  Platelets_Max  Temp_Max  Urine_Max  WBC_Max  Weight_Max  pH_Max  \\\n",
       "0       NaN          221.0      38.2      900.0     11.2        -1.0     NaN   \n",
       "1     445.0          226.0      37.9      770.0     13.3        81.6    7.45   \n",
       "2     232.0          113.0      39.0      425.0      6.2        56.7    7.51   \n",
       "3       NaN          391.0      37.0      700.0     11.5        84.6     NaN   \n",
       "4       NaN          109.0      37.8      220.0      4.8        -1.0     NaN   \n",
       "\n",
       "    BUN_Mean  Creatinine_Mean   GCS_Mean  Glucose_Mean  HCO3_Mean   HCT_Mean  \\\n",
       "0  10.500000         0.750000  14.923077    160.000000  27.000000  32.500000   \n",
       "1  18.333333         1.100000  13.333333    125.500000  22.333333  28.655556   \n",
       "2   4.666667         0.333333   5.923077    134.333333  25.000000  28.460000   \n",
       "3  17.666667         0.766667  14.944444    117.333333  27.666667  37.442857   \n",
       "4  35.000000         1.000000  15.000000    102.500000  19.000000  29.550000   \n",
       "\n",
       "     HR_Mean  K_Mean   Mg_Mean  NIDiasABP_Mean  NIMAP_Mean  NISysABP_Mean  \\\n",
       "0  70.810811    4.20  1.700000       50.147059   71.559118     114.382353   \n",
       "1  80.794118    3.90  2.300000       56.714286   75.308571     112.500000   \n",
       "2  83.759259    4.26  1.720000       79.000000   96.751316     132.263158   \n",
       "3  70.983333    4.00  2.033333       65.051724   83.885517     121.551724   \n",
       "4  74.958333    4.32  1.550000       45.720930   74.946512     133.395349   \n",
       "\n",
       "      Na_Mean  PaCO2_Mean   PaO2_Mean  Platelets_Mean  Temp_Mean  Urine_Mean  \\\n",
       "0  136.500000         NaN         NaN      203.000000  37.357143  171.052632   \n",
       "1  137.000000   38.857143  210.142857      178.600000  36.939130  151.560976   \n",
       "2  138.333333   35.500000  134.500000       89.666667  37.800000  124.951220   \n",
       "3  139.333333         NaN         NaN      330.000000  36.223077  545.833333   \n",
       "4  139.500000         NaN         NaN      103.000000  36.880000   62.131579   \n",
       "\n",
       "    WBC_Mean  Weight_Mean  pH_Mean  BUN_Median  Creatinine_Median  GCS_Median  \\\n",
       "0  10.300000    -1.000000      NaN        10.5               0.75        15.0   \n",
       "1  11.266667    80.670588    7.395        18.0               1.20        15.0   \n",
       "2   4.700000    56.700000    7.495         3.0               0.30         5.0   \n",
       "3   9.400000    84.600000      NaN        20.0               0.70        15.0   \n",
       "4   4.300000    -1.000000      NaN        35.0               1.00        15.0   \n",
       "\n",
       "   Glucose_Median  HCO3_Median  HCT_Median  HR_Median  K_Median  Mg_Median  \\\n",
       "0           160.0         27.0        33.5       73.0       4.2       1.70   \n",
       "1           125.5         22.0        28.8       80.0       3.9       2.10   \n",
       "2           141.0         25.0        28.7       85.5       3.4       1.80   \n",
       "3           117.0         28.0        36.8       74.0       4.0       2.10   \n",
       "4           102.5         19.0        30.6       73.0       3.9       1.55   \n",
       "\n",
       "   NIDiasABP_Median  NIMAP_Median  NISysABP_Median  Na_Median  PaCO2_Median  \\\n",
       "0              49.0        70.000            110.0      136.5           NaN   \n",
       "1              59.0        78.165            115.0      137.0          40.0   \n",
       "2              79.0        97.670            134.0      138.0          36.0   \n",
       "3              64.0        83.670            120.0      140.0           NaN   \n",
       "4              42.0        75.330            131.0      139.5           NaN   \n",
       "\n",
       "   PaO2_Median  Platelets_Median  Temp_Median  Urine_Median  WBC_Median  \\\n",
       "0          NaN             203.0        37.70         100.0        10.3   \n",
       "1        153.0             181.0        37.45          90.0        13.1   \n",
       "2        120.5              84.0        37.85         100.0         4.2   \n",
       "3          NaN             315.0        36.40         625.0         8.8   \n",
       "4          NaN             103.0        37.00          50.0         4.3   \n",
       "\n",
       "   Weight_Median  pH_Median  BUN_Range  Creatinine_Range  GCS_Range  \\\n",
       "0           -1.0        NaN        5.0               0.1        1.0   \n",
       "1           80.6        7.4        5.0               0.5       12.0   \n",
       "2           56.7        7.5        5.0               0.1        3.0   \n",
       "3           84.6        NaN       13.0               0.2        1.0   \n",
       "4           -1.0        NaN       20.0               0.0        0.0   \n",
       "\n",
       "   Glucose_Range  HCO3_Range  HCT_Range  HR_Range  K_Range  Mg_Range  \\\n",
       "0           90.0         2.0        3.4      28.0      0.4       0.4   \n",
       "1           41.0         3.0        6.0      25.0      0.8       1.2   \n",
       "2           24.0         2.0        2.7      56.0      6.3       0.6   \n",
       "3           23.0         1.0        5.2      31.0      0.4       0.2   \n",
       "4           21.0         2.0        9.8      29.0      2.2       0.1   \n",
       "\n",
       "   NIDiasABP_Range  NIMAP_Range  NISysABP_Range  Na_Range  PaCO2_Range  \\\n",
       "0             28.0        33.66            61.0       1.0          NaN   \n",
       "1             29.0        39.00            59.0       4.0         13.0   \n",
       "2             29.0        26.67            39.0       3.0          4.0   \n",
       "3             36.0        32.37            38.0       4.0          NaN   \n",
       "4             70.0        53.37            52.0       1.0          NaN   \n",
       "\n",
       "   PaO2_Range  Platelets_Range  Temp_Range  Urine_Range  WBC_Range  \\\n",
       "0         NaN             36.0         3.1        900.0        1.8   \n",
       "1       363.0             91.0         3.4        770.0        5.9   \n",
       "2       167.0             41.0         2.3        407.0        2.5   \n",
       "3         NaN            107.0         1.9        600.0        3.6   \n",
       "4         NaN             12.0         2.0        204.0        1.0   \n",
       "\n",
       "   Weight_Range  pH_Range  In-hospital_death  \n",
       "0           0.0       NaN                  0  \n",
       "1           5.6      0.11                  0  \n",
       "2           0.0      0.04                  0  \n",
       "3           0.0       NaN                  0  \n",
       "4           0.0       NaN                  0  "
      ]
     },
     "execution_count": 343,
     "metadata": {},
     "output_type": "execute_result"
    }
   ],
   "source": [
    "hospital_data = pd.read_csv('hospital_mortality.csv')\n",
    "hospital_data.head(5)"
   ]
  },
  {
   "cell_type": "markdown",
   "metadata": {},
   "source": [
    "### How many patients have 20 or more missing feature values? "
   ]
  },
  {
   "cell_type": "code",
   "execution_count": 344,
   "metadata": {},
   "outputs": [
    {
     "data": {
      "text/plain": [
       "210"
      ]
     },
     "execution_count": 344,
     "metadata": {},
     "output_type": "execute_result"
    }
   ],
   "source": [
    "## Your code here\n",
    "sum(len(hospital_data.columns) - hospital_data.count(axis = 1) >= 20)"
   ]
  },
  {
   "cell_type": "markdown",
   "metadata": {},
   "source": [
    "We can utilize pandas count function which does not count NA values. Calculate total columns minus existing columns to get missing columns. Filter by greater than or equal to 20 and sum True values to get 210 patients."
   ]
  },
  {
   "cell_type": "markdown",
   "metadata": {},
   "source": [
    "### What’s the difference in means of HR_min for patients that died vs survived (not counting patients with HR_min of  0)?"
   ]
  },
  {
   "cell_type": "code",
   "execution_count": 345,
   "metadata": {},
   "outputs": [
    {
     "data": {
      "text/plain": [
       "In-hospital_death\n",
       "0    68.448744\n",
       "1    70.123389\n",
       "Name: HR_Min, dtype: float64"
      ]
     },
     "execution_count": 345,
     "metadata": {},
     "output_type": "execute_result"
    }
   ],
   "source": [
    "## Your code here\n",
    "HR_min_means = hospital_data.loc[hospital_data['HR_Min'] != 0].groupby('In-hospital_death')['HR_Min'].mean()\n",
    "HR_min_means"
   ]
  },
  {
   "cell_type": "code",
   "execution_count": 346,
   "metadata": {},
   "outputs": [
    {
     "data": {
      "text/plain": [
       "1.6746448633591484"
      ]
     },
     "execution_count": 346,
     "metadata": {},
     "output_type": "execute_result"
    }
   ],
   "source": [
    "HR_min_means.diff().values[1]"
   ]
  },
  {
   "cell_type": "markdown",
   "metadata": {},
   "source": [
    "First filter the dataframe to remove HR_min of 0. Then use groupby of In-hospital_death to calculate the mean value of HR_min for both groups. Finally can use diff function to take difference between the rows of the group by dataframe."
   ]
  },
  {
   "cell_type": "markdown",
   "metadata": {},
   "source": [
    "### What is the median maximum heart rate for patients whose maximum temperature was 2 degrees Celsius higher than their minimum temperature?"
   ]
  },
  {
   "cell_type": "code",
   "execution_count": 347,
   "metadata": {},
   "outputs": [
    {
     "data": {
      "text/plain": [
       "113.0"
      ]
     },
     "execution_count": 347,
     "metadata": {},
     "output_type": "execute_result"
    }
   ],
   "source": [
    "# Your code here\n",
    "hospital_data.loc[hospital_data['Temp_Max'] - 2 > hospital_data['Temp_Min']].loc[:,'HR_Max'].median()"
   ]
  },
  {
   "cell_type": "markdown",
   "metadata": {},
   "source": [
    "Filter the dataframe for patients whose max temp was 2 degrees higher than min. Assumed HR_Max was maximum heart rate."
   ]
  },
  {
   "cell_type": "markdown",
   "metadata": {},
   "source": [
    "### Create a plot to analyze the relationship between median temperature, outcome (died vs. survived), and age."
   ]
  },
  {
   "cell_type": "code",
   "execution_count": 348,
   "metadata": {},
   "outputs": [],
   "source": [
    "## Load ploting packages\n",
    "import matplotlib.pyplot as plt\n",
    "import seaborn as sns\n",
    "\n",
    "%matplotlib inline"
   ]
  },
  {
   "cell_type": "code",
   "execution_count": 349,
   "metadata": {},
   "outputs": [
    {
     "data": {
      "text/plain": [
       "(33, 40)"
      ]
     },
     "execution_count": 349,
     "metadata": {},
     "output_type": "execute_result"
    },
    {
     "data": {
      "image/png": "[encoded data removed]",
      "text/plain": [
       "<Figure size 864x576 with 2 Axes>"
      ]
     },
     "metadata": {
      "needs_background": "light"
     },
     "output_type": "display_data"
    }
   ],
   "source": [
    "## Your code here\n",
    "fig, ax = plt.subplots(2, 1, figsize = (12,8))\n",
    "\n",
    "## Create plotting dataframes for classifications\n",
    "hosp_death = hospital_data.loc[hospital_data['In-hospital_death'] == 1]\n",
    "no_hosp_death = hospital_data.loc[hospital_data['In-hospital_death'] == 0]\n",
    "\n",
    "## Plot\n",
    "ax[0].scatter(hosp_death['Temp_Median'], hosp_death['Age'], alpha = .25)\n",
    "ax[1].scatter(no_hosp_death['Temp_Median'], no_hosp_death['Age'], alpha = .25)\n",
    "\n",
    "## Add labels and ranges\n",
    "ax[0].set_title('Hospital Death')\n",
    "ax[0].set_ylabel('Age')\n",
    "ax[0].set_ylim(10, 95)\n",
    "ax[0].set_xlim(33, 40)\n",
    "\n",
    "ax[1].set_title('No Hospital Death')\n",
    "ax[1].set_ylabel('Age')\n",
    "ax[1].set_xlabel('Median Temperature')\n",
    "ax[1].set_ylim(10, 95)\n",
    "ax[1].set_xlim(33, 40)"
   ]
  },
  {
   "cell_type": "markdown",
   "metadata": {},
   "source": [
    "I originally tried to plot both classifications on the same plot, however there was too much overlap so I used subplots instead. We can clearly see individuals who died in the hospital skews older than the population. Additionally, the younger individuals who passed away generally had higher temperatures than the older individuals. \n",
    "\n",
    "Interestingly in the second subplot which shows those who do not die, we can see that younger participants had higher temperatures on average. This could be due to younger people not coming into the hospital until they have really bad fever (were really sick), wheras older people come in with more regularity at lower temperatures."
   ]
  },
  {
   "cell_type": "markdown",
   "metadata": {},
   "source": [
    "### Create a plot to analyze the relationship between median temperature, outcome (died vs. survived), and gender."
   ]
  },
  {
   "cell_type": "code",
   "execution_count": 350,
   "metadata": {},
   "outputs": [
    {
     "data": {
      "text/plain": [
       "(33, 40)"
      ]
     },
     "execution_count": 350,
     "metadata": {},
     "output_type": "execute_result"
    },
    {
     "data": {
      "image/png": "[encoded data removed]",
      "text/plain": [
       "<Figure size 864x576 with 2 Axes>"
      ]
     },
     "metadata": {
      "needs_background": "light"
     },
     "output_type": "display_data"
    }
   ],
   "source": [
    "## Your code here\n",
    "fig, ax = plt.subplots(1, 2, figsize = (12,8))\n",
    "\n",
    "## Create plotting dataframes for classifications, added in gender filter to remove missing values\n",
    "hosp_death = hospital_data.loc[(hospital_data['In-hospital_death'] == 1) & (hospital_data['Gender'] != -1)]\n",
    "no_hosp_death = hospital_data.loc[(hospital_data['In-hospital_death'] == 0) & (hospital_data['Gender']  != -1)]\n",
    "\n",
    "## Plot\n",
    "sns.boxplot(hosp_death['Gender'], hosp_death['Temp_Median'], ax = ax[0])\n",
    "sns.boxplot(no_hosp_death['Gender'], no_hosp_death['Temp_Median'], ax = ax[1])\n",
    "\n",
    "## Add labels and ranges\n",
    "ax[0].set_title('Hospital Death')\n",
    "ax[0].set_ylabel('Median Temperature')\n",
    "ax[0].set_xticklabels(['Female', 'Male'])\n",
    "ax[0].set_ylim(33, 40)\n",
    "\n",
    "ax[1].set_title('No Hospital Death')\n",
    "ax[1].set_ylabel('Median Temperature')\n",
    "ax[1].set_xticklabels(['Female', 'Male'])\n",
    "ax[1].set_ylim(33, 40)"
   ]
  },
  {
   "cell_type": "markdown",
   "metadata": {},
   "source": [
    "We can see in both plots the difference between the Genders is fairly small. Males generally experienced higher temeratures, judging by the interquartile range, however they also show a wider range of temperatures as well. Much like was observed in the previous plots, Median Temperature does not seem to differ much between those who died in the hospital and those who didn't. It would be interesting to look into Max Temperature over Median. There is the potential for people passing away when they were experiencing very high temperatures, even though the median was not very high."
   ]
  },
  {
   "cell_type": "markdown",
   "metadata": {},
   "source": [
    "### Build and summarize the results of a machine learning model that predicts whether a patient dies or survives in the hospital. (We do not expect a perfect or highest-accuracy solution; this is primarily an opportunity for you to show your machine learning project workflow and to document your thought process, approach to solving problems, and interpretation of results.)"
   ]
  },
  {
   "cell_type": "code",
   "execution_count": 351,
   "metadata": {},
   "outputs": [],
   "source": [
    "## Load packages\n",
    "from sklearn.preprocessing import normalize\n",
    "from sklearn.model_selection import train_test_split"
   ]
  },
  {
   "cell_type": "markdown",
   "metadata": {},
   "source": [
    "### Get Dummies for categorical variables"
   ]
  },
  {
   "cell_type": "code",
   "execution_count": 352,
   "metadata": {},
   "outputs": [],
   "source": [
    "hospital_data.loc[:, ['Gender', 'ICUType']] = hospital_data.loc[:, ['Gender', 'ICUType']].astype(str)\n",
    "hospital_data = pd.get_dummies(hospital_data, drop_first = True)"
   ]
  },
  {
   "cell_type": "markdown",
   "metadata": {},
   "source": [
    "### Fill in missing values"
   ]
  },
  {
   "cell_type": "code",
   "execution_count": 353,
   "metadata": {},
   "outputs": [],
   "source": [
    "## Deal with missing values. Simple solution to fill in median value of the column in their place\n",
    "hospital_data.fillna(hospital_data.median(), inplace = True)"
   ]
  },
  {
   "cell_type": "markdown",
   "metadata": {},
   "source": [
    "### Split Data"
   ]
  },
  {
   "cell_type": "code",
   "execution_count": 354,
   "metadata": {},
   "outputs": [],
   "source": [
    "## Seperate target and training values\n",
    "X = hospital_data.drop(columns = ['In-hospital_death', 'PATIENT_ID'])\n",
    "y = hospital_data.loc[:, 'In-hospital_death']\n",
    "\n",
    "## normalize\n",
    "norm_X = normalize(X)"
   ]
  },
  {
   "cell_type": "code",
   "execution_count": 355,
   "metadata": {},
   "outputs": [],
   "source": [
    "## Split into train, validation, and testing sets\n",
    "X_train, X_valid_test, y_train, y_valid_test = train_test_split(X, y, train_size = .7, random_state  = 2)\n",
    "X_valid, X_test, y_valid, y_test = train_test_split(X_valid_test, y_valid_test, train_size = .5, random_state  = 2)"
   ]
  },
  {
   "cell_type": "markdown",
   "metadata": {},
   "source": [
    "### Feature Selection vs Dimensionality Reduction"
   ]
  },
  {
   "cell_type": "markdown",
   "metadata": {},
   "source": [
    "In this section two different types of methods were tried to avoid overfitting. Because there are a large amount of columns in the dataset, adding them all introduces issues of overfitting and covariance between variables. To fix this two different methods were applied. The first is freature selection done through a logistic regression with L1 regularization (Lasso). Dimensionality reduction was done using PCA and keeping enough components to explain a reasonable amount of the variance."
   ]
  },
  {
   "cell_type": "markdown",
   "metadata": {},
   "source": [
    "#### Feature Selection"
   ]
  },
  {
   "cell_type": "code",
   "execution_count": 356,
   "metadata": {},
   "outputs": [],
   "source": [
    "from sklearn.linear_model import LogisticRegression\n",
    "from sklearn.model_selection import GridSearchCV"
   ]
  },
  {
   "cell_type": "code",
   "execution_count": 357,
   "metadata": {},
   "outputs": [],
   "source": [
    "param_grid = [{'C': [.005, .01, .1, .2, .5, 1], 'penalty' : ['l1'], 'solver' : ['liblinear']}]\n",
    "log_reg = LogisticRegression()\n",
    "param_optimize = GridSearchCV(log_reg, param_grid, cv = 5, scoring = 'roc_auc') ## Optimized towards AUC"
   ]
  },
  {
   "cell_type": "code",
   "execution_count": 358,
   "metadata": {},
   "outputs": [
    {
     "data": {
      "text/plain": [
       "GridSearchCV(cv=5, error_score=nan,\n",
       "             estimator=LogisticRegression(C=1.0, class_weight=None, dual=False,\n",
       "                                          fit_intercept=True,\n",
       "                                          intercept_scaling=1, l1_ratio=None,\n",
       "                                          max_iter=100, multi_class='auto',\n",
       "                                          n_jobs=None, penalty='l2',\n",
       "                                          random_state=None, solver='lbfgs',\n",
       "                                          tol=0.0001, verbose=0,\n",
       "                                          warm_start=False),\n",
       "             iid='deprecated', n_jobs=None,\n",
       "             param_grid=[{'C': [0.005, 0.01, 0.1, 0.2, 0.5, 1],\n",
       "                          'penalty': ['l1'], 'solver': ['liblinear']}],\n",
       "             pre_dispatch='2*n_jobs', refit=True, return_train_score=False,\n",
       "             scoring='roc_auc', verbose=0)"
      ]
     },
     "execution_count": 358,
     "metadata": {},
     "output_type": "execute_result"
    }
   ],
   "source": [
    "param_optimize.fit(X_train, y_train)"
   ]
  },
  {
   "cell_type": "code",
   "execution_count": 359,
   "metadata": {},
   "outputs": [],
   "source": [
    "best_log_reg = LogisticRegression(**param_optimize.best_params_)"
   ]
  },
  {
   "cell_type": "code",
   "execution_count": 360,
   "metadata": {},
   "outputs": [
    {
     "data": {
      "text/plain": [
       "LogisticRegression(C=0.01, class_weight=None, dual=False, fit_intercept=True,\n",
       "                   intercept_scaling=1, l1_ratio=None, max_iter=100,\n",
       "                   multi_class='auto', n_jobs=None, penalty='l1',\n",
       "                   random_state=None, solver='liblinear', tol=0.0001, verbose=0,\n",
       "                   warm_start=False)"
      ]
     },
     "execution_count": 360,
     "metadata": {},
     "output_type": "execute_result"
    }
   ],
   "source": [
    "best_log_reg.fit(X_train, y_train)"
   ]
  },
  {
   "cell_type": "code",
   "execution_count": 361,
   "metadata": {},
   "outputs": [],
   "source": [
    "lasso_features = [X.columns[x] for x in range(len(X.columns)) if best_log_reg.coef_[0][x] != 0]"
   ]
  },
  {
   "cell_type": "markdown",
   "metadata": {},
   "source": [
    "NOTE: A simpler, and possibly better, option for feature selection would be looking at each feature individually in a plot. Since there are only ~100 columns, this is definitely doable but I chose to perform feature selection programmatically over analytically."
   ]
  },
  {
   "cell_type": "markdown",
   "metadata": {},
   "source": [
    "#### Dimensionality Reduction"
   ]
  },
  {
   "cell_type": "code",
   "execution_count": 362,
   "metadata": {},
   "outputs": [],
   "source": [
    "from sklearn.decomposition import PCA"
   ]
  },
  {
   "cell_type": "markdown",
   "metadata": {},
   "source": [
    "Determine variance to keep"
   ]
  },
  {
   "cell_type": "code",
   "execution_count": 363,
   "metadata": {},
   "outputs": [
    {
     "data": {
      "text/plain": [
       "PCA(copy=True, iterated_power='auto', n_components=None, random_state=None,\n",
       "    svd_solver='auto', tol=0.0, whiten=False)"
      ]
     },
     "execution_count": 363,
     "metadata": {},
     "output_type": "execute_result"
    }
   ],
   "source": [
    "pca = PCA()\n",
    "pca.fit(norm_X)"
   ]
  },
  {
   "cell_type": "code",
   "execution_count": 364,
   "metadata": {},
   "outputs": [],
   "source": [
    "var_list = list()\n",
    "for x in range(1, 20):\n",
    "    var_list.append(1 - sum(pca.explained_variance_ratio_[:x]))"
   ]
  },
  {
   "cell_type": "code",
   "execution_count": 365,
   "metadata": {},
   "outputs": [
    {
     "data": {
      "text/plain": [
       "<BarContainer object of 19 artists>"
      ]
     },
     "execution_count": 365,
     "metadata": {},
     "output_type": "execute_result"
    },
    {
     "data": {
      "image/png": "[encoded data removed]",
      "text/plain": [
       "<Figure size 432x288 with 1 Axes>"
      ]
     },
     "metadata": {
      "needs_background": "light"
     },
     "output_type": "display_data"
    }
   ],
   "source": [
    "fig, ax = plt.subplots()\n",
    "ax.bar(x = range(1,20), height = var_list)"
   ]
  },
  {
   "cell_type": "markdown",
   "metadata": {},
   "source": [
    "From the plot of explained variance, there isn't a clearly defined elbow however we can clearly see diminishing returns when adding additional components. In the end, 8 PCA components were chosen so we still retain ~90% of the variance."
   ]
  },
  {
   "cell_type": "code",
   "execution_count": 366,
   "metadata": {},
   "outputs": [],
   "source": [
    "pca = PCA(n_components = 8)\n",
    "principalComponents = pca.fit_transform(norm_X)"
   ]
  },
  {
   "cell_type": "code",
   "execution_count": 367,
   "metadata": {},
   "outputs": [],
   "source": [
    "pca_X = pd.DataFrame(data = principalComponents, columns = ['pc{0}'.format(str(x)) for x in range(1, 9)])"
   ]
  },
  {
   "cell_type": "code",
   "execution_count": 368,
   "metadata": {},
   "outputs": [],
   "source": [
    "## Split into train, validation, and testing sets\n",
    "X_train_pca, X_valid_test_pca, y_train_pca, y_valid_test_pca = train_test_split(pca_X, y, train_size = .7, random_state  = 2)\n",
    "X_valid_pca, X_test_pca, y_valid_pca, y_test_pca = train_test_split(X_valid_test_pca, y_valid_test_pca, train_size = .5, random_state  = 2)"
   ]
  },
  {
   "cell_type": "markdown",
   "metadata": {},
   "source": [
    "### Model Selection"
   ]
  },
  {
   "cell_type": "markdown",
   "metadata": {},
   "source": [
    "Tested Models: Logistic Regression, Random Forest"
   ]
  },
  {
   "cell_type": "code",
   "execution_count": 369,
   "metadata": {},
   "outputs": [],
   "source": [
    "from sklearn.metrics import roc_curve, auc, roc_auc_score"
   ]
  },
  {
   "cell_type": "code",
   "execution_count": 370,
   "metadata": {},
   "outputs": [],
   "source": [
    "class ModelEvaluator:\n",
    "    \n",
    "    \"\"\"\n",
    "    Simple class to calcute evaluation metrics for each model iteration.\n",
    "    \"\"\"\n",
    "    \n",
    "    def __init__(self, model, X_val, y_val):\n",
    "        \n",
    "        self.model = model\n",
    "        self.X_val = X_val\n",
    "        self.y_val = y_val\n",
    "\n",
    "    def generate_ROC(self):\n",
    "        \n",
    "        ## Calculate false postive, true positive and AUC\n",
    "        fpr, tpr, _ = roc_curve(self.y_val, self.model.predict_proba(self.X_val)[:, 1])\n",
    "        \n",
    "        self.fpr = fpr\n",
    "        self.tpr = tpr\n",
    "        self.auc = auc(fpr, tpr)\n",
    "    \n",
    "    def plot(self):\n",
    "        \n",
    "        ## Plot ROC Curve for viz\n",
    "        fig, ax = plt.subplots(figsize = (8,6))\n",
    "        \n",
    "        ax.plot(self.fpr, self.tpr, color='orange')\n",
    "        ax.plot([0, 1], [0, 1], color='blue')\n",
    "    \n",
    "        ax.set_ylabel('TPR')\n",
    "        ax.set_xlabel('FPR')\n",
    "    "
   ]
  },
  {
   "cell_type": "markdown",
   "metadata": {},
   "source": [
    "#### Logistic Regression"
   ]
  },
  {
   "cell_type": "markdown",
   "metadata": {},
   "source": [
    "Feature Select Logistic"
   ]
  },
  {
   "cell_type": "code",
   "execution_count": 371,
   "metadata": {},
   "outputs": [],
   "source": [
    "## Cross Validate test best parameters\n",
    "param_grid = [{'C': [.005, .01, .1, .2, .5, 1], 'penalty' : ['l1', 'l2'], 'solver' : ['liblinear']}]\n",
    "log_reg = LogisticRegression()\n",
    "param_optimize = GridSearchCV(log_reg, param_grid, cv = 5, scoring = 'roc_auc') ## Optimized towards AUC"
   ]
  },
  {
   "cell_type": "code",
   "execution_count": 372,
   "metadata": {},
   "outputs": [
    {
     "name": "stderr",
     "output_type": "stream",
     "text": [
      "C:\\ProgramData\\Anaconda3\\lib\\site-packages\\sklearn\\svm\\_base.py:947: ConvergenceWarning: Liblinear failed to converge, increase the number of iterations.\n",
      "  \"the number of iterations.\", ConvergenceWarning)\n"
     ]
    },
    {
     "data": {
      "text/plain": [
       "GridSearchCV(cv=5, error_score=nan,\n",
       "             estimator=LogisticRegression(C=1.0, class_weight=None, dual=False,\n",
       "                                          fit_intercept=True,\n",
       "                                          intercept_scaling=1, l1_ratio=None,\n",
       "                                          max_iter=100, multi_class='auto',\n",
       "                                          n_jobs=None, penalty='l2',\n",
       "                                          random_state=None, solver='lbfgs',\n",
       "                                          tol=0.0001, verbose=0,\n",
       "                                          warm_start=False),\n",
       "             iid='deprecated', n_jobs=None,\n",
       "             param_grid=[{'C': [0.005, 0.01, 0.1, 0.2, 0.5, 1],\n",
       "                          'penalty': ['l1', 'l2'], 'solver': ['liblinear']}],\n",
       "             pre_dispatch='2*n_jobs', refit=True, return_train_score=False,\n",
       "             scoring='roc_auc', verbose=0)"
      ]
     },
     "execution_count": 372,
     "metadata": {},
     "output_type": "execute_result"
    }
   ],
   "source": [
    "param_optimize.fit(X_train, y_train)"
   ]
  },
  {
   "cell_type": "code",
   "execution_count": 373,
   "metadata": {},
   "outputs": [
    {
     "data": {
      "text/plain": [
       "{'C': 0.01, 'penalty': 'l1', 'solver': 'liblinear'}"
      ]
     },
     "execution_count": 373,
     "metadata": {},
     "output_type": "execute_result"
    }
   ],
   "source": [
    "param_optimize.best_params_"
   ]
  },
  {
   "cell_type": "markdown",
   "metadata": {},
   "source": [
    "NOTE: retested parameter optimization from previous section with Ridge Regression included. Got same results as in the feature selection."
   ]
  },
  {
   "cell_type": "code",
   "execution_count": 374,
   "metadata": {},
   "outputs": [],
   "source": [
    "## Train with best parameters\n",
    "best_log_reg = LogisticRegression(**param_optimize.best_params_)"
   ]
  },
  {
   "cell_type": "code",
   "execution_count": 375,
   "metadata": {},
   "outputs": [
    {
     "data": {
      "text/plain": [
       "LogisticRegression(C=0.01, class_weight=None, dual=False, fit_intercept=True,\n",
       "                   intercept_scaling=1, l1_ratio=None, max_iter=100,\n",
       "                   multi_class='auto', n_jobs=None, penalty='l1',\n",
       "                   random_state=None, solver='liblinear', tol=0.0001, verbose=0,\n",
       "                   warm_start=False)"
      ]
     },
     "execution_count": 375,
     "metadata": {},
     "output_type": "execute_result"
    }
   ],
   "source": [
    "best_log_reg.fit(X_train, y_train)"
   ]
  },
  {
   "cell_type": "code",
   "execution_count": 376,
   "metadata": {},
   "outputs": [],
   "source": [
    "## Evaluate model with validation set\n",
    "feature_log_eval = ModelEvaluator(best_log_reg, X_valid, y_valid)"
   ]
  },
  {
   "cell_type": "code",
   "execution_count": 377,
   "metadata": {},
   "outputs": [
    {
     "name": "stdout",
     "output_type": "stream",
     "text": [
      "AUC: 0.75\n"
     ]
    }
   ],
   "source": [
    "feature_log_eval.generate_ROC()\n",
    "print('AUC: {0}'.format(str(round(feature_log_eval.auc,2))))"
   ]
  },
  {
   "cell_type": "code",
   "execution_count": 378,
   "metadata": {},
   "outputs": [
    {
     "data": {
      "image/png": "[encoded data removed]",
      "text/plain": [
       "<Figure size 576x432 with 1 Axes>"
      ]
     },
     "metadata": {
      "needs_background": "light"
     },
     "output_type": "display_data"
    }
   ],
   "source": [
    "feature_log_eval.plot()"
   ]
  },
  {
   "cell_type": "markdown",
   "metadata": {},
   "source": [
    "PCA Logistic"
   ]
  },
  {
   "cell_type": "code",
   "execution_count": 379,
   "metadata": {},
   "outputs": [
    {
     "data": {
      "text/plain": [
       "LogisticRegression(C=1.0, class_weight=None, dual=False, fit_intercept=True,\n",
       "                   intercept_scaling=1, l1_ratio=None, max_iter=100,\n",
       "                   multi_class='auto', n_jobs=None, penalty='none',\n",
       "                   random_state=None, solver='lbfgs', tol=0.0001, verbose=0,\n",
       "                   warm_start=False)"
      ]
     },
     "execution_count": 379,
     "metadata": {},
     "output_type": "execute_result"
    }
   ],
   "source": [
    "## Did not include regularization for PCA\n",
    "best_log_reg = LogisticRegression(penalty = 'none')\n",
    "best_log_reg.fit(X_train_pca, y_train_pca)"
   ]
  },
  {
   "cell_type": "code",
   "execution_count": 380,
   "metadata": {},
   "outputs": [],
   "source": [
    "## Evaluate with validation set\n",
    "pca_log_eval = ModelEvaluator(best_log_reg, X_valid_pca, y_valid_pca)"
   ]
  },
  {
   "cell_type": "code",
   "execution_count": 381,
   "metadata": {},
   "outputs": [
    {
     "name": "stdout",
     "output_type": "stream",
     "text": [
      "AUC: 0.69\n"
     ]
    }
   ],
   "source": [
    "pca_log_eval.generate_ROC()\n",
    "print('AUC: {0}'.format(str(round(pca_log_eval.auc,2))))"
   ]
  },
  {
   "cell_type": "code",
   "execution_count": 382,
   "metadata": {},
   "outputs": [
    {
     "data": {
      "image/png": "[encoded data removed]",
      "text/plain": [
       "<Figure size 576x432 with 1 Axes>"
      ]
     },
     "metadata": {
      "needs_background": "light"
     },
     "output_type": "display_data"
    }
   ],
   "source": [
    "pca_log_eval.plot()"
   ]
  },
  {
   "cell_type": "markdown",
   "metadata": {},
   "source": [
    "#### Random Forest"
   ]
  },
  {
   "cell_type": "markdown",
   "metadata": {},
   "source": [
    "Feature Selection"
   ]
  },
  {
   "cell_type": "code",
   "execution_count": 383,
   "metadata": {},
   "outputs": [],
   "source": [
    "from sklearn.ensemble import RandomForestClassifier"
   ]
  },
  {
   "cell_type": "code",
   "execution_count": 384,
   "metadata": {},
   "outputs": [],
   "source": [
    "## Use features selected by logistic regression in previous section\n",
    "forest_X_train = X_train.loc[:, [x for x in X_train.columns if x in lasso_features]]\n",
    "forest_X_valid = X_valid.loc[:, [x for x in X_valid.columns if x in lasso_features]]\n",
    "forest_X_test = X_test.loc[:, [x for x in X_test.columns if x in lasso_features]]"
   ]
  },
  {
   "cell_type": "code",
   "execution_count": 385,
   "metadata": {},
   "outputs": [],
   "source": [
    "## Cross validate select best parameters\n",
    "param_grid = [{'n_estimators': [10, 50, 100, 250], 'max_depth' : [3, 5, 10, 15, 20], 'criterion' : ['gini', 'entropy'], 'max_features' : ['auto', 'sqrt']}]\n",
    "forest = RandomForestClassifier()\n",
    "param_optimize = GridSearchCV(forest, param_grid, cv = 5, scoring = 'roc_auc')"
   ]
  },
  {
   "cell_type": "code",
   "execution_count": 386,
   "metadata": {},
   "outputs": [
    {
     "data": {
      "text/plain": [
       "GridSearchCV(cv=5, error_score=nan,\n",
       "             estimator=RandomForestClassifier(bootstrap=True, ccp_alpha=0.0,\n",
       "                                              class_weight=None,\n",
       "                                              criterion='gini', max_depth=None,\n",
       "                                              max_features='auto',\n",
       "                                              max_leaf_nodes=None,\n",
       "                                              max_samples=None,\n",
       "                                              min_impurity_decrease=0.0,\n",
       "                                              min_impurity_split=None,\n",
       "                                              min_samples_leaf=1,\n",
       "                                              min_samples_split=2,\n",
       "                                              min_weight_fraction_leaf=0.0,\n",
       "                                              n_estimators=100, n_jobs=None,\n",
       "                                              oob_score=False,\n",
       "                                              random_state=None, verbose=0,\n",
       "                                              warm_start=False),\n",
       "             iid='deprecated', n_jobs=None,\n",
       "             param_grid=[{'criterion': ['gini', 'entropy'],\n",
       "                          'max_depth': [3, 5, 10, 15, 20],\n",
       "                          'max_features': ['auto', 'sqrt'],\n",
       "                          'n_estimators': [10, 50, 100, 250]}],\n",
       "             pre_dispatch='2*n_jobs', refit=True, return_train_score=False,\n",
       "             scoring='roc_auc', verbose=0)"
      ]
     },
     "execution_count": 386,
     "metadata": {},
     "output_type": "execute_result"
    }
   ],
   "source": [
    "param_optimize.fit(forest_X_train, y_train)"
   ]
  },
  {
   "cell_type": "code",
   "execution_count": 387,
   "metadata": {},
   "outputs": [],
   "source": [
    "## Train with best parameters\n",
    "best_forest = RandomForestClassifier(**param_optimize.best_params_)"
   ]
  },
  {
   "cell_type": "code",
   "execution_count": 388,
   "metadata": {},
   "outputs": [
    {
     "data": {
      "text/plain": [
       "RandomForestClassifier(bootstrap=True, ccp_alpha=0.0, class_weight=None,\n",
       "                       criterion='entropy', max_depth=10, max_features='auto',\n",
       "                       max_leaf_nodes=None, max_samples=None,\n",
       "                       min_impurity_decrease=0.0, min_impurity_split=None,\n",
       "                       min_samples_leaf=1, min_samples_split=2,\n",
       "                       min_weight_fraction_leaf=0.0, n_estimators=250,\n",
       "                       n_jobs=None, oob_score=False, random_state=None,\n",
       "                       verbose=0, warm_start=False)"
      ]
     },
     "execution_count": 388,
     "metadata": {},
     "output_type": "execute_result"
    }
   ],
   "source": [
    "best_forest.fit(forest_X_train, y_train)"
   ]
  },
  {
   "cell_type": "code",
   "execution_count": 389,
   "metadata": {},
   "outputs": [],
   "source": [
    "feature_forest_eval = ModelEvaluator(best_forest, forest_X_valid, y_valid)"
   ]
  },
  {
   "cell_type": "code",
   "execution_count": 390,
   "metadata": {},
   "outputs": [
    {
     "name": "stdout",
     "output_type": "stream",
     "text": [
      "AUC: 0.8\n"
     ]
    }
   ],
   "source": [
    "feature_forest_eval.generate_ROC()\n",
    "print('AUC: {0}'.format(str(round(feature_forest_eval.auc,2))))"
   ]
  },
  {
   "cell_type": "code",
   "execution_count": 391,
   "metadata": {},
   "outputs": [
    {
     "data": {
      "image/png": "[encoded data removed]",
      "text/plain": [
       "<Figure size 576x432 with 1 Axes>"
      ]
     },
     "metadata": {
      "needs_background": "light"
     },
     "output_type": "display_data"
    }
   ],
   "source": [
    "feature_forest_eval.plot()"
   ]
  },
  {
   "cell_type": "markdown",
   "metadata": {},
   "source": [
    "PCA"
   ]
  },
  {
   "cell_type": "code",
   "execution_count": 392,
   "metadata": {},
   "outputs": [
    {
     "data": {
      "text/plain": [
       "GridSearchCV(cv=5, error_score=nan,\n",
       "             estimator=RandomForestClassifier(bootstrap=True, ccp_alpha=0.0,\n",
       "                                              class_weight=None,\n",
       "                                              criterion='gini', max_depth=None,\n",
       "                                              max_features='auto',\n",
       "                                              max_leaf_nodes=None,\n",
       "                                              max_samples=None,\n",
       "                                              min_impurity_decrease=0.0,\n",
       "                                              min_impurity_split=None,\n",
       "                                              min_samples_leaf=1,\n",
       "                                              min_samples_split=2,\n",
       "                                              min_weight_fraction_leaf=0.0,\n",
       "                                              n_estimators=100, n_jobs=None,\n",
       "                                              oob_score=False,\n",
       "                                              random_state=None, verbose=0,\n",
       "                                              warm_start=False),\n",
       "             iid='deprecated', n_jobs=None,\n",
       "             param_grid=[{'criterion': ['gini', 'entropy'],\n",
       "                          'max_depth': [3, 5, 10, 15, 20],\n",
       "                          'max_features': ['auto', 'sqrt'],\n",
       "                          'n_estimators': [10, 50, 100, 250]}],\n",
       "             pre_dispatch='2*n_jobs', refit=True, return_train_score=False,\n",
       "             scoring='roc_auc', verbose=0)"
      ]
     },
     "execution_count": 392,
     "metadata": {},
     "output_type": "execute_result"
    }
   ],
   "source": [
    "## Rerun parameter optimization for PCA\n",
    "param_optimize.fit(X_train_pca, y_train_pca)"
   ]
  },
  {
   "cell_type": "code",
   "execution_count": 393,
   "metadata": {},
   "outputs": [],
   "source": [
    "## Train with new parameters\n",
    "best_forest_pca = RandomForestClassifier(**param_optimize.best_params_)"
   ]
  },
  {
   "cell_type": "code",
   "execution_count": 394,
   "metadata": {},
   "outputs": [
    {
     "data": {
      "text/plain": [
       "RandomForestClassifier(bootstrap=True, ccp_alpha=0.0, class_weight=None,\n",
       "                       criterion='entropy', max_depth=5, max_features='sqrt',\n",
       "                       max_leaf_nodes=None, max_samples=None,\n",
       "                       min_impurity_decrease=0.0, min_impurity_split=None,\n",
       "                       min_samples_leaf=1, min_samples_split=2,\n",
       "                       min_weight_fraction_leaf=0.0, n_estimators=50,\n",
       "                       n_jobs=None, oob_score=False, random_state=None,\n",
       "                       verbose=0, warm_start=False)"
      ]
     },
     "execution_count": 394,
     "metadata": {},
     "output_type": "execute_result"
    }
   ],
   "source": [
    "best_forest_pca.fit(X_train_pca, y_train_pca)"
   ]
  },
  {
   "cell_type": "code",
   "execution_count": 395,
   "metadata": {},
   "outputs": [],
   "source": [
    "## Evaluate with validation set\n",
    "pca_forest_eval = ModelEvaluator(best_forest_pca, X_valid_pca, y_valid_pca)"
   ]
  },
  {
   "cell_type": "code",
   "execution_count": 396,
   "metadata": {},
   "outputs": [
    {
     "name": "stdout",
     "output_type": "stream",
     "text": [
      "AUC: 0.68\n"
     ]
    }
   ],
   "source": [
    "pca_forest_eval.generate_ROC()\n",
    "print('AUC: {0}'.format(str(round(pca_forest_eval.auc,2))))"
   ]
  },
  {
   "cell_type": "code",
   "execution_count": 397,
   "metadata": {},
   "outputs": [
    {
     "data": {
      "image/png": "[encoded data removed]",
      "text/plain": [
       "<Figure size 576x432 with 1 Axes>"
      ]
     },
     "metadata": {
      "needs_background": "light"
     },
     "output_type": "display_data"
    }
   ],
   "source": [
    "pca_forest_eval.plot()"
   ]
  },
  {
   "cell_type": "markdown",
   "metadata": {},
   "source": [
    "### Final Results"
   ]
  },
  {
   "cell_type": "markdown",
   "metadata": {},
   "source": [
    "From the 2 models tested with two different sets of variables the results were as follows:\n",
    "\n",
    "\n",
    "| Model             | AUC  |\n",
    "|-------------------|------|\n",
    "| Logistic          | .75  |\n",
    "| Logistic PCA      | .69  |\n",
    "| Random Forest     | .80  |\n",
    "| Random Forest PCA | .67  |"
   ]
  },
  {
   "cell_type": "markdown",
   "metadata": {},
   "source": [
    "#### Discussion\n",
    "\n",
    "We can clearly see the Random Forest with features selected by logistic regression performed the best in terms of AUC. This is confirmed when looking at the four ROC plots above.\n",
    "\n",
    "AUC was used over accuracy because the dependent variable's categories were inbalanced. Accuracy would have been dominated by one classification and would not show the true model performance. \n",
    "\n",
    "AUC provides us with a solid model performance which looks at both the True positive and False positive rates. Depending on the objective of the model the target performance metric could be updated. For example if we are interested in identifying if an individual will die, we would most likely want to make sure we get as many of the True positives correct as possible (since missing a death is the worst case scenerio). In this case we could focus on optimizing towards Recall."
   ]
  },
  {
   "cell_type": "markdown",
   "metadata": {},
   "source": [
    "#### Future Exploration\n",
    "\n",
    "One area of future exploration is to balance the dataset before training. We could do this with a combination of downsampling the 0 classifications and upsampling the 1 classifications. This would most likely improve the training of the model and thus improve overall performance.\n",
    "\n",
    "An additional area of expansion we could employ is using/testing more models. In particular it would be interesting to see how a neural network performs on the data. I did not test a NN because the number of observations was fairly low (~4000). If we could expand the observations I would expect a NN to perform well."
   ]
  },
  {
   "cell_type": "markdown",
   "metadata": {},
   "source": [
    "### Test Set Results"
   ]
  },
  {
   "cell_type": "code",
   "execution_count": 398,
   "metadata": {},
   "outputs": [],
   "source": [
    "feature_forest_eval = ModelEvaluator(best_forest, forest_X_test, y_test)"
   ]
  },
  {
   "cell_type": "code",
   "execution_count": 399,
   "metadata": {},
   "outputs": [
    {
     "name": "stdout",
     "output_type": "stream",
     "text": [
      "AUC: 0.85\n"
     ]
    }
   ],
   "source": [
    "feature_forest_eval.generate_ROC()\n",
    "print('AUC: {0}'.format(str(round(feature_forest_eval.auc,2))))"
   ]
  },
  {
   "cell_type": "code",
   "execution_count": 400,
   "metadata": {},
   "outputs": [
    {
     "data": {
      "image/png": "[encoded data removed]",
      "text/plain": [
       "<Figure size 576x432 with 1 Axes>"
      ]
     },
     "metadata": {
      "needs_background": "light"
     },
     "output_type": "display_data"
    }
   ],
   "source": [
    "feature_forest_eval.plot()"
   ]
  },
  {
   "cell_type": "markdown",
   "metadata": {},
   "source": [
    "The results of the test set are used as reported performance of the model. This was held out to avoid any potential bias in both training and model selection."
   ]
  },
  {
   "cell_type": "code",
   "execution_count": null,
   "metadata": {},
   "outputs": [],
   "source": []
  }
 ],
 "metadata": {
  "kernelspec": {
   "display_name": "Python 3",
   "language": "python",
   "name": "python3"
  },
  "language_info": {
   "codemirror_mode": {
    "name": "ipython",
    "version": 3
   },
   "file_extension": ".py",
   "mimetype": "text/x-python",
   "name": "python",
   "nbconvert_exporter": "python",
   "pygments_lexer": "ipython3",
   "version": "3.7.6"
  }
 },
 "nbformat": 4,
 "nbformat_minor": 4
}
