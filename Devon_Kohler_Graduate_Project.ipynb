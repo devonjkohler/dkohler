{
 "cells": [
  {
   "attachments": {},
   "cell_type": "markdown",
   "metadata": {},
   "source": [
    "# Star Wars: The Last Survey"
   ]
  },
  {
   "cell_type": "markdown",
   "metadata": {},
   "source": [
    "### Import Packages "
   ]
  },
  {
   "cell_type": "code",
   "execution_count": 1,
   "metadata": {},
   "outputs": [
    {
     "data": {
      "text/html": [
       "<script>requirejs.config({paths: { 'plotly': ['https://cdn.plot.ly/plotly-latest.min']},});if(!window.Plotly) {{require(['plotly'],function(plotly) {window.Plotly=plotly;});}}</script>"
      ],
      "text/vnd.plotly.v1+html": [
       "<script>requirejs.config({paths: { 'plotly': ['https://cdn.plot.ly/plotly-latest.min']},});if(!window.Plotly) {{require(['plotly'],function(plotly) {window.Plotly=plotly;});}}</script>"
      ]
     },
     "metadata": {},
     "output_type": "display_data"
    }
   ],
   "source": [
    "import pandas as pd\n",
    "import numpy as np\n",
    "import IPython\n",
    "import matplotlib.pyplot as plt\n",
    "import seaborn as sns\n",
    "sns.set_context(\"paper\")\n",
    "%matplotlib inline\n",
    "\n",
    "import plotly.graph_objs as go\n",
    "import plotly.offline as offline\n",
    "from plotly import tools\n",
    "import plotly.figure_factory as ff\n",
    "offline.init_notebook_mode(connected = True)"
   ]
  },
  {
   "cell_type": "code",
   "execution_count": 61,
   "metadata": {},
   "outputs": [
    {
     "data": {
      "text/html": [
       "\n",
       "                <audio controls=\"controls\" autoplay=\"autoplay\">\n",
       "                    <source src=\"https://ia800304.us.archive.org/30/items/StarWarsTheImperialMarchDarthVadersTheme/Star%20Wars-%20The%20Imperial%20March%20%28Darth%20Vader%27s%20Theme%29.mp3\" type=\"audio/mpeg\" />\n",
       "                    Your browser does not support the audio element.\n",
       "                </audio>\n",
       "              "
      ],
      "text/plain": [
       "<IPython.lib.display.Audio object>"
      ]
     },
     "execution_count": 61,
     "metadata": {},
     "output_type": "execute_result"
    }
   ],
   "source": [
    "url = \"https://ia800304.us.archive.org/30/items/StarWarsTheImperialMarchDarthVadersTheme/Star%20Wars-%20The%20Imperial%20March%20%28Darth%20Vader%27s%20Theme%29.mp3\"\n",
    "\n",
    "IPython.display.Audio(url = url, autoplay=True)"
   ]
  },
  {
   "cell_type": "markdown",
   "metadata": {},
   "source": [
    "### Load Dataset"
   ]
  },
  {
   "cell_type": "code",
   "execution_count": 2,
   "metadata": {
    "collapsed": true
   },
   "outputs": [],
   "source": [
    "## Specify column names\n",
    "col_names = ['ID', 'Watched Any SW', 'Fan SW', 'Ep1 Seen', 'Ep2 Seen', 'Ep3 Seen', 'Ep4 Seen', 'Ep5 Seen', 'Ep6 Seen', 'Ep1 Rate', \\\n",
    "            'Ep2 Rate', 'Ep3 Rate', 'Ep4 Rate', 'Ep5 Rate', 'Ep6 Rate', 'Han Solo', 'Luke Skywalker', 'Princess Leia Organa', \\\n",
    "             'Anakin Skywalker', 'Obi Wan Kenobi', 'Emperor Palpatine', 'Darth Vader', 'Lando Calrissian', 'Boba Fett', \\\n",
    "             'C-3P0', 'R2 D2', 'Jar Jar Binks', 'Padme Amidala', 'Yoda', 'Who Shot First', 'Familiar EU', 'Fan EU', \\\n",
    "             'Fan StarTrek', 'Gender', 'Age', 'Income', 'Education', 'Location']"
   ]
  },
  {
   "cell_type": "code",
   "execution_count": 3,
   "metadata": {
    "collapsed": true
   },
   "outputs": [],
   "source": [
    "## Because data is from a survey the top two lines are weirdly formatted column names; drop and replace\n",
    "df = pd.read_csv(r\"StarWars.csv\", skiprows = [0,1], header = None, names = col_names)"
   ]
  },
  {
   "cell_type": "code",
   "execution_count": 4,
   "metadata": {
    "scrolled": true
   },
   "outputs": [
    {
     "data": {
      "text/html": [
       "<div>\n",
       "<style>\n",
       "    .dataframe thead tr:only-child th {\n",
       "        text-align: right;\n",
       "    }\n",
       "\n",
       "    .dataframe thead th {\n",
       "        text-align: left;\n",
       "    }\n",
       "\n",
       "    .dataframe tbody tr th {\n",
       "        vertical-align: top;\n",
       "    }\n",
       "</style>\n",
       "<table border=\"1\" class=\"dataframe\">\n",
       "  <thead>\n",
       "    <tr style=\"text-align: right;\">\n",
       "      <th></th>\n",
       "      <th>ID</th>\n",
       "      <th>Watched Any SW</th>\n",
       "      <th>Fan SW</th>\n",
       "      <th>Ep1 Seen</th>\n",
       "      <th>Ep2 Seen</th>\n",
       "      <th>Ep3 Seen</th>\n",
       "      <th>Ep4 Seen</th>\n",
       "      <th>Ep5 Seen</th>\n",
       "      <th>Ep6 Seen</th>\n",
       "      <th>Ep1 Rate</th>\n",
       "      <th>...</th>\n",
       "      <th>Yoda</th>\n",
       "      <th>Who Shot First</th>\n",
       "      <th>Familiar EU</th>\n",
       "      <th>Fan EU</th>\n",
       "      <th>Fan StarTrek</th>\n",
       "      <th>Gender</th>\n",
       "      <th>Age</th>\n",
       "      <th>Income</th>\n",
       "      <th>Education</th>\n",
       "      <th>Location</th>\n",
       "    </tr>\n",
       "  </thead>\n",
       "  <tbody>\n",
       "    <tr>\n",
       "      <th>0</th>\n",
       "      <td>3292879538</td>\n",
       "      <td>No</td>\n",
       "      <td>NaN</td>\n",
       "      <td>NaN</td>\n",
       "      <td>NaN</td>\n",
       "      <td>NaN</td>\n",
       "      <td>NaN</td>\n",
       "      <td>NaN</td>\n",
       "      <td>NaN</td>\n",
       "      <td>NaN</td>\n",
       "      <td>...</td>\n",
       "      <td>NaN</td>\n",
       "      <td>NaN</td>\n",
       "      <td>NaN</td>\n",
       "      <td>NaN</td>\n",
       "      <td>Yes</td>\n",
       "      <td>Male</td>\n",
       "      <td>18-29</td>\n",
       "      <td>$0 - $24,999</td>\n",
       "      <td>Bachelor degree</td>\n",
       "      <td>West South Central</td>\n",
       "    </tr>\n",
       "    <tr>\n",
       "      <th>1</th>\n",
       "      <td>3292765271</td>\n",
       "      <td>Yes</td>\n",
       "      <td>No</td>\n",
       "      <td>Star Wars: Episode I  The Phantom Menace</td>\n",
       "      <td>Star Wars: Episode II  Attack of the Clones</td>\n",
       "      <td>Star Wars: Episode III  Revenge of the Sith</td>\n",
       "      <td>NaN</td>\n",
       "      <td>NaN</td>\n",
       "      <td>NaN</td>\n",
       "      <td>1.0</td>\n",
       "      <td>...</td>\n",
       "      <td>Unfamiliar (N/A)</td>\n",
       "      <td>I don't understand this question</td>\n",
       "      <td>No</td>\n",
       "      <td>NaN</td>\n",
       "      <td>No</td>\n",
       "      <td>Male</td>\n",
       "      <td>18-29</td>\n",
       "      <td>$0 - $24,999</td>\n",
       "      <td>High school degree</td>\n",
       "      <td>West North Central</td>\n",
       "    </tr>\n",
       "    <tr>\n",
       "      <th>2</th>\n",
       "      <td>3292763116</td>\n",
       "      <td>Yes</td>\n",
       "      <td>Yes</td>\n",
       "      <td>Star Wars: Episode I  The Phantom Menace</td>\n",
       "      <td>Star Wars: Episode II  Attack of the Clones</td>\n",
       "      <td>Star Wars: Episode III  Revenge of the Sith</td>\n",
       "      <td>Star Wars: Episode IV  A New Hope</td>\n",
       "      <td>Star Wars: Episode V The Empire Strikes Back</td>\n",
       "      <td>Star Wars: Episode VI Return of the Jedi</td>\n",
       "      <td>5.0</td>\n",
       "      <td>...</td>\n",
       "      <td>Very favorably</td>\n",
       "      <td>I don't understand this question</td>\n",
       "      <td>No</td>\n",
       "      <td>NaN</td>\n",
       "      <td>Yes</td>\n",
       "      <td>Male</td>\n",
       "      <td>18-29</td>\n",
       "      <td>$100,000 - $149,999</td>\n",
       "      <td>Some college or Associate degree</td>\n",
       "      <td>West North Central</td>\n",
       "    </tr>\n",
       "    <tr>\n",
       "      <th>3</th>\n",
       "      <td>3292731220</td>\n",
       "      <td>Yes</td>\n",
       "      <td>Yes</td>\n",
       "      <td>Star Wars: Episode I  The Phantom Menace</td>\n",
       "      <td>Star Wars: Episode II  Attack of the Clones</td>\n",
       "      <td>Star Wars: Episode III  Revenge of the Sith</td>\n",
       "      <td>Star Wars: Episode IV  A New Hope</td>\n",
       "      <td>Star Wars: Episode V The Empire Strikes Back</td>\n",
       "      <td>Star Wars: Episode VI Return of the Jedi</td>\n",
       "      <td>5.0</td>\n",
       "      <td>...</td>\n",
       "      <td>Somewhat favorably</td>\n",
       "      <td>Greedo</td>\n",
       "      <td>Yes</td>\n",
       "      <td>No</td>\n",
       "      <td>No</td>\n",
       "      <td>Male</td>\n",
       "      <td>18-29</td>\n",
       "      <td>$100,000 - $149,999</td>\n",
       "      <td>Some college or Associate degree</td>\n",
       "      <td>West North Central</td>\n",
       "    </tr>\n",
       "    <tr>\n",
       "      <th>4</th>\n",
       "      <td>3292719380</td>\n",
       "      <td>Yes</td>\n",
       "      <td>Yes</td>\n",
       "      <td>Star Wars: Episode I  The Phantom Menace</td>\n",
       "      <td>Star Wars: Episode II  Attack of the Clones</td>\n",
       "      <td>Star Wars: Episode III  Revenge of the Sith</td>\n",
       "      <td>Star Wars: Episode IV  A New Hope</td>\n",
       "      <td>Star Wars: Episode V The Empire Strikes Back</td>\n",
       "      <td>Star Wars: Episode VI Return of the Jedi</td>\n",
       "      <td>1.0</td>\n",
       "      <td>...</td>\n",
       "      <td>Very favorably</td>\n",
       "      <td>Han</td>\n",
       "      <td>Yes</td>\n",
       "      <td>No</td>\n",
       "      <td>Yes</td>\n",
       "      <td>Male</td>\n",
       "      <td>18-29</td>\n",
       "      <td>$25,000 - $49,999</td>\n",
       "      <td>Bachelor degree</td>\n",
       "      <td>Middle Atlantic</td>\n",
       "    </tr>\n",
       "  </tbody>\n",
       "</table>\n",
       "<p>5 rows × 38 columns</p>\n",
       "</div>"
      ],
      "text/plain": [
       "           ID Watched Any SW Fan SW                                  Ep1 Seen  \\\n",
       "0  3292879538             No    NaN                                       NaN   \n",
       "1  3292765271            Yes     No  Star Wars: Episode I  The Phantom Menace   \n",
       "2  3292763116            Yes    Yes  Star Wars: Episode I  The Phantom Menace   \n",
       "3  3292731220            Yes    Yes  Star Wars: Episode I  The Phantom Menace   \n",
       "4  3292719380            Yes    Yes  Star Wars: Episode I  The Phantom Menace   \n",
       "\n",
       "                                      Ep2 Seen  \\\n",
       "0                                          NaN   \n",
       "1  Star Wars: Episode II  Attack of the Clones   \n",
       "2  Star Wars: Episode II  Attack of the Clones   \n",
       "3  Star Wars: Episode II  Attack of the Clones   \n",
       "4  Star Wars: Episode II  Attack of the Clones   \n",
       "\n",
       "                                      Ep3 Seen  \\\n",
       "0                                          NaN   \n",
       "1  Star Wars: Episode III  Revenge of the Sith   \n",
       "2  Star Wars: Episode III  Revenge of the Sith   \n",
       "3  Star Wars: Episode III  Revenge of the Sith   \n",
       "4  Star Wars: Episode III  Revenge of the Sith   \n",
       "\n",
       "                            Ep4 Seen  \\\n",
       "0                                NaN   \n",
       "1                                NaN   \n",
       "2  Star Wars: Episode IV  A New Hope   \n",
       "3  Star Wars: Episode IV  A New Hope   \n",
       "4  Star Wars: Episode IV  A New Hope   \n",
       "\n",
       "                                       Ep5 Seen  \\\n",
       "0                                           NaN   \n",
       "1                                           NaN   \n",
       "2  Star Wars: Episode V The Empire Strikes Back   \n",
       "3  Star Wars: Episode V The Empire Strikes Back   \n",
       "4  Star Wars: Episode V The Empire Strikes Back   \n",
       "\n",
       "                                   Ep6 Seen  Ep1 Rate         ...          \\\n",
       "0                                       NaN       NaN         ...           \n",
       "1                                       NaN       1.0         ...           \n",
       "2  Star Wars: Episode VI Return of the Jedi       5.0         ...           \n",
       "3  Star Wars: Episode VI Return of the Jedi       5.0         ...           \n",
       "4  Star Wars: Episode VI Return of the Jedi       1.0         ...           \n",
       "\n",
       "                 Yoda                    Who Shot First  Familiar EU  Fan EU  \\\n",
       "0                 NaN                               NaN          NaN     NaN   \n",
       "1    Unfamiliar (N/A)  I don't understand this question           No     NaN   \n",
       "2      Very favorably  I don't understand this question           No     NaN   \n",
       "3  Somewhat favorably                            Greedo          Yes      No   \n",
       "4      Very favorably                               Han          Yes      No   \n",
       "\n",
       "   Fan StarTrek Gender    Age               Income  \\\n",
       "0           Yes   Male  18-29         $0 - $24,999   \n",
       "1            No   Male  18-29         $0 - $24,999   \n",
       "2           Yes   Male  18-29  $100,000 - $149,999   \n",
       "3            No   Male  18-29  $100,000 - $149,999   \n",
       "4           Yes   Male  18-29    $25,000 - $49,999   \n",
       "\n",
       "                          Education            Location  \n",
       "0                   Bachelor degree  West South Central  \n",
       "1                High school degree  West North Central  \n",
       "2  Some college or Associate degree  West North Central  \n",
       "3  Some college or Associate degree  West North Central  \n",
       "4                   Bachelor degree     Middle Atlantic  \n",
       "\n",
       "[5 rows x 38 columns]"
      ]
     },
     "execution_count": 4,
     "metadata": {},
     "output_type": "execute_result"
    }
   ],
   "source": [
    "df.head()"
   ]
  },
  {
   "cell_type": "code",
   "execution_count": 5,
   "metadata": {},
   "outputs": [
    {
     "data": {
      "text/html": [
       "<div>\n",
       "<style>\n",
       "    .dataframe thead tr:only-child th {\n",
       "        text-align: right;\n",
       "    }\n",
       "\n",
       "    .dataframe thead th {\n",
       "        text-align: left;\n",
       "    }\n",
       "\n",
       "    .dataframe tbody tr th {\n",
       "        vertical-align: top;\n",
       "    }\n",
       "</style>\n",
       "<table border=\"1\" class=\"dataframe\">\n",
       "  <thead>\n",
       "    <tr style=\"text-align: right;\">\n",
       "      <th></th>\n",
       "      <th>count</th>\n",
       "      <th>mean</th>\n",
       "      <th>std</th>\n",
       "      <th>min</th>\n",
       "      <th>25%</th>\n",
       "      <th>50%</th>\n",
       "      <th>75%</th>\n",
       "      <th>max</th>\n",
       "    </tr>\n",
       "  </thead>\n",
       "  <tbody>\n",
       "    <tr>\n",
       "      <th>ID</th>\n",
       "      <td>1185.0</td>\n",
       "      <td>3.290126e+09</td>\n",
       "      <td>1.053050e+06</td>\n",
       "      <td>3.288373e+09</td>\n",
       "      <td>3.289450e+09</td>\n",
       "      <td>3.290146e+09</td>\n",
       "      <td>3.290813e+09</td>\n",
       "      <td>3.292880e+09</td>\n",
       "    </tr>\n",
       "    <tr>\n",
       "      <th>Ep1 Rate</th>\n",
       "      <td>834.0</td>\n",
       "      <td>3.733813e+00</td>\n",
       "      <td>1.656921e+00</td>\n",
       "      <td>1.000000e+00</td>\n",
       "      <td>3.000000e+00</td>\n",
       "      <td>4.000000e+00</td>\n",
       "      <td>5.000000e+00</td>\n",
       "      <td>6.000000e+00</td>\n",
       "    </tr>\n",
       "    <tr>\n",
       "      <th>Ep2 Rate</th>\n",
       "      <td>835.0</td>\n",
       "      <td>4.089820e+00</td>\n",
       "      <td>1.364268e+00</td>\n",
       "      <td>1.000000e+00</td>\n",
       "      <td>3.000000e+00</td>\n",
       "      <td>4.000000e+00</td>\n",
       "      <td>5.000000e+00</td>\n",
       "      <td>6.000000e+00</td>\n",
       "    </tr>\n",
       "    <tr>\n",
       "      <th>Ep3 Rate</th>\n",
       "      <td>834.0</td>\n",
       "      <td>4.345324e+00</td>\n",
       "      <td>1.396509e+00</td>\n",
       "      <td>1.000000e+00</td>\n",
       "      <td>3.000000e+00</td>\n",
       "      <td>5.000000e+00</td>\n",
       "      <td>6.000000e+00</td>\n",
       "      <td>6.000000e+00</td>\n",
       "    </tr>\n",
       "    <tr>\n",
       "      <th>Ep4 Rate</th>\n",
       "      <td>835.0</td>\n",
       "      <td>3.271856e+00</td>\n",
       "      <td>1.826821e+00</td>\n",
       "      <td>1.000000e+00</td>\n",
       "      <td>2.000000e+00</td>\n",
       "      <td>3.000000e+00</td>\n",
       "      <td>5.000000e+00</td>\n",
       "      <td>6.000000e+00</td>\n",
       "    </tr>\n",
       "    <tr>\n",
       "      <th>Ep5 Rate</th>\n",
       "      <td>835.0</td>\n",
       "      <td>2.510180e+00</td>\n",
       "      <td>1.577215e+00</td>\n",
       "      <td>1.000000e+00</td>\n",
       "      <td>1.000000e+00</td>\n",
       "      <td>2.000000e+00</td>\n",
       "      <td>3.000000e+00</td>\n",
       "      <td>6.000000e+00</td>\n",
       "    </tr>\n",
       "    <tr>\n",
       "      <th>Ep6 Rate</th>\n",
       "      <td>835.0</td>\n",
       "      <td>3.044311e+00</td>\n",
       "      <td>1.664757e+00</td>\n",
       "      <td>1.000000e+00</td>\n",
       "      <td>2.000000e+00</td>\n",
       "      <td>3.000000e+00</td>\n",
       "      <td>4.000000e+00</td>\n",
       "      <td>6.000000e+00</td>\n",
       "    </tr>\n",
       "  </tbody>\n",
       "</table>\n",
       "</div>"
      ],
      "text/plain": [
       "           count          mean           std           min           25%  \\\n",
       "ID        1185.0  3.290126e+09  1.053050e+06  3.288373e+09  3.289450e+09   \n",
       "Ep1 Rate   834.0  3.733813e+00  1.656921e+00  1.000000e+00  3.000000e+00   \n",
       "Ep2 Rate   835.0  4.089820e+00  1.364268e+00  1.000000e+00  3.000000e+00   \n",
       "Ep3 Rate   834.0  4.345324e+00  1.396509e+00  1.000000e+00  3.000000e+00   \n",
       "Ep4 Rate   835.0  3.271856e+00  1.826821e+00  1.000000e+00  2.000000e+00   \n",
       "Ep5 Rate   835.0  2.510180e+00  1.577215e+00  1.000000e+00  1.000000e+00   \n",
       "Ep6 Rate   835.0  3.044311e+00  1.664757e+00  1.000000e+00  2.000000e+00   \n",
       "\n",
       "                   50%           75%           max  \n",
       "ID        3.290146e+09  3.290813e+09  3.292880e+09  \n",
       "Ep1 Rate  4.000000e+00  5.000000e+00  6.000000e+00  \n",
       "Ep2 Rate  4.000000e+00  5.000000e+00  6.000000e+00  \n",
       "Ep3 Rate  5.000000e+00  6.000000e+00  6.000000e+00  \n",
       "Ep4 Rate  3.000000e+00  5.000000e+00  6.000000e+00  \n",
       "Ep5 Rate  2.000000e+00  3.000000e+00  6.000000e+00  \n",
       "Ep6 Rate  3.000000e+00  4.000000e+00  6.000000e+00  "
      ]
     },
     "execution_count": 5,
     "metadata": {},
     "output_type": "execute_result"
    }
   ],
   "source": [
    "df.describe().T"
   ]
  },
  {
   "cell_type": "code",
   "execution_count": 6,
   "metadata": {},
   "outputs": [
    {
     "data": {
      "text/plain": [
       "Index(['ID', 'Watched Any SW', 'Fan SW', 'Ep1 Seen', 'Ep2 Seen', 'Ep3 Seen',\n",
       "       'Ep4 Seen', 'Ep5 Seen', 'Ep6 Seen', 'Ep1 Rate', 'Ep2 Rate', 'Ep3 Rate',\n",
       "       'Ep4 Rate', 'Ep5 Rate', 'Ep6 Rate', 'Han Solo', 'Luke Skywalker',\n",
       "       'Princess Leia Organa', 'Anakin Skywalker', 'Obi Wan Kenobi',\n",
       "       'Emperor Palpatine', 'Darth Vader', 'Lando Calrissian', 'Boba Fett',\n",
       "       'C-3P0', 'R2 D2', 'Jar Jar Binks', 'Padme Amidala', 'Yoda',\n",
       "       'Who Shot First', 'Familiar EU', 'Fan EU', 'Fan StarTrek', 'Gender',\n",
       "       'Age', 'Income', 'Education', 'Location'],\n",
       "      dtype='object')"
      ]
     },
     "execution_count": 6,
     "metadata": {},
     "output_type": "execute_result"
    }
   ],
   "source": [
    "df.columns"
   ]
  },
  {
   "cell_type": "markdown",
   "metadata": {},
   "source": [
    "### Clean and Prepare Data"
   ]
  },
  {
   "cell_type": "markdown",
   "metadata": {},
   "source": [
    "Drop rows where first column is 'Yes' and remaining columns are NaN. People who havnt seen Star Wars are not fans and cannot rank the movies, however assuming the people who answered 'Yes' are not fans is incorrect."
   ]
  },
  {
   "cell_type": "code",
   "execution_count": 7,
   "metadata": {},
   "outputs": [
    {
     "data": {
      "text/html": [
       "<div>\n",
       "<style>\n",
       "    .dataframe thead tr:only-child th {\n",
       "        text-align: right;\n",
       "    }\n",
       "\n",
       "    .dataframe thead th {\n",
       "        text-align: left;\n",
       "    }\n",
       "\n",
       "    .dataframe tbody tr th {\n",
       "        vertical-align: top;\n",
       "    }\n",
       "</style>\n",
       "<table border=\"1\" class=\"dataframe\">\n",
       "  <thead>\n",
       "    <tr style=\"text-align: right;\">\n",
       "      <th></th>\n",
       "      <th>ID</th>\n",
       "      <th>Watched Any SW</th>\n",
       "      <th>Fan SW</th>\n",
       "      <th>Ep1 Seen</th>\n",
       "      <th>Ep2 Seen</th>\n",
       "      <th>Ep3 Seen</th>\n",
       "      <th>Ep4 Seen</th>\n",
       "      <th>Ep5 Seen</th>\n",
       "      <th>Ep6 Seen</th>\n",
       "      <th>Ep1 Rate</th>\n",
       "      <th>...</th>\n",
       "      <th>Yoda</th>\n",
       "      <th>Who Shot First</th>\n",
       "      <th>Familiar EU</th>\n",
       "      <th>Fan EU</th>\n",
       "      <th>Fan StarTrek</th>\n",
       "      <th>Gender</th>\n",
       "      <th>Age</th>\n",
       "      <th>Income</th>\n",
       "      <th>Education</th>\n",
       "      <th>Location</th>\n",
       "    </tr>\n",
       "  </thead>\n",
       "  <tbody>\n",
       "    <tr>\n",
       "      <th>0</th>\n",
       "      <td>3292879538</td>\n",
       "      <td>No</td>\n",
       "      <td>NaN</td>\n",
       "      <td>NaN</td>\n",
       "      <td>NaN</td>\n",
       "      <td>NaN</td>\n",
       "      <td>NaN</td>\n",
       "      <td>NaN</td>\n",
       "      <td>NaN</td>\n",
       "      <td>NaN</td>\n",
       "      <td>...</td>\n",
       "      <td>NaN</td>\n",
       "      <td>NaN</td>\n",
       "      <td>NaN</td>\n",
       "      <td>NaN</td>\n",
       "      <td>Yes</td>\n",
       "      <td>Male</td>\n",
       "      <td>18-29</td>\n",
       "      <td>$0 - $24,999</td>\n",
       "      <td>Bachelor degree</td>\n",
       "      <td>West South Central</td>\n",
       "    </tr>\n",
       "    <tr>\n",
       "      <th>9</th>\n",
       "      <td>3292637870</td>\n",
       "      <td>Yes</td>\n",
       "      <td>NaN</td>\n",
       "      <td>NaN</td>\n",
       "      <td>NaN</td>\n",
       "      <td>NaN</td>\n",
       "      <td>NaN</td>\n",
       "      <td>NaN</td>\n",
       "      <td>NaN</td>\n",
       "      <td>NaN</td>\n",
       "      <td>...</td>\n",
       "      <td>NaN</td>\n",
       "      <td>NaN</td>\n",
       "      <td>NaN</td>\n",
       "      <td>NaN</td>\n",
       "      <td>NaN</td>\n",
       "      <td>NaN</td>\n",
       "      <td>NaN</td>\n",
       "      <td>NaN</td>\n",
       "      <td>NaN</td>\n",
       "      <td>NaN</td>\n",
       "    </tr>\n",
       "  </tbody>\n",
       "</table>\n",
       "<p>2 rows × 38 columns</p>\n",
       "</div>"
      ],
      "text/plain": [
       "           ID Watched Any SW Fan SW Ep1 Seen Ep2 Seen Ep3 Seen Ep4 Seen  \\\n",
       "0  3292879538             No    NaN      NaN      NaN      NaN      NaN   \n",
       "9  3292637870            Yes    NaN      NaN      NaN      NaN      NaN   \n",
       "\n",
       "  Ep5 Seen Ep6 Seen  Ep1 Rate         ...          Yoda  Who Shot First  \\\n",
       "0      NaN      NaN       NaN         ...           NaN             NaN   \n",
       "9      NaN      NaN       NaN         ...           NaN             NaN   \n",
       "\n",
       "   Familiar EU  Fan EU  Fan StarTrek Gender    Age        Income  \\\n",
       "0          NaN     NaN           Yes   Male  18-29  $0 - $24,999   \n",
       "9          NaN     NaN           NaN    NaN    NaN           NaN   \n",
       "\n",
       "         Education            Location  \n",
       "0  Bachelor degree  West South Central  \n",
       "9              NaN                 NaN  \n",
       "\n",
       "[2 rows x 38 columns]"
      ]
     },
     "execution_count": 7,
     "metadata": {},
     "output_type": "execute_result"
    }
   ],
   "source": [
    "df.loc[pd.isnull(df['Fan SW'])].head(2)"
   ]
  },
  {
   "cell_type": "code",
   "execution_count": 8,
   "metadata": {
    "collapsed": true
   },
   "outputs": [],
   "source": [
    "df = df.loc[(~pd.isnull(df['Fan SW'])) | ~(df['Watched Any SW'] == 'Yes')]"
   ]
  },
  {
   "cell_type": "markdown",
   "metadata": {},
   "source": [
    "Some columns contain Yes/No answers. Swap these columns over to booleans for cleaner dataset. We will also fill in remaining NaNs with 'No'. Again remaining NaN values are for people who have not seen star wars so we can assume they are not fans ect."
   ]
  },
  {
   "cell_type": "code",
   "execution_count": 9,
   "metadata": {
    "collapsed": true
   },
   "outputs": [],
   "source": [
    "## List of columns to swap\n",
    "yes_no_answers = ['Watched Any SW', 'Fan SW', 'Familiar EU', 'Fan EU', 'Fan StarTrek']\n",
    "answer_to_bool = {'Yes' : True, 'No' : False}"
   ]
  },
  {
   "cell_type": "code",
   "execution_count": 10,
   "metadata": {
    "collapsed": true
   },
   "outputs": [],
   "source": [
    "for col in yes_no_answers:\n",
    "    ## Remaining NaNs should be 'No' in these columns\n",
    "    df[col].fillna('No', inplace = True)\n",
    "    df.loc[:, col] = df.loc[:, col].map(answer_to_bool) ## convert to Bool\n",
    "    "
   ]
  },
  {
   "cell_type": "markdown",
   "metadata": {},
   "source": [
    "Fix the \"Who shot first\" question. This is similar to Yes/No but has different verbiage so it requires different map. Once again we can assume people who havn't seen the films would not understand the question."
   ]
  },
  {
   "cell_type": "code",
   "execution_count": 11,
   "metadata": {
    "collapsed": true
   },
   "outputs": [],
   "source": [
    "df.loc[:, 'Who Shot First'].fillna('I don\\'t understand this question', inplace = True)\n",
    "shot_map = {'I don\\'t understand this question' : '0', 'Greedo' : '1', 'Han' : '2'}\n",
    "df.loc[:, 'Who Shot First'] = df.loc[:, 'Who Shot First'].map(shot_map)"
   ]
  },
  {
   "cell_type": "markdown",
   "metadata": {},
   "source": [
    "\"Episode Seen\" columns currently have the name of the movie if the person has seen it. We need to swap this to bools as well, where NaN is False and other is True."
   ]
  },
  {
   "cell_type": "code",
   "execution_count": 12,
   "metadata": {},
   "outputs": [],
   "source": [
    "seen_list = ['Ep1 Seen', 'Ep2 Seen', 'Ep3 Seen', 'Ep4 Seen', 'Ep5 Seen', 'Ep6 Seen']\n",
    "## Cast to bool\n",
    "for col in seen_list:\n",
    "    df.loc[:, col] = df.loc[:, col].apply(lambda x: x if pd.isnull(x) else True)\n",
    "    df.loc[:, col].fillna(False, inplace = True)"
   ]
  },
  {
   "cell_type": "markdown",
   "metadata": {},
   "source": [
    "If there is no rating then we will specify an \"unrated\" value of 0."
   ]
  },
  {
   "cell_type": "code",
   "execution_count": 13,
   "metadata": {
    "collapsed": true
   },
   "outputs": [],
   "source": [
    "ratings = ['Ep1 Rate', 'Ep2 Rate', 'Ep3 Rate', 'Ep4 Rate', 'Ep5 Rate', 'Ep6 Rate']\n",
    "df[ratings] = df[ratings].fillna(0)"
   ]
  },
  {
   "cell_type": "markdown",
   "metadata": {},
   "source": [
    "In this dataset if someone has not seen the movie there will still be a rank for the movie. Because we are specifing an \"unranked\" datapoint already (0), we can just identify and swap these points to 0."
   ]
  },
  {
   "cell_type": "code",
   "execution_count": 14,
   "metadata": {
    "scrolled": true
   },
   "outputs": [
    {
     "data": {
      "text/plain": [
       "Ep1 Seen     True\n",
       "Ep2 Seen    False\n",
       "Ep3 Seen    False\n",
       "Ep4 Seen     True\n",
       "Ep5 Seen     True\n",
       "Ep6 Seen     True\n",
       "Ep1 Rate        4\n",
       "Ep2 Rate        6\n",
       "Ep3 Rate        5\n",
       "Ep4 Rate        3\n",
       "Ep5 Rate        1\n",
       "Ep6 Rate        2\n",
       "Name: 49, dtype: object"
      ]
     },
     "execution_count": 14,
     "metadata": {},
     "output_type": "execute_result"
    }
   ],
   "source": [
    "df.loc[df['Ep3 Seen'] == False][seen_list+ratings].iloc[8]"
   ]
  },
  {
   "cell_type": "code",
   "execution_count": 15,
   "metadata": {
    "collapsed": true
   },
   "outputs": [],
   "source": [
    "## Specify dictionary to tie seen/ranks together\n",
    "seen_ranked_dict = {'Ep1 Seen' : 'Ep1 Rate', 'Ep2 Seen' : 'Ep2 Rate', 'Ep3 Seen' : 'Ep3 Rate', \\\n",
    "                    'Ep4 Seen': 'Ep4 Rate', 'Ep5 Seen' : 'Ep5 Rate', 'Ep6 Seen' : 'Ep6 Rate'}"
   ]
  },
  {
   "cell_type": "code",
   "execution_count": 16,
   "metadata": {
    "collapsed": true
   },
   "outputs": [],
   "source": [
    "## Simple function to check if film is seen and change rating if so\n",
    "def seen_check(seen, rank):\n",
    "    if seen:\n",
    "        return rank\n",
    "    else:\n",
    "        return 0"
   ]
  },
  {
   "cell_type": "code",
   "execution_count": 17,
   "metadata": {
    "collapsed": true
   },
   "outputs": [],
   "source": [
    "## Use dictionary to iterate over columns and apply func\n",
    "for key, value in seen_ranked_dict.items():\n",
    "\n",
    "    df.loc[:, value] = df.loc[:, [key, value]].apply(lambda x: seen_check(*x), axis = 1)"
   ]
  },
  {
   "cell_type": "code",
   "execution_count": 18,
   "metadata": {},
   "outputs": [
    {
     "data": {
      "text/plain": [
       "Ep1 Seen     True\n",
       "Ep2 Seen    False\n",
       "Ep3 Seen    False\n",
       "Ep4 Seen     True\n",
       "Ep5 Seen     True\n",
       "Ep6 Seen     True\n",
       "Ep1 Rate        4\n",
       "Ep2 Rate        0\n",
       "Ep3 Rate        0\n",
       "Ep4 Rate        3\n",
       "Ep5 Rate        1\n",
       "Ep6 Rate        2\n",
       "Name: 49, dtype: object"
      ]
     },
     "execution_count": 18,
     "metadata": {},
     "output_type": "execute_result"
    }
   ],
   "source": [
    "df.loc[df['Ep3 Seen'] == False][seen_list+ratings].iloc[8]"
   ]
  },
  {
   "cell_type": "markdown",
   "metadata": {},
   "source": [
    "We are trying to predict the Income column, so any rows that have NaN for Income will need to be dropped"
   ]
  },
  {
   "cell_type": "code",
   "execution_count": 19,
   "metadata": {
    "collapsed": true
   },
   "outputs": [],
   "source": [
    "## Drop Nan of target column\n",
    "df = df[~pd.isnull(df['Income'])]"
   ]
  },
  {
   "cell_type": "markdown",
   "metadata": {},
   "source": [
    "### Data Visualization"
   ]
  },
  {
   "cell_type": "markdown",
   "metadata": {},
   "source": [
    "Visualize distribution of Income column. Important to determine if classification column is evenly distributed or if we are dealing with an imbalanced dataset."
   ]
  },
  {
   "cell_type": "code",
   "execution_count": 20,
   "metadata": {},
   "outputs": [
    {
     "data": {
      "application/vnd.plotly.v1+json": {
       "data": [
        {
         "type": "bar",
         "x": [
          "$0 - $24,999",
          "$25,000 - $49,999",
          "$50,000 - $99,999",
          "$100,000 - $149,999",
          "$150,000+"
         ],
         "y": [
          138,
          186,
          298,
          141,
          95
         ]
        }
       ],
       "layout": {
        "margin": {
         "b": 100
        },
        "title": "Income Distribution",
        "xaxis": {
         "showticklabels": false,
         "title": "Income"
        },
        "yaxis": {
         "showticklabels": true,
         "title": "Count"
        }
       }
      },
      "text/html": [
       "<div id=\"9817828c-6ef0-4fb1-99f4-169080ffdc6b\" style=\"height: 525px; width: 100%;\" class=\"plotly-graph-div\"></div><script type=\"text/javascript\">require([\"plotly\"], function(Plotly) { window.PLOTLYENV=window.PLOTLYENV || {};window.PLOTLYENV.BASE_URL=\"https://plot.ly\";Plotly.newPlot(\"9817828c-6ef0-4fb1-99f4-169080ffdc6b\", [{\"type\": \"bar\", \"x\": [\"$0 - $24,999\", \"$25,000 - $49,999\", \"$50,000 - $99,999\", \"$100,000 - $149,999\", \"$150,000+\"], \"y\": [138, 186, 298, 141, 95]}], {\"title\": \"Income Distribution\", \"margin\": {\"b\": 100}, \"xaxis\": {\"title\": \"Income\", \"showticklabels\": false}, \"yaxis\": {\"title\": \"Count\", \"showticklabels\": true}}, {\"showLink\": true, \"linkText\": \"Export to plot.ly\"})});</script>"
      ],
      "text/vnd.plotly.v1+html": [
       "<div id=\"9817828c-6ef0-4fb1-99f4-169080ffdc6b\" style=\"height: 525px; width: 100%;\" class=\"plotly-graph-div\"></div><script type=\"text/javascript\">require([\"plotly\"], function(Plotly) { window.PLOTLYENV=window.PLOTLYENV || {};window.PLOTLYENV.BASE_URL=\"https://plot.ly\";Plotly.newPlot(\"9817828c-6ef0-4fb1-99f4-169080ffdc6b\", [{\"type\": \"bar\", \"x\": [\"$0 - $24,999\", \"$25,000 - $49,999\", \"$50,000 - $99,999\", \"$100,000 - $149,999\", \"$150,000+\"], \"y\": [138, 186, 298, 141, 95]}], {\"title\": \"Income Distribution\", \"margin\": {\"b\": 100}, \"xaxis\": {\"title\": \"Income\", \"showticklabels\": false}, \"yaxis\": {\"title\": \"Count\", \"showticklabels\": true}}, {\"showLink\": true, \"linkText\": \"Export to plot.ly\"})});</script>"
      ]
     },
     "metadata": {},
     "output_type": "display_data"
    }
   ],
   "source": [
    "def income_distribution():\n",
    "    \n",
    "    inc_sort_list = ['$0 - $24,999', '$25,000 - $49,999', '$50,000 - $99,999', '$100,000 - $149,999', '$150,000+']\n",
    "    \n",
    "    data = [go.Bar(\n",
    "                x = inc_sort_list,\n",
    "                y = df['Income'].value_counts()[inc_sort_list]\n",
    "    )]\n",
    "    \n",
    "    layout = go.Layout(\n",
    "                    title = 'Income Distribution',\n",
    "                    margin = go.Margin(b=100),\n",
    "                    xaxis=dict(\n",
    "                            title='Income',\n",
    "                            showticklabels=False,\n",
    "                    ),\n",
    "                    yaxis=dict(\n",
    "                            title='Count',\n",
    "                            showticklabels=True\n",
    "                    ))\n",
    "    \n",
    "    fig = go.Figure(data = data, layout = layout)    \n",
    "    \n",
    "    offline.iplot(fig)\n",
    "\n",
    "income_distribution()"
   ]
  },
  {
   "cell_type": "markdown",
   "metadata": {},
   "source": [
    "Now that we know the general distribution of the Income column, we will explore if there is any seperation between the different classifications depending on a persons survey question. To start we will plot a stacked bar chart of the Yes/No questions and see if people in different income brackets generally have different answers."
   ]
  },
  {
   "cell_type": "code",
   "execution_count": 21,
   "metadata": {
    "collapsed": true
   },
   "outputs": [],
   "source": [
    "def stacked_bar(col):\n",
    "    \n",
    "    inc_sort_list = ['$0 - $24,999', '$25,000 - $49,999', '$50,000 - $99,999', '$100,000 - $149,999', '$150,000+']\n",
    "    \n",
    "    percent_no = round(df[df[col] == True]['Income'].value_counts()[inc_sort_list] / \\\n",
    "                       df['Income'].value_counts()[inc_sort_list] * 100)\n",
    "    \n",
    "    percent_no = ['{0:.0f}%'.format(x) for x in percent_no]\n",
    "    \n",
    "    trace1 = go.Bar(\n",
    "        x = inc_sort_list,\n",
    "        y = df[df[col] == True]['Income'].value_counts()[inc_sort_list],\n",
    "        name = 'Yes',\n",
    "        marker=dict(\n",
    "        color='rgb(40,0,150)'\n",
    "            )\n",
    "    )\n",
    "    \n",
    "    trace2 = go.Bar(\n",
    "        x = inc_sort_list,\n",
    "        y = df[df[col] == False]['Income'].value_counts()[inc_sort_list],\n",
    "        name = 'No',\n",
    "        text = percent_no,\n",
    "        textposition='auto',\n",
    "        marker=dict(\n",
    "            color='rgb(0,153,0)'\n",
    "                )\n",
    "    )\n",
    "    \n",
    "    data = [trace1, trace2]\n",
    "    \n",
    "    layout = go.Layout(\n",
    "                barmode='stack',\n",
    "                title = col,\n",
    "                autosize=False,\n",
    "                width=750,\n",
    "                height=400,\n",
    "                xaxis=dict(\n",
    "                        title='Income',\n",
    "                        showticklabels=False)\n",
    "                )\n",
    "    \n",
    "    fig = go.Figure(data = data, layout = layout)\n",
    "    \n",
    "    offline.iplot(fig)"
   ]
  },
  {
   "cell_type": "code",
   "execution_count": 22,
   "metadata": {
    "scrolled": false
   },
   "outputs": [
    {
     "data": {
      "application/vnd.plotly.v1+json": {
       "data": [
        {
         "marker": {
          "color": "rgb(40,0,150)"
         },
         "name": "Yes",
         "type": "bar",
         "x": [
          "$0 - $24,999",
          "$25,000 - $49,999",
          "$50,000 - $99,999",
          "$100,000 - $149,999",
          "$150,000+"
         ],
         "y": [
          98,
          147,
          238,
          115,
          77
         ]
        },
        {
         "marker": {
          "color": "rgb(0,153,0)"
         },
         "name": "No",
         "text": [
          "71%",
          "79%",
          "80%",
          "82%",
          "81%"
         ],
         "textposition": "auto",
         "type": "bar",
         "x": [
          "$0 - $24,999",
          "$25,000 - $49,999",
          "$50,000 - $99,999",
          "$100,000 - $149,999",
          "$150,000+"
         ],
         "y": [
          40,
          39,
          60,
          26,
          18
         ]
        }
       ],
       "layout": {
        "autosize": false,
        "barmode": "stack",
        "height": 400,
        "title": "Watched Any SW",
        "width": 750,
        "xaxis": {
         "showticklabels": false,
         "title": "Income"
        }
       }
      },
      "text/html": [
       "<div id=\"a90a01b4-6c8f-4fbd-bda3-8ed7adc0d098\" style=\"height: 400px; width: 750px;\" class=\"plotly-graph-div\"></div><script type=\"text/javascript\">require([\"plotly\"], function(Plotly) { window.PLOTLYENV=window.PLOTLYENV || {};window.PLOTLYENV.BASE_URL=\"https://plot.ly\";Plotly.newPlot(\"a90a01b4-6c8f-4fbd-bda3-8ed7adc0d098\", [{\"type\": \"bar\", \"x\": [\"$0 - $24,999\", \"$25,000 - $49,999\", \"$50,000 - $99,999\", \"$100,000 - $149,999\", \"$150,000+\"], \"y\": [98, 147, 238, 115, 77], \"name\": \"Yes\", \"marker\": {\"color\": \"rgb(40,0,150)\"}}, {\"type\": \"bar\", \"x\": [\"$0 - $24,999\", \"$25,000 - $49,999\", \"$50,000 - $99,999\", \"$100,000 - $149,999\", \"$150,000+\"], \"y\": [40, 39, 60, 26, 18], \"name\": \"No\", \"text\": [\"71%\", \"79%\", \"80%\", \"82%\", \"81%\"], \"textposition\": \"auto\", \"marker\": {\"color\": \"rgb(0,153,0)\"}}], {\"barmode\": \"stack\", \"title\": \"Watched Any SW\", \"autosize\": false, \"width\": 750, \"height\": 400, \"xaxis\": {\"title\": \"Income\", \"showticklabels\": false}}, {\"showLink\": true, \"linkText\": \"Export to plot.ly\"})});</script>"
      ],
      "text/vnd.plotly.v1+html": [
       "<div id=\"a90a01b4-6c8f-4fbd-bda3-8ed7adc0d098\" style=\"height: 400px; width: 750px;\" class=\"plotly-graph-div\"></div><script type=\"text/javascript\">require([\"plotly\"], function(Plotly) { window.PLOTLYENV=window.PLOTLYENV || {};window.PLOTLYENV.BASE_URL=\"https://plot.ly\";Plotly.newPlot(\"a90a01b4-6c8f-4fbd-bda3-8ed7adc0d098\", [{\"type\": \"bar\", \"x\": [\"$0 - $24,999\", \"$25,000 - $49,999\", \"$50,000 - $99,999\", \"$100,000 - $149,999\", \"$150,000+\"], \"y\": [98, 147, 238, 115, 77], \"name\": \"Yes\", \"marker\": {\"color\": \"rgb(40,0,150)\"}}, {\"type\": \"bar\", \"x\": [\"$0 - $24,999\", \"$25,000 - $49,999\", \"$50,000 - $99,999\", \"$100,000 - $149,999\", \"$150,000+\"], \"y\": [40, 39, 60, 26, 18], \"name\": \"No\", \"text\": [\"71%\", \"79%\", \"80%\", \"82%\", \"81%\"], \"textposition\": \"auto\", \"marker\": {\"color\": \"rgb(0,153,0)\"}}], {\"barmode\": \"stack\", \"title\": \"Watched Any SW\", \"autosize\": false, \"width\": 750, \"height\": 400, \"xaxis\": {\"title\": \"Income\", \"showticklabels\": false}}, {\"showLink\": true, \"linkText\": \"Export to plot.ly\"})});</script>"
      ]
     },
     "metadata": {},
     "output_type": "display_data"
    },
    {
     "data": {
      "application/vnd.plotly.v1+json": {
       "data": [
        {
         "marker": {
          "color": "rgb(40,0,150)"
         },
         "name": "Yes",
         "type": "bar",
         "x": [
          "$0 - $24,999",
          "$25,000 - $49,999",
          "$50,000 - $99,999",
          "$100,000 - $149,999",
          "$150,000+"
         ],
         "y": [
          61,
          84,
          156,
          79,
          55
         ]
        },
        {
         "marker": {
          "color": "rgb(0,153,0)"
         },
         "name": "No",
         "text": [
          "44%",
          "45%",
          "52%",
          "56%",
          "58%"
         ],
         "textposition": "auto",
         "type": "bar",
         "x": [
          "$0 - $24,999",
          "$25,000 - $49,999",
          "$50,000 - $99,999",
          "$100,000 - $149,999",
          "$150,000+"
         ],
         "y": [
          77,
          102,
          142,
          62,
          40
         ]
        }
       ],
       "layout": {
        "autosize": false,
        "barmode": "stack",
        "height": 400,
        "title": "Fan SW",
        "width": 750,
        "xaxis": {
         "showticklabels": false,
         "title": "Income"
        }
       }
      },
      "text/html": [
       "<div id=\"2373fdb4-1848-420f-a6cf-903066ccf36b\" style=\"height: 400px; width: 750px;\" class=\"plotly-graph-div\"></div><script type=\"text/javascript\">require([\"plotly\"], function(Plotly) { window.PLOTLYENV=window.PLOTLYENV || {};window.PLOTLYENV.BASE_URL=\"https://plot.ly\";Plotly.newPlot(\"2373fdb4-1848-420f-a6cf-903066ccf36b\", [{\"type\": \"bar\", \"x\": [\"$0 - $24,999\", \"$25,000 - $49,999\", \"$50,000 - $99,999\", \"$100,000 - $149,999\", \"$150,000+\"], \"y\": [61, 84, 156, 79, 55], \"name\": \"Yes\", \"marker\": {\"color\": \"rgb(40,0,150)\"}}, {\"type\": \"bar\", \"x\": [\"$0 - $24,999\", \"$25,000 - $49,999\", \"$50,000 - $99,999\", \"$100,000 - $149,999\", \"$150,000+\"], \"y\": [77, 102, 142, 62, 40], \"name\": \"No\", \"text\": [\"44%\", \"45%\", \"52%\", \"56%\", \"58%\"], \"textposition\": \"auto\", \"marker\": {\"color\": \"rgb(0,153,0)\"}}], {\"barmode\": \"stack\", \"title\": \"Fan SW\", \"autosize\": false, \"width\": 750, \"height\": 400, \"xaxis\": {\"title\": \"Income\", \"showticklabels\": false}}, {\"showLink\": true, \"linkText\": \"Export to plot.ly\"})});</script>"
      ],
      "text/vnd.plotly.v1+html": [
       "<div id=\"2373fdb4-1848-420f-a6cf-903066ccf36b\" style=\"height: 400px; width: 750px;\" class=\"plotly-graph-div\"></div><script type=\"text/javascript\">require([\"plotly\"], function(Plotly) { window.PLOTLYENV=window.PLOTLYENV || {};window.PLOTLYENV.BASE_URL=\"https://plot.ly\";Plotly.newPlot(\"2373fdb4-1848-420f-a6cf-903066ccf36b\", [{\"type\": \"bar\", \"x\": [\"$0 - $24,999\", \"$25,000 - $49,999\", \"$50,000 - $99,999\", \"$100,000 - $149,999\", \"$150,000+\"], \"y\": [61, 84, 156, 79, 55], \"name\": \"Yes\", \"marker\": {\"color\": \"rgb(40,0,150)\"}}, {\"type\": \"bar\", \"x\": [\"$0 - $24,999\", \"$25,000 - $49,999\", \"$50,000 - $99,999\", \"$100,000 - $149,999\", \"$150,000+\"], \"y\": [77, 102, 142, 62, 40], \"name\": \"No\", \"text\": [\"44%\", \"45%\", \"52%\", \"56%\", \"58%\"], \"textposition\": \"auto\", \"marker\": {\"color\": \"rgb(0,153,0)\"}}], {\"barmode\": \"stack\", \"title\": \"Fan SW\", \"autosize\": false, \"width\": 750, \"height\": 400, \"xaxis\": {\"title\": \"Income\", \"showticklabels\": false}}, {\"showLink\": true, \"linkText\": \"Export to plot.ly\"})});</script>"
      ]
     },
     "metadata": {},
     "output_type": "display_data"
    },
    {
     "data": {
      "application/vnd.plotly.v1+json": {
       "data": [
        {
         "marker": {
          "color": "rgb(40,0,150)"
         },
         "name": "Yes",
         "type": "bar",
         "x": [
          "$0 - $24,999",
          "$25,000 - $49,999",
          "$50,000 - $99,999",
          "$100,000 - $149,999",
          "$150,000+"
         ],
         "y": [
          31,
          34,
          61,
          27,
          24
         ]
        },
        {
         "marker": {
          "color": "rgb(0,153,0)"
         },
         "name": "No",
         "text": [
          "22%",
          "18%",
          "20%",
          "19%",
          "25%"
         ],
         "textposition": "auto",
         "type": "bar",
         "x": [
          "$0 - $24,999",
          "$25,000 - $49,999",
          "$50,000 - $99,999",
          "$100,000 - $149,999",
          "$150,000+"
         ],
         "y": [
          107,
          152,
          237,
          114,
          71
         ]
        }
       ],
       "layout": {
        "autosize": false,
        "barmode": "stack",
        "height": 400,
        "title": "Familiar EU",
        "width": 750,
        "xaxis": {
         "showticklabels": false,
         "title": "Income"
        }
       }
      },
      "text/html": [
       "<div id=\"1c822701-a628-4a3f-a50b-202927ee6137\" style=\"height: 400px; width: 750px;\" class=\"plotly-graph-div\"></div><script type=\"text/javascript\">require([\"plotly\"], function(Plotly) { window.PLOTLYENV=window.PLOTLYENV || {};window.PLOTLYENV.BASE_URL=\"https://plot.ly\";Plotly.newPlot(\"1c822701-a628-4a3f-a50b-202927ee6137\", [{\"type\": \"bar\", \"x\": [\"$0 - $24,999\", \"$25,000 - $49,999\", \"$50,000 - $99,999\", \"$100,000 - $149,999\", \"$150,000+\"], \"y\": [31, 34, 61, 27, 24], \"name\": \"Yes\", \"marker\": {\"color\": \"rgb(40,0,150)\"}}, {\"type\": \"bar\", \"x\": [\"$0 - $24,999\", \"$25,000 - $49,999\", \"$50,000 - $99,999\", \"$100,000 - $149,999\", \"$150,000+\"], \"y\": [107, 152, 237, 114, 71], \"name\": \"No\", \"text\": [\"22%\", \"18%\", \"20%\", \"19%\", \"25%\"], \"textposition\": \"auto\", \"marker\": {\"color\": \"rgb(0,153,0)\"}}], {\"barmode\": \"stack\", \"title\": \"Familiar EU\", \"autosize\": false, \"width\": 750, \"height\": 400, \"xaxis\": {\"title\": \"Income\", \"showticklabels\": false}}, {\"showLink\": true, \"linkText\": \"Export to plot.ly\"})});</script>"
      ],
      "text/vnd.plotly.v1+html": [
       "<div id=\"1c822701-a628-4a3f-a50b-202927ee6137\" style=\"height: 400px; width: 750px;\" class=\"plotly-graph-div\"></div><script type=\"text/javascript\">require([\"plotly\"], function(Plotly) { window.PLOTLYENV=window.PLOTLYENV || {};window.PLOTLYENV.BASE_URL=\"https://plot.ly\";Plotly.newPlot(\"1c822701-a628-4a3f-a50b-202927ee6137\", [{\"type\": \"bar\", \"x\": [\"$0 - $24,999\", \"$25,000 - $49,999\", \"$50,000 - $99,999\", \"$100,000 - $149,999\", \"$150,000+\"], \"y\": [31, 34, 61, 27, 24], \"name\": \"Yes\", \"marker\": {\"color\": \"rgb(40,0,150)\"}}, {\"type\": \"bar\", \"x\": [\"$0 - $24,999\", \"$25,000 - $49,999\", \"$50,000 - $99,999\", \"$100,000 - $149,999\", \"$150,000+\"], \"y\": [107, 152, 237, 114, 71], \"name\": \"No\", \"text\": [\"22%\", \"18%\", \"20%\", \"19%\", \"25%\"], \"textposition\": \"auto\", \"marker\": {\"color\": \"rgb(0,153,0)\"}}], {\"barmode\": \"stack\", \"title\": \"Familiar EU\", \"autosize\": false, \"width\": 750, \"height\": 400, \"xaxis\": {\"title\": \"Income\", \"showticklabels\": false}}, {\"showLink\": true, \"linkText\": \"Export to plot.ly\"})});</script>"
      ]
     },
     "metadata": {},
     "output_type": "display_data"
    },
    {
     "data": {
      "application/vnd.plotly.v1+json": {
       "data": [
        {
         "marker": {
          "color": "rgb(40,0,150)"
         },
         "name": "Yes",
         "type": "bar",
         "x": [
          "$0 - $24,999",
          "$25,000 - $49,999",
          "$50,000 - $99,999",
          "$100,000 - $149,999",
          "$150,000+"
         ],
         "y": [
          16,
          16,
          23,
          14,
          15
         ]
        },
        {
         "marker": {
          "color": "rgb(0,153,0)"
         },
         "name": "No",
         "text": [
          "12%",
          "9%",
          "8%",
          "10%",
          "16%"
         ],
         "textposition": "auto",
         "type": "bar",
         "x": [
          "$0 - $24,999",
          "$25,000 - $49,999",
          "$50,000 - $99,999",
          "$100,000 - $149,999",
          "$150,000+"
         ],
         "y": [
          122,
          170,
          275,
          127,
          80
         ]
        }
       ],
       "layout": {
        "autosize": false,
        "barmode": "stack",
        "height": 400,
        "title": "Fan EU",
        "width": 750,
        "xaxis": {
         "showticklabels": false,
         "title": "Income"
        }
       }
      },
      "text/html": [
       "<div id=\"0480a372-cb68-4235-bb26-b09184ee1403\" style=\"height: 400px; width: 750px;\" class=\"plotly-graph-div\"></div><script type=\"text/javascript\">require([\"plotly\"], function(Plotly) { window.PLOTLYENV=window.PLOTLYENV || {};window.PLOTLYENV.BASE_URL=\"https://plot.ly\";Plotly.newPlot(\"0480a372-cb68-4235-bb26-b09184ee1403\", [{\"type\": \"bar\", \"x\": [\"$0 - $24,999\", \"$25,000 - $49,999\", \"$50,000 - $99,999\", \"$100,000 - $149,999\", \"$150,000+\"], \"y\": [16, 16, 23, 14, 15], \"name\": \"Yes\", \"marker\": {\"color\": \"rgb(40,0,150)\"}}, {\"type\": \"bar\", \"x\": [\"$0 - $24,999\", \"$25,000 - $49,999\", \"$50,000 - $99,999\", \"$100,000 - $149,999\", \"$150,000+\"], \"y\": [122, 170, 275, 127, 80], \"name\": \"No\", \"text\": [\"12%\", \"9%\", \"8%\", \"10%\", \"16%\"], \"textposition\": \"auto\", \"marker\": {\"color\": \"rgb(0,153,0)\"}}], {\"barmode\": \"stack\", \"title\": \"Fan EU\", \"autosize\": false, \"width\": 750, \"height\": 400, \"xaxis\": {\"title\": \"Income\", \"showticklabels\": false}}, {\"showLink\": true, \"linkText\": \"Export to plot.ly\"})});</script>"
      ],
      "text/vnd.plotly.v1+html": [
       "<div id=\"0480a372-cb68-4235-bb26-b09184ee1403\" style=\"height: 400px; width: 750px;\" class=\"plotly-graph-div\"></div><script type=\"text/javascript\">require([\"plotly\"], function(Plotly) { window.PLOTLYENV=window.PLOTLYENV || {};window.PLOTLYENV.BASE_URL=\"https://plot.ly\";Plotly.newPlot(\"0480a372-cb68-4235-bb26-b09184ee1403\", [{\"type\": \"bar\", \"x\": [\"$0 - $24,999\", \"$25,000 - $49,999\", \"$50,000 - $99,999\", \"$100,000 - $149,999\", \"$150,000+\"], \"y\": [16, 16, 23, 14, 15], \"name\": \"Yes\", \"marker\": {\"color\": \"rgb(40,0,150)\"}}, {\"type\": \"bar\", \"x\": [\"$0 - $24,999\", \"$25,000 - $49,999\", \"$50,000 - $99,999\", \"$100,000 - $149,999\", \"$150,000+\"], \"y\": [122, 170, 275, 127, 80], \"name\": \"No\", \"text\": [\"12%\", \"9%\", \"8%\", \"10%\", \"16%\"], \"textposition\": \"auto\", \"marker\": {\"color\": \"rgb(0,153,0)\"}}], {\"barmode\": \"stack\", \"title\": \"Fan EU\", \"autosize\": false, \"width\": 750, \"height\": 400, \"xaxis\": {\"title\": \"Income\", \"showticklabels\": false}}, {\"showLink\": true, \"linkText\": \"Export to plot.ly\"})});</script>"
      ]
     },
     "metadata": {},
     "output_type": "display_data"
    },
    {
     "data": {
      "application/vnd.plotly.v1+json": {
       "data": [
        {
         "marker": {
          "color": "rgb(40,0,150)"
         },
         "name": "Yes",
         "type": "bar",
         "x": [
          "$0 - $24,999",
          "$25,000 - $49,999",
          "$50,000 - $99,999",
          "$100,000 - $149,999",
          "$150,000+"
         ],
         "y": [
          52,
          68,
          128,
          60,
          42
         ]
        },
        {
         "marker": {
          "color": "rgb(0,153,0)"
         },
         "name": "No",
         "text": [
          "38%",
          "37%",
          "43%",
          "43%",
          "44%"
         ],
         "textposition": "auto",
         "type": "bar",
         "x": [
          "$0 - $24,999",
          "$25,000 - $49,999",
          "$50,000 - $99,999",
          "$100,000 - $149,999",
          "$150,000+"
         ],
         "y": [
          86,
          118,
          170,
          81,
          53
         ]
        }
       ],
       "layout": {
        "autosize": false,
        "barmode": "stack",
        "height": 400,
        "title": "Fan StarTrek",
        "width": 750,
        "xaxis": {
         "showticklabels": false,
         "title": "Income"
        }
       }
      },
      "text/html": [
       "<div id=\"32dbcbfc-0748-41e5-ac82-13de190c5f7a\" style=\"height: 400px; width: 750px;\" class=\"plotly-graph-div\"></div><script type=\"text/javascript\">require([\"plotly\"], function(Plotly) { window.PLOTLYENV=window.PLOTLYENV || {};window.PLOTLYENV.BASE_URL=\"https://plot.ly\";Plotly.newPlot(\"32dbcbfc-0748-41e5-ac82-13de190c5f7a\", [{\"type\": \"bar\", \"x\": [\"$0 - $24,999\", \"$25,000 - $49,999\", \"$50,000 - $99,999\", \"$100,000 - $149,999\", \"$150,000+\"], \"y\": [52, 68, 128, 60, 42], \"name\": \"Yes\", \"marker\": {\"color\": \"rgb(40,0,150)\"}}, {\"type\": \"bar\", \"x\": [\"$0 - $24,999\", \"$25,000 - $49,999\", \"$50,000 - $99,999\", \"$100,000 - $149,999\", \"$150,000+\"], \"y\": [86, 118, 170, 81, 53], \"name\": \"No\", \"text\": [\"38%\", \"37%\", \"43%\", \"43%\", \"44%\"], \"textposition\": \"auto\", \"marker\": {\"color\": \"rgb(0,153,0)\"}}], {\"barmode\": \"stack\", \"title\": \"Fan StarTrek\", \"autosize\": false, \"width\": 750, \"height\": 400, \"xaxis\": {\"title\": \"Income\", \"showticklabels\": false}}, {\"showLink\": true, \"linkText\": \"Export to plot.ly\"})});</script>"
      ],
      "text/vnd.plotly.v1+html": [
       "<div id=\"32dbcbfc-0748-41e5-ac82-13de190c5f7a\" style=\"height: 400px; width: 750px;\" class=\"plotly-graph-div\"></div><script type=\"text/javascript\">require([\"plotly\"], function(Plotly) { window.PLOTLYENV=window.PLOTLYENV || {};window.PLOTLYENV.BASE_URL=\"https://plot.ly\";Plotly.newPlot(\"32dbcbfc-0748-41e5-ac82-13de190c5f7a\", [{\"type\": \"bar\", \"x\": [\"$0 - $24,999\", \"$25,000 - $49,999\", \"$50,000 - $99,999\", \"$100,000 - $149,999\", \"$150,000+\"], \"y\": [52, 68, 128, 60, 42], \"name\": \"Yes\", \"marker\": {\"color\": \"rgb(40,0,150)\"}}, {\"type\": \"bar\", \"x\": [\"$0 - $24,999\", \"$25,000 - $49,999\", \"$50,000 - $99,999\", \"$100,000 - $149,999\", \"$150,000+\"], \"y\": [86, 118, 170, 81, 53], \"name\": \"No\", \"text\": [\"38%\", \"37%\", \"43%\", \"43%\", \"44%\"], \"textposition\": \"auto\", \"marker\": {\"color\": \"rgb(0,153,0)\"}}], {\"barmode\": \"stack\", \"title\": \"Fan StarTrek\", \"autosize\": false, \"width\": 750, \"height\": 400, \"xaxis\": {\"title\": \"Income\", \"showticklabels\": false}}, {\"showLink\": true, \"linkText\": \"Export to plot.ly\"})});</script>"
      ]
     },
     "metadata": {},
     "output_type": "display_data"
    }
   ],
   "source": [
    "for col in yes_no_answers:\n",
    "    stacked_bar(col)"
   ]
  },
  {
   "cell_type": "markdown",
   "metadata": {},
   "source": [
    "Explore relationship between movie ratings and income."
   ]
  },
  {
   "cell_type": "code",
   "execution_count": 23,
   "metadata": {
    "scrolled": false
   },
   "outputs": [
    {
     "data": {
      "image/png": "[encoded data removed]",
      "text/plain": [
       "<matplotlib.figure.Figure at 0x2943363c320>"
      ]
     },
     "metadata": {},
     "output_type": "display_data"
    },
    {
     "data": {
      "image/png": "[encoded data removed]",
      "text/plain": [
       "<matplotlib.figure.Figure at 0x294339da9e8>"
      ]
     },
     "metadata": {},
     "output_type": "display_data"
    },
    {
     "data": {
      "image/png": "[encoded data removed]",
      "text/plain": [
       "<matplotlib.figure.Figure at 0x29433b6e5c0>"
      ]
     },
     "metadata": {},
     "output_type": "display_data"
    },
    {
     "data": {
      "image/png": "[encoded data removed]",
      "text/plain": [
       "<matplotlib.figure.Figure at 0x29433c72b70>"
      ]
     },
     "metadata": {},
     "output_type": "display_data"
    },
    {
     "data": {
      "image/png": "[encoded data removed]",
      "text/plain": [
       "<matplotlib.figure.Figure at 0x29433f62550>"
      ]
     },
     "metadata": {},
     "output_type": "display_data"
    },
    {
     "data": {
      "image/png": "[encoded data removed]",
      "text/plain": [
       "<matplotlib.figure.Figure at 0x29433f701d0>"
      ]
     },
     "metadata": {},
     "output_type": "display_data"
    }
   ],
   "source": [
    "for col in ratings:\n",
    "    \n",
    "    fig, ax = plt.subplots(1, figsize = (8,4))\n",
    "    \n",
    "    sns.violinplot(x = df['Income'], y = df[col], ax = ax)\n",
    "    \n",
    "    ax.set_title(col + ' by Income')"
   ]
  },
  {
   "cell_type": "markdown",
   "metadata": {},
   "source": [
    "There seems to be a trend that people who are in higher income brackets have both seen and like Star Wars more than those in lower brackets. The correlation does not seem to be huge however and it may not be enough for our model to distinguish the correct classification."
   ]
  },
  {
   "cell_type": "markdown",
   "metadata": {},
   "source": [
    "# Machine Learning"
   ]
  },
  {
   "cell_type": "markdown",
   "metadata": {},
   "source": [
    "### Import scikit packages"
   ]
  },
  {
   "cell_type": "code",
   "execution_count": 24,
   "metadata": {},
   "outputs": [],
   "source": [
    "from sklearn.model_selection import train_test_split\n",
    "\n",
    "## Different models\n",
    "from sklearn.tree import DecisionTreeClassifier\n",
    "from sklearn.naive_bayes import GaussianNB\n",
    "from sklearn.neighbors import KNeighborsClassifier\n",
    "\n",
    "from sklearn.model_selection import cross_val_score\n",
    "from sklearn.metrics import confusion_matrix\n",
    "from sklearn.metrics import classification_report"
   ]
  },
  {
   "cell_type": "code",
   "execution_count": 25,
   "metadata": {
    "collapsed": true
   },
   "outputs": [],
   "source": [
    "X = df.loc[: , ['Watched Any SW', 'Fan SW', 'Ep1 Seen', 'Ep2 Seen', 'Ep3 Seen', \\\n",
    "       'Ep4 Seen', 'Ep5 Seen', 'Ep6 Seen', 'Ep1 Rate', 'Ep2 Rate', 'Ep3 Rate', \\\n",
    "       'Ep4 Rate', 'Ep5 Rate', 'Ep6 Rate', 'Who Shot First', 'Familiar EU', 'Fan EU', 'Fan StarTrek']]\n",
    "\n",
    "y = df.loc[:, 'Income']"
   ]
  },
  {
   "cell_type": "markdown",
   "metadata": {},
   "source": [
    "For the ratings, we do not want the model to think that a '6' rating is better than a '1' rating, or that a '2' and '3' add up to '5'. To avoid this issue we will convert the columns to strings, which will than be seperated when we use the get_dummies function."
   ]
  },
  {
   "cell_type": "code",
   "execution_count": 26,
   "metadata": {
    "collapsed": true
   },
   "outputs": [],
   "source": [
    "X.loc[: , ratings] = X.loc[: , ratings].astype(str)"
   ]
  },
  {
   "cell_type": "code",
   "execution_count": 27,
   "metadata": {
    "collapsed": true,
    "scrolled": true
   },
   "outputs": [],
   "source": [
    "X = pd.get_dummies(X)"
   ]
  },
  {
   "cell_type": "code",
   "execution_count": 28,
   "metadata": {
    "collapsed": true
   },
   "outputs": [],
   "source": [
    "def algorithm_checker(ind, dep, model):\n",
    "    \n",
    "    print(str(model))\n",
    "    \n",
    "    ## Split data, fit model\n",
    "    X_train, X_test, y_train, y_test = train_test_split(ind, dep, test_size = .3, random_state = 1)\n",
    "    \n",
    "    model.fit(X_train, y_train)\n",
    "    \n",
    "    ## Print general accuracy stats\n",
    "    print(\"Accuracy:\", model.score(X_test, y_test))\n",
    "    print(\"Cross Val:\", cross_val_score(model, X, y, cv = 5).mean())\n",
    "    \n",
    "    ## Confusion matrix, classification report\n",
    "    scores = model.predict(X_test)\n",
    "    labels = ['$0 - $24,999', '$25,000 - $49,999', '$50,000 - $99,999', '$100,000 - $149,999', '$150,000+']\n",
    "    labels_test = [1,2,3,4,5]\n",
    "    cm = confusion_matrix(y_test, scores, labels)\n",
    "    \n",
    "    print(\"CLASSIFICATION REPORT\")\n",
    "    print(classification_report(y_test, scores))\n",
    "    \n",
    "    fig = plt.figure(figsize = (8,8))\n",
    "    ax = fig.add_subplot(111)\n",
    "    sns.heatmap(cm.T, square=True, annot=True, fmt='d', cbar=False, ax = ax,\n",
    "                xticklabels = labels,\n",
    "                yticklabels = labels)\n",
    "    plt.xlabel('true label')\n",
    "    plt.ylabel('predicted label')\n",
    "    plt.show()"
   ]
  },
  {
   "cell_type": "code",
   "execution_count": 29,
   "metadata": {},
   "outputs": [],
   "source": [
    "## Different models were tested\n",
    "tree = DecisionTreeClassifier(max_depth = 20)\n",
    "bayes = GaussianNB()\n",
    "kmeans = KNeighborsClassifier(n_neighbors = 14)"
   ]
  },
  {
   "cell_type": "code",
   "execution_count": 30,
   "metadata": {
    "scrolled": false
   },
   "outputs": [
    {
     "name": "stdout",
     "output_type": "stream",
     "text": [
      "DecisionTreeClassifier(class_weight=None, criterion='gini', max_depth=20,\n",
      "            max_features=None, max_leaf_nodes=None,\n",
      "            min_impurity_decrease=0.0, min_impurity_split=None,\n",
      "            min_samples_leaf=1, min_samples_split=2,\n",
      "            min_weight_fraction_leaf=0.0, presort=False, random_state=None,\n",
      "            splitter='best')\n",
      "Accuracy: 0.251937984496\n",
      "Cross Val: 0.2529534412\n",
      "CLASSIFICATION REPORT\n",
      "                     precision    recall  f1-score   support\n",
      "\n",
      "       $0 - $24,999       0.30      0.21      0.25        42\n",
      "$100,000 - $149,999       0.07      0.09      0.08        33\n",
      "          $150,000+       0.15      0.16      0.16        25\n",
      "  $25,000 - $49,999       0.16      0.12      0.13        59\n",
      "  $50,000 - $99,999       0.37      0.42      0.39        99\n",
      "\n",
      "        avg / total       0.25      0.25      0.25       258\n",
      "\n"
     ]
    },
    {
     "data": {
      "image/png": "[encoded data removed]",
      "text/plain": [
       "<matplotlib.figure.Figure at 0x2942cb98630>"
      ]
     },
     "metadata": {},
     "output_type": "display_data"
    },
    {
     "name": "stdout",
     "output_type": "stream",
     "text": [
      "GaussianNB(priors=None)\n",
      "Accuracy: 0.217054263566\n",
      "Cross Val: 0.151920530843\n",
      "CLASSIFICATION REPORT\n",
      "                     precision    recall  f1-score   support\n",
      "\n",
      "       $0 - $24,999       0.21      0.36      0.26        42\n",
      "$100,000 - $149,999       0.05      0.09      0.07        33\n",
      "          $150,000+       0.17      0.28      0.21        25\n",
      "  $25,000 - $49,999       0.25      0.10      0.14        59\n",
      "  $50,000 - $99,999       0.40      0.25      0.31        99\n",
      "\n",
      "        avg / total       0.27      0.22      0.22       258\n",
      "\n"
     ]
    },
    {
     "data": {
      "image/png": "[encoded data removed]",
      "text/plain": [
       "<matplotlib.figure.Figure at 0x294342ef9b0>"
      ]
     },
     "metadata": {},
     "output_type": "display_data"
    },
    {
     "name": "stdout",
     "output_type": "stream",
     "text": [
      "KNeighborsClassifier(algorithm='auto', leaf_size=30, metric='minkowski',\n",
      "           metric_params=None, n_jobs=1, n_neighbors=14, p=2,\n",
      "           weights='uniform')\n",
      "Accuracy: 0.294573643411\n",
      "Cross Val: 0.292423699231\n",
      "CLASSIFICATION REPORT\n",
      "                     precision    recall  f1-score   support\n",
      "\n",
      "       $0 - $24,999       0.14      0.07      0.10        42\n",
      "$100,000 - $149,999       0.08      0.09      0.09        33\n",
      "          $150,000+       0.29      0.08      0.12        25\n",
      "  $25,000 - $49,999       0.27      0.37      0.31        59\n",
      "  $50,000 - $99,999       0.41      0.46      0.44        99\n",
      "\n",
      "        avg / total       0.28      0.29      0.28       258\n",
      "\n"
     ]
    },
    {
     "data": {
      "image/png": "[encoded data removed]",
      "text/plain": [
       "<matplotlib.figure.Figure at 0x2943591cef0>"
      ]
     },
     "metadata": {},
     "output_type": "display_data"
    }
   ],
   "source": [
    "for model in [tree,bayes,kmeans]:    \n",
    "    algorithm_checker(X, y, model)"
   ]
  },
  {
   "cell_type": "markdown",
   "metadata": {},
   "source": [
    "Model Notes\n",
    "\n",
    "- All Models generally like to predict most on the 50-99k classification- inbalanced dataset\n",
    "- Tree Model\n",
    "    - At low depth tree bets all on 50-99k range\n",
    "    - When max depth is increased we can start to see some seperation\n",
    "    - Still performs the worst of all three models\n",
    "- Gaussian Bayes Model\n",
    "    - Performs much better than tree\n",
    "    - Does not put everything on 50-99k\n",
    "    - Still very inaccurate   \n",
    "- KMeans\n",
    "    - Most accurate model\n",
    "    - Still bets majority onto 50-99k range\n",
    "    - Sweet spot for n neighbors right around 14\n",
    "        - If too few neighbors model predicts all on 50-99K range\n",
    "        - Too few and model becomes less accurate\n",
    " "
   ]
  },
  {
   "cell_type": "markdown",
   "metadata": {},
   "source": [
    "### Conclusion"
   ]
  },
  {
   "cell_type": "markdown",
   "metadata": {},
   "source": [
    "We had some small success in predicting a person's income bracket. Our best model showed 29% accuracy which is still better than guessing which would be around 20%. With this being said none of the models we tested really performs extraordinarily. I believe this is because in the end people's preference towards Star Wars just does not have a very high correlation with income. It would interesting to see if we had a bigger set and could train the model on more data, if the models would be able to identify slight differences better."
   ]
  }
 ],
 "metadata": {
  "kernelspec": {
   "display_name": "Python 3",
   "language": "python",
   "name": "python3"
  },
  "language_info": {
   "codemirror_mode": {
    "name": "ipython",
    "version": 3
   },
   "file_extension": ".py",
   "mimetype": "text/x-python",
   "name": "python",
   "nbconvert_exporter": "python",
   "pygments_lexer": "ipython3",
   "version": "3.6.2"
  }
 },
 "nbformat": 4,
 "nbformat_minor": 2
}
